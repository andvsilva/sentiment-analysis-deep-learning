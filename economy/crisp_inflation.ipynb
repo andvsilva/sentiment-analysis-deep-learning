{
 "cells": [
  {
   "cell_type": "code",
   "execution_count": null,
   "metadata": {},
   "outputs": [],
   "source": [
    "### >>> Author: @andvsilva - ter 09 mai 2023 21:56:15"
   ]
  },
  {
   "attachments": {},
   "cell_type": "markdown",
   "metadata": {},
   "source": [
    "The CRISP (Cross-Industry Standard Process) approach is a widely used framework for carrying out data science projects. It consists of six main stages:\n",
    "\n",
    "1. Business Understanding\n",
    "2. Data Understanding\n",
    "3. Data Preparation\n",
    "4. Modeling\n",
    "5. Evaluation\n",
    "6. Deployment"
   ]
  },
  {
   "attachments": {},
   "cell_type": "markdown",
   "metadata": {},
   "source": [
    "Global Inflation Dataset - (1970~2022)\n"
   ]
  },
  {
   "cell_type": "code",
   "execution_count": 14,
   "metadata": {},
   "outputs": [],
   "source": [
    "### source: https://www.kaggle.com/datasets/belayethossainds/global-inflation-dataset-212-country-19702022?resource=download"
   ]
  },
  {
   "attachments": {},
   "cell_type": "markdown",
   "metadata": {},
   "source": [
    "# About Dataset\n",
    "\n",
    "# Global Energy, Food, Consumer, and Producer Price Inflation: A Comprehensive Dataset for Understanding Economic Trends\n",
    "\n",
    "## Key Concepts:\n",
    "\n",
    "    - Energy Consumer Price Inflation data.\n",
    "    - Food Consumer Price Inflation data.\n",
    "    - Headline Consumer Price Inflation data.\n",
    "    - Official Core Consumer Price Inflation data.\n",
    "    - Producer Price Inflation data.\n",
    "    - 206 Countries name, Country code and IMF code.\n",
    "    - 52 Years data from 1970 to 2022.\n"
   ]
  },
  {
   "attachments": {},
   "cell_type": "markdown",
   "metadata": {},
   "source": [
    "The global economy is highly complex, and understanding economic trends and patterns is crucial for making informed decisions about investments, policies, and more. One key factor that impacts the economy is inflation, which refers to the rate at which prices increase over time. The Global Energy, Food, Consumer, and Producer Price Inflation dataset provides a comprehensive collection of inflation rates across 206 countries from 1970 to 2022, covering four critical sectors of the economy.\n",
    "\n",
    "Finally, the Global Producer Price Inflation dataset provides a detailed look at price changes at the producer level, providing insights into supply chain dynamics and trends. This data can be used to make informed decisions about investments in various sectors of the economy and to develop effective policies to manage producer price inflation.\n",
    "\n",
    "In conclusion, the Global Energy, Food, Consumer, and Producer Price Inflation dataset provides a comprehensive resource for understanding economic trends and patterns across 206 countries. By examining this data, analysts can gain insights into the complex factors that impact the economy and make informed decisions about investments, policies, and more."
   ]
  },
  {
   "attachments": {},
   "cell_type": "markdown",
   "metadata": {},
   "source": [
    "1. Economists and economic researchers\n",
    "2. Policy makers and government officials\n",
    "3. Investors and financial analysts\n",
    "4. Agricultural researchers and policymakers\n",
    "5. Energy analysts and policy makers\n",
    "6. Food industry professionals\n",
    "7. Business leaders and decision makers\n",
    "8. Academics and students in economics, finance, and related fields"
   ]
  },
  {
   "cell_type": "code",
   "execution_count": 15,
   "metadata": {},
   "outputs": [],
   "source": [
    "import pandas as pd"
   ]
  },
  {
   "cell_type": "code",
   "execution_count": 16,
   "metadata": {},
   "outputs": [],
   "source": [
    "## About this file\n",
    "\n",
    "## This dataset provides a comprehensive collection of inflation rates \n",
    "## across 206 countries from 1970 to 2022. It covers four critical \n",
    "## sectors of the economy: energy, food, consumer, and producer price inflation."
   ]
  },
  {
   "cell_type": "code",
   "execution_count": 19,
   "metadata": {},
   "outputs": [
    {
     "data": {
      "text/html": [
       "<div>\n",
       "<style scoped>\n",
       "    .dataframe tbody tr th:only-of-type {\n",
       "        vertical-align: middle;\n",
       "    }\n",
       "\n",
       "    .dataframe tbody tr th {\n",
       "        vertical-align: top;\n",
       "    }\n",
       "\n",
       "    .dataframe thead th {\n",
       "        text-align: right;\n",
       "    }\n",
       "</style>\n",
       "<table border=\"1\" class=\"dataframe\">\n",
       "  <thead>\n",
       "    <tr style=\"text-align: right;\">\n",
       "      <th></th>\n",
       "      <th>Country Code</th>\n",
       "      <th>IMF Country Code</th>\n",
       "      <th>Country</th>\n",
       "      <th>Indicator Type</th>\n",
       "      <th>Series Name</th>\n",
       "      <th>1970</th>\n",
       "      <th>1971</th>\n",
       "      <th>1972</th>\n",
       "      <th>1973</th>\n",
       "      <th>1974</th>\n",
       "      <th>...</th>\n",
       "      <th>2019</th>\n",
       "      <th>2020</th>\n",
       "      <th>2021</th>\n",
       "      <th>2022</th>\n",
       "      <th>Note</th>\n",
       "      <th>Unnamed: 59</th>\n",
       "      <th>Unnamed: 60</th>\n",
       "      <th>Unnamed: 61</th>\n",
       "      <th>Unnamed: 62</th>\n",
       "      <th>Unnamed: 63</th>\n",
       "    </tr>\n",
       "  </thead>\n",
       "  <tbody>\n",
       "    <tr>\n",
       "      <th>0</th>\n",
       "      <td>ABW</td>\n",
       "      <td>314.0</td>\n",
       "      <td>Aruba</td>\n",
       "      <td>Inflation</td>\n",
       "      <td>Headline Consumer Price Inflation</td>\n",
       "      <td>NaN</td>\n",
       "      <td>NaN</td>\n",
       "      <td>NaN</td>\n",
       "      <td>NaN</td>\n",
       "      <td>NaN</td>\n",
       "      <td>...</td>\n",
       "      <td>4.26</td>\n",
       "      <td>1.22</td>\n",
       "      <td>0.74</td>\n",
       "      <td>6.04</td>\n",
       "      <td>Annual average inflation</td>\n",
       "      <td>NaN</td>\n",
       "      <td>NaN</td>\n",
       "      <td>NaN</td>\n",
       "      <td>NaN</td>\n",
       "      <td>NaN</td>\n",
       "    </tr>\n",
       "    <tr>\n",
       "      <th>1</th>\n",
       "      <td>AFG</td>\n",
       "      <td>512.0</td>\n",
       "      <td>Afghanistan</td>\n",
       "      <td>Inflation</td>\n",
       "      <td>Headline Consumer Price Inflation</td>\n",
       "      <td>25.51</td>\n",
       "      <td>25.51</td>\n",
       "      <td>-12.52</td>\n",
       "      <td>-10.68</td>\n",
       "      <td>10.23</td>\n",
       "      <td>...</td>\n",
       "      <td>2.30</td>\n",
       "      <td>5.44</td>\n",
       "      <td>5.06</td>\n",
       "      <td>NaN</td>\n",
       "      <td>Annual average inflation</td>\n",
       "      <td>NaN</td>\n",
       "      <td>NaN</td>\n",
       "      <td>NaN</td>\n",
       "      <td>NaN</td>\n",
       "      <td>NaN</td>\n",
       "    </tr>\n",
       "    <tr>\n",
       "      <th>2</th>\n",
       "      <td>AGO</td>\n",
       "      <td>614.0</td>\n",
       "      <td>Angola</td>\n",
       "      <td>Inflation</td>\n",
       "      <td>Headline Consumer Price Inflation</td>\n",
       "      <td>7.97</td>\n",
       "      <td>5.78</td>\n",
       "      <td>15.80</td>\n",
       "      <td>15.67</td>\n",
       "      <td>27.42</td>\n",
       "      <td>...</td>\n",
       "      <td>17.08</td>\n",
       "      <td>21.02</td>\n",
       "      <td>23.85</td>\n",
       "      <td>21.35</td>\n",
       "      <td>Annual average inflation</td>\n",
       "      <td>NaN</td>\n",
       "      <td>NaN</td>\n",
       "      <td>NaN</td>\n",
       "      <td>NaN</td>\n",
       "      <td>NaN</td>\n",
       "    </tr>\n",
       "  </tbody>\n",
       "</table>\n",
       "<p>3 rows × 64 columns</p>\n",
       "</div>"
      ],
      "text/plain": [
       "  Country Code  IMF Country Code      Country Indicator Type  \\\n",
       "0          ABW             314.0        Aruba      Inflation   \n",
       "1          AFG             512.0  Afghanistan      Inflation   \n",
       "2          AGO             614.0       Angola      Inflation   \n",
       "\n",
       "                         Series Name   1970   1971   1972   1973   1974  ...  \\\n",
       "0  Headline Consumer Price Inflation    NaN    NaN    NaN    NaN    NaN  ...   \n",
       "1  Headline Consumer Price Inflation  25.51  25.51 -12.52 -10.68  10.23  ...   \n",
       "2  Headline Consumer Price Inflation   7.97   5.78  15.80  15.67  27.42  ...   \n",
       "\n",
       "    2019   2020   2021   2022                      Note  Unnamed: 59  \\\n",
       "0   4.26   1.22   0.74   6.04  Annual average inflation          NaN   \n",
       "1   2.30   5.44   5.06    NaN  Annual average inflation          NaN   \n",
       "2  17.08  21.02  23.85  21.35  Annual average inflation          NaN   \n",
       "\n",
       "   Unnamed: 60  Unnamed: 61  Unnamed: 62  Unnamed: 63  \n",
       "0          NaN          NaN          NaN          NaN  \n",
       "1          NaN          NaN          NaN          NaN  \n",
       "2          NaN          NaN          NaN          NaN  \n",
       "\n",
       "[3 rows x 64 columns]"
      ]
     },
     "execution_count": 19,
     "metadata": {},
     "output_type": "execute_result"
    }
   ],
   "source": [
    "df_cpi = pd.read_csv('dataset/Global_Dataset_Inflation.csv', encoding='latin-1')\n",
    "df_cpi.head(3)"
   ]
  },
  {
   "cell_type": "code",
   "execution_count": 20,
   "metadata": {},
   "outputs": [
    {
     "data": {
      "text/plain": [
       "Index(['Country Code', 'IMF Country Code', 'Country', 'Indicator Type',\n",
       "       'Series Name', '1970', '1971', '1972', '1973', '1974', '1975', '1976',\n",
       "       '1977', '1978', '1979', '1980', '1981', '1982', '1983', '1984', '1985',\n",
       "       '1986', '1987', '1988', '1989', '1990', '1991', '1992', '1993', '1994',\n",
       "       '1995', '1996', '1997', '1998', '1999', '2000', '2001', '2002', '2003',\n",
       "       '2004', '2005', '2006', '2007', '2008', '2009', '2010', '2011', '2012',\n",
       "       '2013', '2014', '2015', '2016', '2017', '2018', '2019', '2020', '2021',\n",
       "       '2022', 'Note', 'Unnamed: 59', 'Unnamed: 60', 'Unnamed: 61',\n",
       "       'Unnamed: 62', 'Unnamed: 63'],\n",
       "      dtype='object')"
      ]
     },
     "execution_count": 20,
     "metadata": {},
     "output_type": "execute_result"
    }
   ],
   "source": [
    "df_cpi.columns"
   ]
  },
  {
   "cell_type": "code",
   "execution_count": 21,
   "metadata": {},
   "outputs": [
    {
     "data": {
      "text/plain": [
       "(783, 64)"
      ]
     },
     "execution_count": 21,
     "metadata": {},
     "output_type": "execute_result"
    }
   ],
   "source": [
    "df_cpi.shape"
   ]
  },
  {
   "attachments": {},
   "cell_type": "markdown",
   "metadata": {},
   "source": [
    "### 1 - Business Understanding"
   ]
  }
 ],
 "metadata": {
  "kernelspec": {
   "display_name": "Python 3",
   "language": "python",
   "name": "python3"
  },
  "language_info": {
   "codemirror_mode": {
    "name": "ipython",
    "version": 3
   },
   "file_extension": ".py",
   "mimetype": "text/x-python",
   "name": "python",
   "nbconvert_exporter": "python",
   "pygments_lexer": "ipython3",
   "version": "3.10.10"
  },
  "orig_nbformat": 4
 },
 "nbformat": 4,
 "nbformat_minor": 2
}

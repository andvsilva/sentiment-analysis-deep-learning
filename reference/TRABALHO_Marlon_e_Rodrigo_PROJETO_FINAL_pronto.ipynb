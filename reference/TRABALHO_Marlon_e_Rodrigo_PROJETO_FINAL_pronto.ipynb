{
  "cells": [
    {
      "cell_type": "markdown",
      "metadata": {
        "id": "JV-evHyaUgNn"
      },
      "source": [
        "**FGV EPGE - Escola de Pós-graduação em Economia**\n",
        "==\n",
        "**Trabalho da Disciplina Machine Learning**\n",
        "==\n",
        "Professores: Genaro Lins e Rafael Martins de Souza\n",
        "\n",
        "\n",
        "Monitora: Maria Gabriela Gontijo\n",
        "\n",
        "**Tema: Predição de Default com Técnicas de Machine Learning**\n",
        "==\n",
        "Alunos: Marlon Marques Almeida e Rodrigo Ferreira Saraiva da Fonseca\n",
        "\n",
        "Data: 17/12/2021\n"
      ]
    },
    {
      "cell_type": "markdown",
      "metadata": {
        "id": "FDBjHfSgVKeJ"
      },
      "source": [
        "#Objetivo"
      ]
    },
    {
      "cell_type": "markdown",
      "metadata": {
        "id": "yeuAoH0KVVwz"
      },
      "source": [
        "O objetivo deste trabalho é apresentar e comparar algumas técnicas de machine learning para classificação supervisionada.\n",
        "\n",
        "Será utilizada uma base com dados socio-econômicos para predição da probabilidade de default de cartão de crédito.\n",
        "\n",
        "As instituições financeiras tem como base do seu negócio captação de recursos para aplicação dos mesmos aos tomadores. Esse ciclo econônico é de extrema importância para atividade econômica. No entanto, quando temos alto grau de inadimplência, esse ciclo pode ficar comprometido, impactando toda economia. \n",
        "\n",
        "As instituições financeiras têm investido cada vez mais em análise de dados e modelos para predição de propabilidade de defaut, buscando redução dessa indadimplência. Com o advento do Open Banking no Brasil, a minimização da ocorrência de defaults torna-se ainda mais importante para manutenção e crescimento de uma instiuição. \n",
        "\n",
        "No trabalho, utilizamos uma base de dados da American Express de usuários dos EUA objetivando uma classificação da probabilidade de default.\n",
        "\n",
        "A título de curiosidade, abaixo colocamos volume de concessão de limites de cartões crédito na pessoa física no Brasil nos últimos anos e a indimplência nessa linha de crédito. "
      ]
    },
    {
      "cell_type": "code",
      "execution_count": null,
      "metadata": {
        "id": "j3toP1CDTet9"
      },
      "outputs": [
        {
          "ename": "",
          "evalue": "",
          "output_type": "error",
          "traceback": [
            "\u001b[1;31mFailed to start the Kernel. \n",
            "\u001b[1;31mJupyter server crashed. Unable to connect. \n",
            "\u001b[1;31mError code from Jupyter: 1\n",
            "\u001b[1;31mTraceback (most recent call last):\n",
            "\u001b[1;31m  File \"/home/andsilva/.local/bin/jupyter-notebook\", line 5, in <module>\n",
            "\u001b[1;31m    from notebook.notebookapp import main\n",
            "\u001b[1;31m  File \"/home/andsilva/.local/lib/python3.10/site-packages/notebook/notebookapp.py\", line 57, in <module>\n",
            "\u001b[1;31m    raise ImportError(_(\"The Jupyter Notebook requires tornado >= 5.0, but you have %s\") % tornado.version)\n",
            "\u001b[1;31mImportError: The Jupyter Notebook requires tornado >= 5.0, but you have 4.5.3. \n",
            "\u001b[1;31mView Jupyter <a href='command:jupyter.viewOutput'>log</a> for further details."
          ]
        }
      ],
      "source": [
        "import pandas as pd\n",
        "#Declaração do código da série de interesse -  Concessões - Pessoas físicas - Cartão de crédito total\n",
        "codigo = 20682\n",
        "#Declaração da URLInadimplência da carteira - Pessoas físicas - Cartão de crédito total\n",
        "codigo2 = 21129\n",
        "#Declaração da URL\n",
        "url = 'http://api.bcb.gov.br/dados/serie/bcdata.sgs.{}/dados?formato=json'.format(codigo)\n",
        "url2 = 'http://api.bcb.gov.br/dados/serie/bcdata.sgs.{}/dados?formato=json'.format(codigo2)\n",
        "\n",
        "concessaocartaocreidopf = pd.read_json(url)\n",
        "inadimplencia = pd.read_json(url2)\n",
        "concessaocartaocreidopf['data'] = pd.to_datetime(concessaocartaocreidopf['data'], format = '%d/%m/%Y')\n",
        "inadimplencia['data'] = pd.to_datetime(inadimplencia['data'], format = '%d/%m/%Y')\n"
      ]
    },
    {
      "cell_type": "code",
      "execution_count": null,
      "metadata": {
        "colab": {
          "base_uri": "https://localhost:8080/",
          "height": 289
        },
        "id": "lpBMuQm3TNKR",
        "outputId": "70c3687e-8c6f-408b-84a9-50190ff2e237"
      },
      "outputs": [
        {
          "ename": "",
          "evalue": "",
          "output_type": "error",
          "traceback": [
            "\u001b[1;31mFailed to start the Kernel. \n",
            "\u001b[1;31mJupyter server crashed. Unable to connect. \n",
            "\u001b[1;31mError code from Jupyter: 1\n",
            "\u001b[1;31mTraceback (most recent call last):\n",
            "\u001b[1;31m  File \"/home/andsilva/.local/bin/jupyter-notebook\", line 5, in <module>\n",
            "\u001b[1;31m    from notebook.notebookapp import main\n",
            "\u001b[1;31m  File \"/home/andsilva/.local/lib/python3.10/site-packages/notebook/notebookapp.py\", line 57, in <module>\n",
            "\u001b[1;31m    raise ImportError(_(\"The Jupyter Notebook requires tornado >= 5.0, but you have %s\") % tornado.version)\n",
            "\u001b[1;31mImportError: The Jupyter Notebook requires tornado >= 5.0, but you have 4.5.3. \n",
            "\u001b[1;31mView Jupyter <a href='command:jupyter.viewOutput'>log</a> for further details."
          ]
        }
      ],
      "source": [
        "#Construíndo Gráficos das Variáveis no Tempo \n",
        "import seaborn as sns\n",
        "g1 = sns.relplot(data=inadimplencia, x=\"data\", y=\"valor\",kind=\"line\", palette=\"crest\", linewidth=4,height=2, aspect=8, legend=True)\n",
        "g2 = sns.relplot(data=concessaocartaocreidopf, x=\"data\", y=\"valor\",kind=\"line\", palette=\"crest\", linewidth=4,height=2, aspect=8, legend=True)\n"
      ]
    },
    {
      "cell_type": "code",
      "execution_count": null,
      "metadata": {
        "colab": {
          "base_uri": "https://localhost:8080/",
          "height": 206
        },
        "id": "KEUI2ENHWtnt",
        "outputId": "d3a76298-173f-4f21-c86a-396e2b9da320"
      },
      "outputs": [
        {
          "ename": "",
          "evalue": "",
          "output_type": "error",
          "traceback": [
            "\u001b[1;31mFailed to start the Kernel. \n",
            "\u001b[1;31mJupyter server crashed. Unable to connect. \n",
            "\u001b[1;31mError code from Jupyter: 1\n",
            "\u001b[1;31mTraceback (most recent call last):\n",
            "\u001b[1;31m  File \"/home/andsilva/.local/bin/jupyter-notebook\", line 5, in <module>\n",
            "\u001b[1;31m    from notebook.notebookapp import main\n",
            "\u001b[1;31m  File \"/home/andsilva/.local/lib/python3.10/site-packages/notebook/notebookapp.py\", line 57, in <module>\n",
            "\u001b[1;31m    raise ImportError(_(\"The Jupyter Notebook requires tornado >= 5.0, but you have %s\") % tornado.version)\n",
            "\u001b[1;31mImportError: The Jupyter Notebook requires tornado >= 5.0, but you have 4.5.3. \n",
            "\u001b[1;31mView Jupyter <a href='command:jupyter.viewOutput'>log</a> for further details."
          ]
        }
      ],
      "source": [
        "inadimplencia.tail()"
      ]
    },
    {
      "cell_type": "code",
      "execution_count": null,
      "metadata": {
        "colab": {
          "base_uri": "https://localhost:8080/",
          "height": 206
        },
        "id": "o09PAP3WXEJW",
        "outputId": "8cb37564-6b18-4273-bb1d-c094df3024b8"
      },
      "outputs": [
        {
          "ename": "",
          "evalue": "",
          "output_type": "error",
          "traceback": [
            "\u001b[1;31mFailed to start the Kernel. \n",
            "\u001b[1;31mJupyter server crashed. Unable to connect. \n",
            "\u001b[1;31mError code from Jupyter: 1\n",
            "\u001b[1;31mTraceback (most recent call last):\n",
            "\u001b[1;31m  File \"/home/andsilva/.local/bin/jupyter-notebook\", line 5, in <module>\n",
            "\u001b[1;31m    from notebook.notebookapp import main\n",
            "\u001b[1;31m  File \"/home/andsilva/.local/lib/python3.10/site-packages/notebook/notebookapp.py\", line 57, in <module>\n",
            "\u001b[1;31m    raise ImportError(_(\"The Jupyter Notebook requires tornado >= 5.0, but you have %s\") % tornado.version)\n",
            "\u001b[1;31mImportError: The Jupyter Notebook requires tornado >= 5.0, but you have 4.5.3. \n",
            "\u001b[1;31mView Jupyter <a href='command:jupyter.viewOutput'>log</a> for further details."
          ]
        }
      ],
      "source": [
        "concessaocartaocreidopf.tail()"
      ]
    },
    {
      "cell_type": "markdown",
      "metadata": {
        "id": "4I8-lzNBxWPP"
      },
      "source": [
        "# Default\n",
        "\n",
        "Defaut pode ser entendido como não pagamento de alguma obrigação, trazendo prejuízo para pessoas físicas, instituições financeiras, empresas e para economia como um todo.\n",
        "\n",
        "Existem vários estudos e algoritimos para análise de padrões na concessão de crédito, principalmente em grandes instuições, visando reduzir o impacto da inadimplência em sua carteira de clientes. \n",
        "\n",
        "*Mariane Daros e Nelson Guilherme Machado Pinto* colocam que: \"Nenhuma empresa deseja ter inadimplentes em sua carteira de clientes. Assim, conhecer o perfil de seus atuais clientes e compreender as causas dos inadimplentes são alguns dos meios para evitar tal fenômeno\".\n",
        "\n",
        "Olhando para lado da pessoa física, existem inúmeros fenônemos que podem contribuir para o aumento da inadimplência, um exemplo em evidência nos últimos ano é a pandemia da COVID-19.\n",
        "\n",
        "Normalmente ela ocorre por diversos fatores, desde redução na renda até esquecimento do vencimento da dívida.\n",
        "\n",
        "Quando vamos para Cenário da Inadimplência na Pessoa Jurídica, também observamos inúmeros fatores que contribuem para tal, como redução de vendas, aumento de impostos ou taxa juros, dentre muitos outros.\n",
        "\n",
        "Cabe destacar que inadimplência como consequência desses fatores podem levar  a crises ecônomicas enormes, como foi, por exemplo, a crise imobiliária nos EUA em 2009, que impactou o mundo tudo.\n"
      ]
    },
    {
      "cell_type": "markdown",
      "metadata": {
        "id": "f4wgebDMVL5T"
      },
      "source": [
        "#Base de dados"
      ]
    },
    {
      "cell_type": "markdown",
      "metadata": {
        "id": "6u5ifySkJqs9"
      },
      "source": [
        "A base de dados utilizada está disponível no Kaggle e foi utilizada na competição AmExpert 2021 CODELAB – Machine Learning Hackathon.\n",
        "\n",
        "https://www.kaggle.com/pradip11/amexpert-codelab-2021"
      ]
    },
    {
      "cell_type": "markdown",
      "metadata": {
        "id": "FlTxgiJjcU0y"
      },
      "source": [
        "Configurações iniciais"
      ]
    },
    {
      "cell_type": "code",
      "execution_count": null,
      "metadata": {
        "colab": {
          "base_uri": "https://localhost:8080/"
        },
        "id": "JvCP-GIhJrCN",
        "outputId": "ed1f5ce1-5274-4691-9bde-3b2d00a66354"
      },
      "outputs": [
        {
          "ename": "",
          "evalue": "",
          "output_type": "error",
          "traceback": [
            "\u001b[1;31mFailed to start the Kernel. \n",
            "\u001b[1;31mJupyter server crashed. Unable to connect. \n",
            "\u001b[1;31mError code from Jupyter: 1\n",
            "\u001b[1;31mTraceback (most recent call last):\n",
            "\u001b[1;31m  File \"/home/andsilva/.local/bin/jupyter-notebook\", line 5, in <module>\n",
            "\u001b[1;31m    from notebook.notebookapp import main\n",
            "\u001b[1;31m  File \"/home/andsilva/.local/lib/python3.10/site-packages/notebook/notebookapp.py\", line 57, in <module>\n",
            "\u001b[1;31m    raise ImportError(_(\"The Jupyter Notebook requires tornado >= 5.0, but you have %s\") % tornado.version)\n",
            "\u001b[1;31mImportError: The Jupyter Notebook requires tornado >= 5.0, but you have 4.5.3. \n",
            "\u001b[1;31mView Jupyter <a href='command:jupyter.viewOutput'>log</a> for further details."
          ]
        }
      ],
      "source": [
        "import pandas as pd\n",
        "import numpy as np\n",
        "import matplotlib.pyplot as plt\n",
        "import os\n",
        "from google.colab import drive \n",
        "drive.mount('/content/drive')\n",
        "np.random.seed(42)"
      ]
    },
    {
      "cell_type": "markdown",
      "metadata": {
        "id": "lLbaexoqcYPh"
      },
      "source": [
        "##Importando a base de dados"
      ]
    },
    {
      "cell_type": "code",
      "execution_count": null,
      "metadata": {
        "id": "JGPCMD88KXYr"
      },
      "outputs": [
        {
          "ename": "",
          "evalue": "",
          "output_type": "error",
          "traceback": [
            "\u001b[1;31mFailed to start the Kernel. \n",
            "\u001b[1;31mJupyter server crashed. Unable to connect. \n",
            "\u001b[1;31mError code from Jupyter: 1\n",
            "\u001b[1;31mTraceback (most recent call last):\n",
            "\u001b[1;31m  File \"/home/andsilva/.local/bin/jupyter-notebook\", line 5, in <module>\n",
            "\u001b[1;31m    from notebook.notebookapp import main\n",
            "\u001b[1;31m  File \"/home/andsilva/.local/lib/python3.10/site-packages/notebook/notebookapp.py\", line 57, in <module>\n",
            "\u001b[1;31m    raise ImportError(_(\"The Jupyter Notebook requires tornado >= 5.0, but you have %s\") % tornado.version)\n",
            "\u001b[1;31mImportError: The Jupyter Notebook requires tornado >= 5.0, but you have 4.5.3. \n",
            "\u001b[1;31mView Jupyter <a href='command:jupyter.viewOutput'>log</a> for further details."
          ]
        }
      ],
      "source": [
        "#Importando do drive do Marlon\n",
        "df=pd.read_csv('/content/drive/MyDrive/PROJETO-FINAL-MACHINE-LEARNING/train.csv')"
      ]
    },
    {
      "cell_type": "code",
      "execution_count": null,
      "metadata": {
        "id": "0-nFKv7lwyut"
      },
      "outputs": [
        {
          "ename": "",
          "evalue": "",
          "output_type": "error",
          "traceback": [
            "\u001b[1;31mFailed to start the Kernel. \n",
            "\u001b[1;31mJupyter server crashed. Unable to connect. \n",
            "\u001b[1;31mError code from Jupyter: 1\n",
            "\u001b[1;31mTraceback (most recent call last):\n",
            "\u001b[1;31m  File \"/home/andsilva/.local/bin/jupyter-notebook\", line 5, in <module>\n",
            "\u001b[1;31m    from notebook.notebookapp import main\n",
            "\u001b[1;31m  File \"/home/andsilva/.local/lib/python3.10/site-packages/notebook/notebookapp.py\", line 57, in <module>\n",
            "\u001b[1;31m    raise ImportError(_(\"The Jupyter Notebook requires tornado >= 5.0, but you have %s\") % tornado.version)\n",
            "\u001b[1;31mImportError: The Jupyter Notebook requires tornado >= 5.0, but you have 4.5.3. \n",
            "\u001b[1;31mView Jupyter <a href='command:jupyter.viewOutput'>log</a> for further details."
          ]
        }
      ],
      "source": [
        "#Importando do drive do Rodrigo\n",
        "#os.chdir('/content/drive/MyDrive/Colab Notebooks/FGV MFEE 2021/Machine Learning/Trabalho Final')\n",
        "#df=pd.read_csv('train.csv')"
      ]
    },
    {
      "cell_type": "markdown",
      "metadata": {
        "id": "CTuFKnN3VSdu"
      },
      "source": [
        "##Verificando a base de dados"
      ]
    },
    {
      "cell_type": "code",
      "execution_count": null,
      "metadata": {
        "colab": {
          "base_uri": "https://localhost:8080/",
          "height": 305
        },
        "id": "ub_B-pga9PW8",
        "outputId": "32a7d912-a2ec-4f9b-f897-63b2270f2bd8"
      },
      "outputs": [
        {
          "ename": "",
          "evalue": "",
          "output_type": "error",
          "traceback": [
            "\u001b[1;31mFailed to start the Kernel. \n",
            "\u001b[1;31mJupyter server crashed. Unable to connect. \n",
            "\u001b[1;31mError code from Jupyter: 1\n",
            "\u001b[1;31mTraceback (most recent call last):\n",
            "\u001b[1;31m  File \"/home/andsilva/.local/bin/jupyter-notebook\", line 5, in <module>\n",
            "\u001b[1;31m    from notebook.notebookapp import main\n",
            "\u001b[1;31m  File \"/home/andsilva/.local/lib/python3.10/site-packages/notebook/notebookapp.py\", line 57, in <module>\n",
            "\u001b[1;31m    raise ImportError(_(\"The Jupyter Notebook requires tornado >= 5.0, but you have %s\") % tornado.version)\n",
            "\u001b[1;31mImportError: The Jupyter Notebook requires tornado >= 5.0, but you have 4.5.3. \n",
            "\u001b[1;31mView Jupyter <a href='command:jupyter.viewOutput'>log</a> for further details."
          ]
        }
      ],
      "source": [
        "df.head()"
      ]
    },
    {
      "cell_type": "markdown",
      "metadata": {
        "id": "pSmYE2DtmLrw"
      },
      "source": [
        "Descrição das variáveis:\n",
        "\n",
        "\n",
        "**customer_id** -\tRepresents the unique identification of a customer\n",
        "\n",
        "**name** - \tRepresents the name of a customer\n",
        "\n",
        "**age** -\tRepresents the age of a customer ( in years ) \n",
        "\n",
        "**gender** -\tRepresents the gender of a customer( F means Female and M means Male  )\n",
        "\n",
        "**owns_car** -\tRepresents whether a customer owns a car ( Y means Yes and N means No  )\n",
        "\n",
        "**owns_house** - Represents whether a customer owns a house ( Y means Yes and N means No  )\n",
        "\n",
        "**no_of_children**\t- Represents the number of children of a customer\n",
        "\n",
        "**net_yearly_income**\t- Represents the net yearly income of a customer ( in USD )\n",
        "\n",
        "**no_of_days_employed**\t- Represents the no of days employed\n",
        "\n",
        "**occupation_type**\t- Represents the occupation type of a customer ( IT staff, Managers, Accountants, Cooking staff, etc )\n",
        "\n",
        "**total_family_members**\t- Represents the number of family members of a customer\n",
        "\n",
        "**migrant_worker** -\tRepresents whether a customer is a migrant worker( 1 means Yes and 0 means No  ) \n",
        "\n",
        "**yearly_debt_payments** -\tRepresents the yearly debt payments of a customer  ( in USD )\n",
        "\n",
        "**credit_limit**\t- Represents the credit limit of a customer  ( in USD ) \n",
        "\n",
        "**credit_limit_used(%)**\t- Represents the percentage of credit limit used by a customer\n",
        "\n",
        "**credit_score** -\tRepresents the credit score of a customer\n",
        "\n",
        "**prev_defaults**\t- Represents the number of previous defaults\n",
        "\n",
        "**default_in_last_6months** -\tRepresents whether a customer has defaulted in the last 6 months ( 1 means Yes and 0 means No) \n",
        "\n",
        "**credit_card_default**\t- Represents whether there will be credit card default  ( 1 means Yes and 0 means No  ) "
      ]
    },
    {
      "cell_type": "markdown",
      "metadata": {
        "id": "-hXnleOCyCM9"
      },
      "source": [
        "Temos ao todo 19 colunas. As colunas customer_id e name não serão relevantes para o algoritmo de machine learning. A coluna credit_card_defautl é o que queremos estimar, então será o nosso label. \n",
        "\n",
        "Restam, portanto, 16 características. Destas 16 características, 4 (gender, owns_car, owns_house e occupation_type) são categóricas e 12 numéricas.\n",
        "\n",
        "Podemos observar que a base contém 45528 instâncias e há alguns missing values nas características owns_car, no_of_children, no_of_days_employed, total_family_members, migrant_worker, yearly_debt_payments e credit_score."
      ]
    },
    {
      "cell_type": "code",
      "execution_count": null,
      "metadata": {
        "colab": {
          "base_uri": "https://localhost:8080/"
        },
        "id": "aL3EKHBHx-Uf",
        "outputId": "e103e204-ffb1-45b7-b7af-8958be002ba6"
      },
      "outputs": [
        {
          "ename": "",
          "evalue": "",
          "output_type": "error",
          "traceback": [
            "\u001b[1;31mFailed to start the Kernel. \n",
            "\u001b[1;31mJupyter server crashed. Unable to connect. \n",
            "\u001b[1;31mError code from Jupyter: 1\n",
            "\u001b[1;31mTraceback (most recent call last):\n",
            "\u001b[1;31m  File \"/home/andsilva/.local/bin/jupyter-notebook\", line 5, in <module>\n",
            "\u001b[1;31m    from notebook.notebookapp import main\n",
            "\u001b[1;31m  File \"/home/andsilva/.local/lib/python3.10/site-packages/notebook/notebookapp.py\", line 57, in <module>\n",
            "\u001b[1;31m    raise ImportError(_(\"The Jupyter Notebook requires tornado >= 5.0, but you have %s\") % tornado.version)\n",
            "\u001b[1;31mImportError: The Jupyter Notebook requires tornado >= 5.0, but you have 4.5.3. \n",
            "\u001b[1;31mView Jupyter <a href='command:jupyter.viewOutput'>log</a> for further details."
          ]
        }
      ],
      "source": [
        "df.info()"
      ]
    },
    {
      "cell_type": "markdown",
      "metadata": {
        "id": "1hJqoNnEgQOa"
      },
      "source": [
        "As escalas das variáveis são batante variadas, principalmente em função da presença de um número grande de varíaveis discretas e binárias. (ex: os valores máximos de  net_yearly_income e total_family_members são, respectivamente, 1.407590e+08\te 10)."
      ]
    },
    {
      "cell_type": "code",
      "execution_count": null,
      "metadata": {
        "colab": {
          "base_uri": "https://localhost:8080/",
          "height": 364
        },
        "id": "Vnt5zwFGMDLs",
        "outputId": "4a84203c-ed07-4adb-e0cc-1043c4969392"
      },
      "outputs": [
        {
          "ename": "",
          "evalue": "",
          "output_type": "error",
          "traceback": [
            "\u001b[1;31mFailed to start the Kernel. \n",
            "\u001b[1;31mJupyter server crashed. Unable to connect. \n",
            "\u001b[1;31mError code from Jupyter: 1\n",
            "\u001b[1;31mTraceback (most recent call last):\n",
            "\u001b[1;31m  File \"/home/andsilva/.local/bin/jupyter-notebook\", line 5, in <module>\n",
            "\u001b[1;31m    from notebook.notebookapp import main\n",
            "\u001b[1;31m  File \"/home/andsilva/.local/lib/python3.10/site-packages/notebook/notebookapp.py\", line 57, in <module>\n",
            "\u001b[1;31m    raise ImportError(_(\"The Jupyter Notebook requires tornado >= 5.0, but you have %s\") % tornado.version)\n",
            "\u001b[1;31mImportError: The Jupyter Notebook requires tornado >= 5.0, but you have 4.5.3. \n",
            "\u001b[1;31mView Jupyter <a href='command:jupyter.viewOutput'>log</a> for further details."
          ]
        }
      ],
      "source": [
        "df.describe()"
      ]
    },
    {
      "cell_type": "code",
      "execution_count": null,
      "metadata": {
        "colab": {
          "base_uri": "https://localhost:8080/",
          "height": 879
        },
        "id": "EEMtarMDzEnE",
        "outputId": "f8c657b1-6e0e-4c48-90d9-c7110c7d7444"
      },
      "outputs": [
        {
          "ename": "",
          "evalue": "",
          "output_type": "error",
          "traceback": [
            "\u001b[1;31mFailed to start the Kernel. \n",
            "\u001b[1;31mJupyter server crashed. Unable to connect. \n",
            "\u001b[1;31mError code from Jupyter: 1\n",
            "\u001b[1;31mTraceback (most recent call last):\n",
            "\u001b[1;31m  File \"/home/andsilva/.local/bin/jupyter-notebook\", line 5, in <module>\n",
            "\u001b[1;31m    from notebook.notebookapp import main\n",
            "\u001b[1;31m  File \"/home/andsilva/.local/lib/python3.10/site-packages/notebook/notebookapp.py\", line 57, in <module>\n",
            "\u001b[1;31m    raise ImportError(_(\"The Jupyter Notebook requires tornado >= 5.0, but you have %s\") % tornado.version)\n",
            "\u001b[1;31mImportError: The Jupyter Notebook requires tornado >= 5.0, but you have 4.5.3. \n",
            "\u001b[1;31mView Jupyter <a href='command:jupyter.viewOutput'>log</a> for further details."
          ]
        }
      ],
      "source": [
        "df.hist(bins=50, figsize=(20,15))\n",
        "plt.show()"
      ]
    },
    {
      "cell_type": "markdown",
      "metadata": {
        "id": "2KHpVjVpSLCq"
      },
      "source": [
        "Além disso, podemos constantar que a base de dados é desbalanceada, pois a nossa varíavel alvo, quando poussui falar positivo, tem pouca representatividade na base (<10%)."
      ]
    },
    {
      "cell_type": "code",
      "execution_count": null,
      "metadata": {
        "colab": {
          "base_uri": "https://localhost:8080/"
        },
        "id": "62aqLXqkRKAL",
        "outputId": "34ff50b6-4efa-45b4-9886-175b976ffea9"
      },
      "outputs": [
        {
          "ename": "",
          "evalue": "",
          "output_type": "error",
          "traceback": [
            "\u001b[1;31mFailed to start the Kernel. \n",
            "\u001b[1;31mJupyter server crashed. Unable to connect. \n",
            "\u001b[1;31mError code from Jupyter: 1\n",
            "\u001b[1;31mTraceback (most recent call last):\n",
            "\u001b[1;31m  File \"/home/andsilva/.local/bin/jupyter-notebook\", line 5, in <module>\n",
            "\u001b[1;31m    from notebook.notebookapp import main\n",
            "\u001b[1;31m  File \"/home/andsilva/.local/lib/python3.10/site-packages/notebook/notebookapp.py\", line 57, in <module>\n",
            "\u001b[1;31m    raise ImportError(_(\"The Jupyter Notebook requires tornado >= 5.0, but you have %s\") % tornado.version)\n",
            "\u001b[1;31mImportError: The Jupyter Notebook requires tornado >= 5.0, but you have 4.5.3. \n",
            "\u001b[1;31mView Jupyter <a href='command:jupyter.viewOutput'>log</a> for further details."
          ]
        }
      ],
      "source": [
        "default_prop = df[\"credit_card_default\"].value_counts()/len(df)\n",
        "default_prop"
      ]
    },
    {
      "cell_type": "markdown",
      "metadata": {
        "id": "vUSlydg62fS6"
      },
      "source": [
        "##Avaliando possíveis estratificações da base"
      ]
    },
    {
      "cell_type": "markdown",
      "metadata": {
        "id": "LhRXz0lHNux2"
      },
      "source": [
        "###Gênero"
      ]
    },
    {
      "cell_type": "markdown",
      "metadata": {
        "id": "MBM4PyQm6JZS"
      },
      "source": [
        "Temos 3 tipos de gênero na base de dados (F, M e XNA). No entanto, XNA possui apenas uma observação, o que inviabiliza o seu uso no modelo.\n",
        "\n",
        "Identificamos as seguintes opções de tratamento:\n",
        "\n",
        "1.   Atribuí-la arbitrariamente a algum grupo;\n",
        "2.   Expurgar da base.\n",
        "\n",
        "Dado que estamos falando de 1 instância em 45k+, o impacto é irrelevante em quaisquer dos grupos. Portanto optamos por retirar da base."
      ]
    },
    {
      "cell_type": "code",
      "execution_count": null,
      "metadata": {
        "colab": {
          "base_uri": "https://localhost:8080/"
        },
        "id": "p_7wMEvluw5N",
        "outputId": "83f6aa24-f45a-49e9-a183-4d1929543df0"
      },
      "outputs": [
        {
          "ename": "",
          "evalue": "",
          "output_type": "error",
          "traceback": [
            "\u001b[1;31mFailed to start the Kernel. \n",
            "\u001b[1;31mJupyter server crashed. Unable to connect. \n",
            "\u001b[1;31mError code from Jupyter: 1\n",
            "\u001b[1;31mTraceback (most recent call last):\n",
            "\u001b[1;31m  File \"/home/andsilva/.local/bin/jupyter-notebook\", line 5, in <module>\n",
            "\u001b[1;31m    from notebook.notebookapp import main\n",
            "\u001b[1;31m  File \"/home/andsilva/.local/lib/python3.10/site-packages/notebook/notebookapp.py\", line 57, in <module>\n",
            "\u001b[1;31m    raise ImportError(_(\"The Jupyter Notebook requires tornado >= 5.0, but you have %s\") % tornado.version)\n",
            "\u001b[1;31mImportError: The Jupyter Notebook requires tornado >= 5.0, but you have 4.5.3. \n",
            "\u001b[1;31mView Jupyter <a href='command:jupyter.viewOutput'>log</a> for further details."
          ]
        }
      ],
      "source": [
        "df[\"gender\"].value_counts()"
      ]
    },
    {
      "cell_type": "markdown",
      "metadata": {
        "id": "-gLTQK0mvCxm"
      },
      "source": [
        "Excluindo a linha com gender = XNA"
      ]
    },
    {
      "cell_type": "code",
      "execution_count": null,
      "metadata": {
        "id": "4PFPUM0GKFYi"
      },
      "outputs": [
        {
          "ename": "",
          "evalue": "",
          "output_type": "error",
          "traceback": [
            "\u001b[1;31mFailed to start the Kernel. \n",
            "\u001b[1;31mJupyter server crashed. Unable to connect. \n",
            "\u001b[1;31mError code from Jupyter: 1\n",
            "\u001b[1;31mTraceback (most recent call last):\n",
            "\u001b[1;31m  File \"/home/andsilva/.local/bin/jupyter-notebook\", line 5, in <module>\n",
            "\u001b[1;31m    from notebook.notebookapp import main\n",
            "\u001b[1;31m  File \"/home/andsilva/.local/lib/python3.10/site-packages/notebook/notebookapp.py\", line 57, in <module>\n",
            "\u001b[1;31m    raise ImportError(_(\"The Jupyter Notebook requires tornado >= 5.0, but you have %s\") % tornado.version)\n",
            "\u001b[1;31mImportError: The Jupyter Notebook requires tornado >= 5.0, but you have 4.5.3. \n",
            "\u001b[1;31mView Jupyter <a href='command:jupyter.viewOutput'>log</a> for further details."
          ]
        }
      ],
      "source": [
        "df.drop(df[df['gender']=='XNA'].index,inplace=True)"
      ]
    },
    {
      "cell_type": "code",
      "execution_count": null,
      "metadata": {
        "colab": {
          "base_uri": "https://localhost:8080/"
        },
        "id": "fLLljQEi2jH1",
        "outputId": "d7c8284a-2065-4b41-b86c-46b6e2d45b6a"
      },
      "outputs": [
        {
          "ename": "",
          "evalue": "",
          "output_type": "error",
          "traceback": [
            "\u001b[1;31mFailed to start the Kernel. \n",
            "\u001b[1;31mJupyter server crashed. Unable to connect. \n",
            "\u001b[1;31mError code from Jupyter: 1\n",
            "\u001b[1;31mTraceback (most recent call last):\n",
            "\u001b[1;31m  File \"/home/andsilva/.local/bin/jupyter-notebook\", line 5, in <module>\n",
            "\u001b[1;31m    from notebook.notebookapp import main\n",
            "\u001b[1;31m  File \"/home/andsilva/.local/lib/python3.10/site-packages/notebook/notebookapp.py\", line 57, in <module>\n",
            "\u001b[1;31m    raise ImportError(_(\"The Jupyter Notebook requires tornado >= 5.0, but you have %s\") % tornado.version)\n",
            "\u001b[1;31mImportError: The Jupyter Notebook requires tornado >= 5.0, but you have 4.5.3. \n",
            "\u001b[1;31mView Jupyter <a href='command:jupyter.viewOutput'>log</a> for further details."
          ]
        }
      ],
      "source": [
        "df[\"gender\"].value_counts()"
      ]
    },
    {
      "cell_type": "markdown",
      "metadata": {
        "id": "GQn-5kssSkhZ"
      },
      "source": [
        "Verificando a proporção dos sexos na base de dados."
      ]
    },
    {
      "cell_type": "code",
      "execution_count": null,
      "metadata": {
        "colab": {
          "base_uri": "https://localhost:8080/"
        },
        "id": "oTWsB5OaM8nC",
        "outputId": "f3901196-0146-47e9-c75b-97e830c206d3"
      },
      "outputs": [
        {
          "ename": "",
          "evalue": "",
          "output_type": "error",
          "traceback": [
            "\u001b[1;31mFailed to start the Kernel. \n",
            "\u001b[1;31mJupyter server crashed. Unable to connect. \n",
            "\u001b[1;31mError code from Jupyter: 1\n",
            "\u001b[1;31mTraceback (most recent call last):\n",
            "\u001b[1;31m  File \"/home/andsilva/.local/bin/jupyter-notebook\", line 5, in <module>\n",
            "\u001b[1;31m    from notebook.notebookapp import main\n",
            "\u001b[1;31m  File \"/home/andsilva/.local/lib/python3.10/site-packages/notebook/notebookapp.py\", line 57, in <module>\n",
            "\u001b[1;31m    raise ImportError(_(\"The Jupyter Notebook requires tornado >= 5.0, but you have %s\") % tornado.version)\n",
            "\u001b[1;31mImportError: The Jupyter Notebook requires tornado >= 5.0, but you have 4.5.3. \n",
            "\u001b[1;31mView Jupyter <a href='command:jupyter.viewOutput'>log</a> for further details."
          ]
        }
      ],
      "source": [
        "gender_prop = df[\"gender\"].value_counts()/len(df)\n",
        "gender_prop"
      ]
    },
    {
      "cell_type": "markdown",
      "metadata": {
        "id": "ST52CMhPSnsj"
      },
      "source": [
        "Verificando como a variável alvo (credit_card_default) está distribuída nos sexos."
      ]
    },
    {
      "cell_type": "code",
      "execution_count": null,
      "metadata": {
        "colab": {
          "base_uri": "https://localhost:8080/"
        },
        "id": "M_Yt-bkWNlZG",
        "outputId": "15a78780-ce13-4d1e-c095-dc099a40a98f"
      },
      "outputs": [
        {
          "ename": "",
          "evalue": "",
          "output_type": "error",
          "traceback": [
            "\u001b[1;31mFailed to start the Kernel. \n",
            "\u001b[1;31mJupyter server crashed. Unable to connect. \n",
            "\u001b[1;31mError code from Jupyter: 1\n",
            "\u001b[1;31mTraceback (most recent call last):\n",
            "\u001b[1;31m  File \"/home/andsilva/.local/bin/jupyter-notebook\", line 5, in <module>\n",
            "\u001b[1;31m    from notebook.notebookapp import main\n",
            "\u001b[1;31m  File \"/home/andsilva/.local/lib/python3.10/site-packages/notebook/notebookapp.py\", line 57, in <module>\n",
            "\u001b[1;31m    raise ImportError(_(\"The Jupyter Notebook requires tornado >= 5.0, but you have %s\") % tornado.version)\n",
            "\u001b[1;31mImportError: The Jupyter Notebook requires tornado >= 5.0, but you have 4.5.3. \n",
            "\u001b[1;31mView Jupyter <a href='command:jupyter.viewOutput'>log</a> for further details."
          ]
        }
      ],
      "source": [
        "gender_default_prop = df[df['credit_card_default']==1]['gender'].value_counts()/df[\"gender\"].value_counts()\n",
        "gender_default_prop"
      ]
    },
    {
      "cell_type": "markdown",
      "metadata": {
        "id": "3m1HCIu65yPa"
      },
      "source": [
        "Podemos constatar que a proporção de default é maior no sexo masculino que no sexo feminino."
      ]
    },
    {
      "cell_type": "code",
      "execution_count": null,
      "metadata": {
        "colab": {
          "base_uri": "https://localhost:8080/",
          "height": 112
        },
        "id": "z9YevlYLvchL",
        "outputId": "7c52b5e0-5d3a-4ff4-97de-675368f9b686"
      },
      "outputs": [
        {
          "ename": "",
          "evalue": "",
          "output_type": "error",
          "traceback": [
            "\u001b[1;31mFailed to start the Kernel. \n",
            "\u001b[1;31mJupyter server crashed. Unable to connect. \n",
            "\u001b[1;31mError code from Jupyter: 1\n",
            "\u001b[1;31mTraceback (most recent call last):\n",
            "\u001b[1;31m  File \"/home/andsilva/.local/bin/jupyter-notebook\", line 5, in <module>\n",
            "\u001b[1;31m    from notebook.notebookapp import main\n",
            "\u001b[1;31m  File \"/home/andsilva/.local/lib/python3.10/site-packages/notebook/notebookapp.py\", line 57, in <module>\n",
            "\u001b[1;31m    raise ImportError(_(\"The Jupyter Notebook requires tornado >= 5.0, but you have %s\") % tornado.version)\n",
            "\u001b[1;31mImportError: The Jupyter Notebook requires tornado >= 5.0, but you have 4.5.3. \n",
            "\u001b[1;31mView Jupyter <a href='command:jupyter.viewOutput'>log</a> for further details."
          ]
        }
      ],
      "source": [
        "gender_resume = pd.concat([gender_prop, gender_default_prop], axis=1)*100\n",
        "gender_resume.columns = ['% de Instâncias', '% de Default']\n",
        "gender_resume"
      ]
    },
    {
      "cell_type": "code",
      "execution_count": null,
      "metadata": {
        "colab": {
          "base_uri": "https://localhost:8080/",
          "height": 552
        },
        "id": "E9yxbI1Hv4cA",
        "outputId": "0824b074-bc20-44e1-be7c-86e22867bed0"
      },
      "outputs": [
        {
          "ename": "",
          "evalue": "",
          "output_type": "error",
          "traceback": [
            "\u001b[1;31mFailed to start the Kernel. \n",
            "\u001b[1;31mJupyter server crashed. Unable to connect. \n",
            "\u001b[1;31mError code from Jupyter: 1\n",
            "\u001b[1;31mTraceback (most recent call last):\n",
            "\u001b[1;31m  File \"/home/andsilva/.local/bin/jupyter-notebook\", line 5, in <module>\n",
            "\u001b[1;31m    from notebook.notebookapp import main\n",
            "\u001b[1;31m  File \"/home/andsilva/.local/lib/python3.10/site-packages/notebook/notebookapp.py\", line 57, in <module>\n",
            "\u001b[1;31m    raise ImportError(_(\"The Jupyter Notebook requires tornado >= 5.0, but you have %s\") % tornado.version)\n",
            "\u001b[1;31mImportError: The Jupyter Notebook requires tornado >= 5.0, but you have 4.5.3. \n",
            "\u001b[1;31mView Jupyter <a href='command:jupyter.viewOutput'>log</a> for further details."
          ]
        }
      ],
      "source": [
        "#plt.barh(y = occ_prop.index, width=occ_prop_inc.values, label='Proporção do Total de Renda')\n",
        "#plt.xlabel(\"Proporção\")\n",
        "gender_resume.plot.bar(figsize=(18,9))\n",
        "plt.title('Proporção de Gender e Default', fontweight=\"bold\")\n",
        "plt.legend(loc=\"upper right\")\n",
        "plt.show()"
      ]
    },
    {
      "cell_type": "markdown",
      "metadata": {
        "id": "y4HtbCEANxZw"
      },
      "source": [
        "###Credit Score"
      ]
    },
    {
      "cell_type": "code",
      "execution_count": null,
      "metadata": {
        "id": "VbzAO6HUaVQm"
      },
      "outputs": [
        {
          "ename": "",
          "evalue": "",
          "output_type": "error",
          "traceback": [
            "\u001b[1;31mFailed to start the Kernel. \n",
            "\u001b[1;31mJupyter server crashed. Unable to connect. \n",
            "\u001b[1;31mError code from Jupyter: 1\n",
            "\u001b[1;31mTraceback (most recent call last):\n",
            "\u001b[1;31m  File \"/home/andsilva/.local/bin/jupyter-notebook\", line 5, in <module>\n",
            "\u001b[1;31m    from notebook.notebookapp import main\n",
            "\u001b[1;31m  File \"/home/andsilva/.local/lib/python3.10/site-packages/notebook/notebookapp.py\", line 57, in <module>\n",
            "\u001b[1;31m    raise ImportError(_(\"The Jupyter Notebook requires tornado >= 5.0, but you have %s\") % tornado.version)\n",
            "\u001b[1;31mImportError: The Jupyter Notebook requires tornado >= 5.0, but you have 4.5.3. \n",
            "\u001b[1;31mView Jupyter <a href='command:jupyter.viewOutput'>log</a> for further details."
          ]
        }
      ],
      "source": [
        "#Criei uma cópia da base de dados original para utilização na parte de estratificação por credit score\n",
        "df2 = df.copy()"
      ]
    },
    {
      "cell_type": "code",
      "execution_count": null,
      "metadata": {
        "colab": {
          "base_uri": "https://localhost:8080/"
        },
        "id": "1LG_HTFT85VC",
        "outputId": "82b8adba-eecd-4612-9422-dc8ba26cf57c"
      },
      "outputs": [
        {
          "ename": "",
          "evalue": "",
          "output_type": "error",
          "traceback": [
            "\u001b[1;31mFailed to start the Kernel. \n",
            "\u001b[1;31mJupyter server crashed. Unable to connect. \n",
            "\u001b[1;31mError code from Jupyter: 1\n",
            "\u001b[1;31mTraceback (most recent call last):\n",
            "\u001b[1;31m  File \"/home/andsilva/.local/bin/jupyter-notebook\", line 5, in <module>\n",
            "\u001b[1;31m    from notebook.notebookapp import main\n",
            "\u001b[1;31m  File \"/home/andsilva/.local/lib/python3.10/site-packages/notebook/notebookapp.py\", line 57, in <module>\n",
            "\u001b[1;31m    raise ImportError(_(\"The Jupyter Notebook requires tornado >= 5.0, but you have %s\") % tornado.version)\n",
            "\u001b[1;31mImportError: The Jupyter Notebook requires tornado >= 5.0, but you have 4.5.3. \n",
            "\u001b[1;31mView Jupyter <a href='command:jupyter.viewOutput'>log</a> for further details."
          ]
        }
      ],
      "source": [
        "df['credit_score'].unique()"
      ]
    },
    {
      "cell_type": "markdown",
      "metadata": {
        "id": "1g_BQCDeOevH"
      },
      "source": [
        "Como já vimos que credit_score possui missing values, precisaremos eliminá-los para fazer a estratificação com base nessa característica."
      ]
    },
    {
      "cell_type": "code",
      "execution_count": null,
      "metadata": {
        "colab": {
          "base_uri": "https://localhost:8080/"
        },
        "id": "hxzv0XXQN895",
        "outputId": "9c27f03c-1852-4ab1-db91-66a45d2a87a4"
      },
      "outputs": [
        {
          "ename": "",
          "evalue": "",
          "output_type": "error",
          "traceback": [
            "\u001b[1;31mFailed to start the Kernel. \n",
            "\u001b[1;31mJupyter server crashed. Unable to connect. \n",
            "\u001b[1;31mError code from Jupyter: 1\n",
            "\u001b[1;31mTraceback (most recent call last):\n",
            "\u001b[1;31m  File \"/home/andsilva/.local/bin/jupyter-notebook\", line 5, in <module>\n",
            "\u001b[1;31m    from notebook.notebookapp import main\n",
            "\u001b[1;31m  File \"/home/andsilva/.local/lib/python3.10/site-packages/notebook/notebookapp.py\", line 57, in <module>\n",
            "\u001b[1;31m    raise ImportError(_(\"The Jupyter Notebook requires tornado >= 5.0, but you have %s\") % tornado.version)\n",
            "\u001b[1;31mImportError: The Jupyter Notebook requires tornado >= 5.0, but you have 4.5.3. \n",
            "\u001b[1;31mView Jupyter <a href='command:jupyter.viewOutput'>log</a> for further details."
          ]
        }
      ],
      "source": [
        "df.drop(df[df['credit_score'].isna()].index, inplace=True)\n",
        "df['credit_score'].isna().sum()"
      ]
    },
    {
      "cell_type": "code",
      "execution_count": null,
      "metadata": {
        "colab": {
          "base_uri": "https://localhost:8080/"
        },
        "id": "fWb0Kxjt-Bl5",
        "outputId": "c2c15e15-6acb-48c6-cff3-1fa70e8bc1dc"
      },
      "outputs": [
        {
          "ename": "",
          "evalue": "",
          "output_type": "error",
          "traceback": [
            "\u001b[1;31mFailed to start the Kernel. \n",
            "\u001b[1;31mJupyter server crashed. Unable to connect. \n",
            "\u001b[1;31mError code from Jupyter: 1\n",
            "\u001b[1;31mTraceback (most recent call last):\n",
            "\u001b[1;31m  File \"/home/andsilva/.local/bin/jupyter-notebook\", line 5, in <module>\n",
            "\u001b[1;31m    from notebook.notebookapp import main\n",
            "\u001b[1;31m  File \"/home/andsilva/.local/lib/python3.10/site-packages/notebook/notebookapp.py\", line 57, in <module>\n",
            "\u001b[1;31m    raise ImportError(_(\"The Jupyter Notebook requires tornado >= 5.0, but you have %s\") % tornado.version)\n",
            "\u001b[1;31mImportError: The Jupyter Notebook requires tornado >= 5.0, but you have 4.5.3. \n",
            "\u001b[1;31mView Jupyter <a href='command:jupyter.viewOutput'>log</a> for further details."
          ]
        }
      ],
      "source": [
        "df['cred_score_cat'] = pd.cut(df['credit_score'], bins=([0, 700, 850, np.inf]), labels=['<700', '<850', '850+'])\n",
        "df.groupby('cred_score_cat')['customer_id'].count()/len(df)"
      ]
    },
    {
      "cell_type": "code",
      "execution_count": null,
      "metadata": {
        "colab": {
          "base_uri": "https://localhost:8080/"
        },
        "id": "o3peHWmJ_bhh",
        "outputId": "bf2ebf9a-95a8-42e4-db96-aae843126800"
      },
      "outputs": [
        {
          "ename": "",
          "evalue": "",
          "output_type": "error",
          "traceback": [
            "\u001b[1;31mFailed to start the Kernel. \n",
            "\u001b[1;31mJupyter server crashed. Unable to connect. \n",
            "\u001b[1;31mError code from Jupyter: 1\n",
            "\u001b[1;31mTraceback (most recent call last):\n",
            "\u001b[1;31m  File \"/home/andsilva/.local/bin/jupyter-notebook\", line 5, in <module>\n",
            "\u001b[1;31m    from notebook.notebookapp import main\n",
            "\u001b[1;31m  File \"/home/andsilva/.local/lib/python3.10/site-packages/notebook/notebookapp.py\", line 57, in <module>\n",
            "\u001b[1;31m    raise ImportError(_(\"The Jupyter Notebook requires tornado >= 5.0, but you have %s\") % tornado.version)\n",
            "\u001b[1;31mImportError: The Jupyter Notebook requires tornado >= 5.0, but you have 4.5.3. \n",
            "\u001b[1;31mView Jupyter <a href='command:jupyter.viewOutput'>log</a> for further details."
          ]
        }
      ],
      "source": [
        "df['cred_score_cat']"
      ]
    },
    {
      "cell_type": "markdown",
      "metadata": {
        "id": "5u5Y5w4GEjTq"
      },
      "source": [
        "Conferindo a coluna cred_score_cat\n"
      ]
    },
    {
      "cell_type": "code",
      "execution_count": null,
      "metadata": {
        "colab": {
          "base_uri": "https://localhost:8080/",
          "height": 305
        },
        "id": "r9N8DrcO-xJX",
        "outputId": "3e1408d3-7ab5-4833-a403-3853883e8cc9"
      },
      "outputs": [
        {
          "ename": "",
          "evalue": "",
          "output_type": "error",
          "traceback": [
            "\u001b[1;31mFailed to start the Kernel. \n",
            "\u001b[1;31mJupyter server crashed. Unable to connect. \n",
            "\u001b[1;31mError code from Jupyter: 1\n",
            "\u001b[1;31mTraceback (most recent call last):\n",
            "\u001b[1;31m  File \"/home/andsilva/.local/bin/jupyter-notebook\", line 5, in <module>\n",
            "\u001b[1;31m    from notebook.notebookapp import main\n",
            "\u001b[1;31m  File \"/home/andsilva/.local/lib/python3.10/site-packages/notebook/notebookapp.py\", line 57, in <module>\n",
            "\u001b[1;31m    raise ImportError(_(\"The Jupyter Notebook requires tornado >= 5.0, but you have %s\") % tornado.version)\n",
            "\u001b[1;31mImportError: The Jupyter Notebook requires tornado >= 5.0, but you have 4.5.3. \n",
            "\u001b[1;31mView Jupyter <a href='command:jupyter.viewOutput'>log</a> for further details."
          ]
        }
      ],
      "source": [
        "df.head()"
      ]
    },
    {
      "cell_type": "markdown",
      "metadata": {
        "id": "zObB2HozFvBG"
      },
      "source": [
        "Combinando Gender e Credt Score"
      ]
    },
    {
      "cell_type": "code",
      "execution_count": null,
      "metadata": {
        "colab": {
          "base_uri": "https://localhost:8080/"
        },
        "id": "779wWtPXFt-i",
        "outputId": "205cc0a9-d529-4ba0-bf47-ad1912077ce1"
      },
      "outputs": [
        {
          "ename": "",
          "evalue": "",
          "output_type": "error",
          "traceback": [
            "\u001b[1;31mFailed to start the Kernel. \n",
            "\u001b[1;31mJupyter server crashed. Unable to connect. \n",
            "\u001b[1;31mError code from Jupyter: 1\n",
            "\u001b[1;31mTraceback (most recent call last):\n",
            "\u001b[1;31m  File \"/home/andsilva/.local/bin/jupyter-notebook\", line 5, in <module>\n",
            "\u001b[1;31m    from notebook.notebookapp import main\n",
            "\u001b[1;31m  File \"/home/andsilva/.local/lib/python3.10/site-packages/notebook/notebookapp.py\", line 57, in <module>\n",
            "\u001b[1;31m    raise ImportError(_(\"The Jupyter Notebook requires tornado >= 5.0, but you have %s\") % tornado.version)\n",
            "\u001b[1;31mImportError: The Jupyter Notebook requires tornado >= 5.0, but you have 4.5.3. \n",
            "\u001b[1;31mView Jupyter <a href='command:jupyter.viewOutput'>log</a> for further details."
          ]
        }
      ],
      "source": [
        "df['gender_cred_score_cat'] = df['gender'].astype(str) + df['cred_score_cat'].astype(str)\n",
        "df['gender_cred_score_cat']"
      ]
    },
    {
      "cell_type": "code",
      "execution_count": null,
      "metadata": {
        "colab": {
          "base_uri": "https://localhost:8080/"
        },
        "id": "CwjDrgeCJ9y5",
        "outputId": "dc7ae347-2f41-4466-dcee-0d44409c6255"
      },
      "outputs": [
        {
          "ename": "",
          "evalue": "",
          "output_type": "error",
          "traceback": [
            "\u001b[1;31mFailed to start the Kernel. \n",
            "\u001b[1;31mJupyter server crashed. Unable to connect. \n",
            "\u001b[1;31mError code from Jupyter: 1\n",
            "\u001b[1;31mTraceback (most recent call last):\n",
            "\u001b[1;31m  File \"/home/andsilva/.local/bin/jupyter-notebook\", line 5, in <module>\n",
            "\u001b[1;31m    from notebook.notebookapp import main\n",
            "\u001b[1;31m  File \"/home/andsilva/.local/lib/python3.10/site-packages/notebook/notebookapp.py\", line 57, in <module>\n",
            "\u001b[1;31m    raise ImportError(_(\"The Jupyter Notebook requires tornado >= 5.0, but you have %s\") % tornado.version)\n",
            "\u001b[1;31mImportError: The Jupyter Notebook requires tornado >= 5.0, but you have 4.5.3. \n",
            "\u001b[1;31mView Jupyter <a href='command:jupyter.viewOutput'>log</a> for further details."
          ]
        }
      ],
      "source": [
        "gender_cred_score_prop = df.groupby('gender_cred_score_cat')['customer_id'].count()/len(df)\n",
        "gender_cred_score_prop"
      ]
    },
    {
      "cell_type": "markdown",
      "metadata": {
        "id": "G3YKYrkqRRar"
      },
      "source": [
        "\"Dropando\" cred_score_cat, pois não precisamos mais dela."
      ]
    },
    {
      "cell_type": "code",
      "execution_count": null,
      "metadata": {
        "colab": {
          "base_uri": "https://localhost:8080/",
          "height": 305
        },
        "id": "h-GJBVd9RR0z",
        "outputId": "bc125e07-548f-49a7-95f8-122e0a4f9a39"
      },
      "outputs": [
        {
          "ename": "",
          "evalue": "",
          "output_type": "error",
          "traceback": [
            "\u001b[1;31mFailed to start the Kernel. \n",
            "\u001b[1;31mJupyter server crashed. Unable to connect. \n",
            "\u001b[1;31mError code from Jupyter: 1\n",
            "\u001b[1;31mTraceback (most recent call last):\n",
            "\u001b[1;31m  File \"/home/andsilva/.local/bin/jupyter-notebook\", line 5, in <module>\n",
            "\u001b[1;31m    from notebook.notebookapp import main\n",
            "\u001b[1;31m  File \"/home/andsilva/.local/lib/python3.10/site-packages/notebook/notebookapp.py\", line 57, in <module>\n",
            "\u001b[1;31m    raise ImportError(_(\"The Jupyter Notebook requires tornado >= 5.0, but you have %s\") % tornado.version)\n",
            "\u001b[1;31mImportError: The Jupyter Notebook requires tornado >= 5.0, but you have 4.5.3. \n",
            "\u001b[1;31mView Jupyter <a href='command:jupyter.viewOutput'>log</a> for further details."
          ]
        }
      ],
      "source": [
        "df.drop('cred_score_cat', axis=1, inplace=True)\n",
        "df.head()"
      ]
    },
    {
      "cell_type": "markdown",
      "metadata": {
        "id": "44TO7KuMEpGB"
      },
      "source": [
        "#Separando as bases de treino e de teste"
      ]
    },
    {
      "cell_type": "markdown",
      "metadata": {
        "id": "PzrnCYCDOzL0"
      },
      "source": [
        "Realizando a separação das bases considerando a estratificação apenas do sexo.\n",
        "\n",
        "<b><font color=blue> Enquanto não fechamos a questão da estratificação por faixa etária, vamos excluir a coluna age_cat para podermos seguir comn o código.\n",
        "\n"
      ]
    },
    {
      "cell_type": "code",
      "execution_count": null,
      "metadata": {
        "colab": {
          "base_uri": "https://localhost:8080/",
          "height": 334
        },
        "id": "FDKacvpbVzEF",
        "outputId": "c544a050-ee7d-4c39-d2b6-4ad62e03827c"
      },
      "outputs": [
        {
          "ename": "",
          "evalue": "",
          "output_type": "error",
          "traceback": [
            "\u001b[1;31mFailed to start the Kernel. \n",
            "\u001b[1;31mJupyter server crashed. Unable to connect. \n",
            "\u001b[1;31mError code from Jupyter: 1\n",
            "\u001b[1;31mTraceback (most recent call last):\n",
            "\u001b[1;31m  File \"/home/andsilva/.local/bin/jupyter-notebook\", line 5, in <module>\n",
            "\u001b[1;31m    from notebook.notebookapp import main\n",
            "\u001b[1;31m  File \"/home/andsilva/.local/lib/python3.10/site-packages/notebook/notebookapp.py\", line 57, in <module>\n",
            "\u001b[1;31m    raise ImportError(_(\"The Jupyter Notebook requires tornado >= 5.0, but you have %s\") % tornado.version)\n",
            "\u001b[1;31mImportError: The Jupyter Notebook requires tornado >= 5.0, but you have 4.5.3. \n",
            "\u001b[1;31mView Jupyter <a href='command:jupyter.viewOutput'>log</a> for further details."
          ]
        }
      ],
      "source": [
        "df = df.reset_index()\n",
        "df.head()"
      ]
    },
    {
      "cell_type": "code",
      "execution_count": null,
      "metadata": {
        "id": "8nobvUJmIZpu"
      },
      "outputs": [
        {
          "ename": "",
          "evalue": "",
          "output_type": "error",
          "traceback": [
            "\u001b[1;31mFailed to start the Kernel. \n",
            "\u001b[1;31mJupyter server crashed. Unable to connect. \n",
            "\u001b[1;31mError code from Jupyter: 1\n",
            "\u001b[1;31mTraceback (most recent call last):\n",
            "\u001b[1;31m  File \"/home/andsilva/.local/bin/jupyter-notebook\", line 5, in <module>\n",
            "\u001b[1;31m    from notebook.notebookapp import main\n",
            "\u001b[1;31m  File \"/home/andsilva/.local/lib/python3.10/site-packages/notebook/notebookapp.py\", line 57, in <module>\n",
            "\u001b[1;31m    raise ImportError(_(\"The Jupyter Notebook requires tornado >= 5.0, but you have %s\") % tornado.version)\n",
            "\u001b[1;31mImportError: The Jupyter Notebook requires tornado >= 5.0, but you have 4.5.3. \n",
            "\u001b[1;31mView Jupyter <a href='command:jupyter.viewOutput'>log</a> for further details."
          ]
        }
      ],
      "source": [
        "from sklearn.model_selection import StratifiedShuffleSplit\n",
        "\n",
        "split = StratifiedShuffleSplit(n_splits=1, test_size=0.2)\n",
        "for train_index, test_index in split.split(df, df[\"gender_cred_score_cat\"]):\n",
        "    train_set = df.loc[train_index]\n",
        "    test_set = df.loc[test_index]"
      ]
    },
    {
      "cell_type": "markdown",
      "metadata": {
        "id": "4wf2paPGXEaP"
      },
      "source": [
        "Verificando o tamanho dos conjuntos criados."
      ]
    },
    {
      "cell_type": "code",
      "execution_count": null,
      "metadata": {
        "colab": {
          "base_uri": "https://localhost:8080/"
        },
        "id": "qQDXjVNVWbSk",
        "outputId": "c2251a71-e067-4cc1-9035-7134f4748a84"
      },
      "outputs": [
        {
          "ename": "",
          "evalue": "",
          "output_type": "error",
          "traceback": [
            "\u001b[1;31mFailed to start the Kernel. \n",
            "\u001b[1;31mJupyter server crashed. Unable to connect. \n",
            "\u001b[1;31mError code from Jupyter: 1\n",
            "\u001b[1;31mTraceback (most recent call last):\n",
            "\u001b[1;31m  File \"/home/andsilva/.local/bin/jupyter-notebook\", line 5, in <module>\n",
            "\u001b[1;31m    from notebook.notebookapp import main\n",
            "\u001b[1;31m  File \"/home/andsilva/.local/lib/python3.10/site-packages/notebook/notebookapp.py\", line 57, in <module>\n",
            "\u001b[1;31m    raise ImportError(_(\"The Jupyter Notebook requires tornado >= 5.0, but you have %s\") % tornado.version)\n",
            "\u001b[1;31mImportError: The Jupyter Notebook requires tornado >= 5.0, but you have 4.5.3. \n",
            "\u001b[1;31mView Jupyter <a href='command:jupyter.viewOutput'>log</a> for further details."
          ]
        }
      ],
      "source": [
        "print(f\"Treino: {len(train_set)}\\nTeste: {len(test_set)}\")"
      ]
    },
    {
      "cell_type": "markdown",
      "metadata": {
        "id": "0EtT1MJmXCHN"
      },
      "source": [
        "Conferindo se a estratificação foi executada corretamente."
      ]
    },
    {
      "cell_type": "code",
      "execution_count": null,
      "metadata": {
        "id": "xHNj7r5FUGPp"
      },
      "outputs": [
        {
          "ename": "",
          "evalue": "",
          "output_type": "error",
          "traceback": [
            "\u001b[1;31mFailed to start the Kernel. \n",
            "\u001b[1;31mJupyter server crashed. Unable to connect. \n",
            "\u001b[1;31mError code from Jupyter: 1\n",
            "\u001b[1;31mTraceback (most recent call last):\n",
            "\u001b[1;31m  File \"/home/andsilva/.local/bin/jupyter-notebook\", line 5, in <module>\n",
            "\u001b[1;31m    from notebook.notebookapp import main\n",
            "\u001b[1;31m  File \"/home/andsilva/.local/lib/python3.10/site-packages/notebook/notebookapp.py\", line 57, in <module>\n",
            "\u001b[1;31m    raise ImportError(_(\"The Jupyter Notebook requires tornado >= 5.0, but you have %s\") % tornado.version)\n",
            "\u001b[1;31mImportError: The Jupyter Notebook requires tornado >= 5.0, but you have 4.5.3. \n",
            "\u001b[1;31mView Jupyter <a href='command:jupyter.viewOutput'>log</a> for further details."
          ]
        }
      ],
      "source": [
        "gender_cred_score_prop_train = train_set.groupby('gender_cred_score_cat')['customer_id'].count()/len(train_set)\n",
        "gender_cred_score_prop_test = test_set.groupby('gender_cred_score_cat')['customer_id'].count()/len(test_set)"
      ]
    },
    {
      "cell_type": "code",
      "execution_count": null,
      "metadata": {
        "colab": {
          "base_uri": "https://localhost:8080/",
          "height": 269
        },
        "id": "pFNmWw_yVViY",
        "outputId": "8637c917-1f29-4e16-ecfa-9b89fa971f76"
      },
      "outputs": [
        {
          "ename": "",
          "evalue": "",
          "output_type": "error",
          "traceback": [
            "\u001b[1;31mFailed to start the Kernel. \n",
            "\u001b[1;31mJupyter server crashed. Unable to connect. \n",
            "\u001b[1;31mError code from Jupyter: 1\n",
            "\u001b[1;31mTraceback (most recent call last):\n",
            "\u001b[1;31m  File \"/home/andsilva/.local/bin/jupyter-notebook\", line 5, in <module>\n",
            "\u001b[1;31m    from notebook.notebookapp import main\n",
            "\u001b[1;31m  File \"/home/andsilva/.local/lib/python3.10/site-packages/notebook/notebookapp.py\", line 57, in <module>\n",
            "\u001b[1;31m    raise ImportError(_(\"The Jupyter Notebook requires tornado >= 5.0, but you have %s\") % tornado.version)\n",
            "\u001b[1;31mImportError: The Jupyter Notebook requires tornado >= 5.0, but you have 4.5.3. \n",
            "\u001b[1;31mView Jupyter <a href='command:jupyter.viewOutput'>log</a> for further details."
          ]
        }
      ],
      "source": [
        "compara_props_strat = pd.concat([gender_cred_score_prop, gender_cred_score_prop_test, gender_cred_score_prop_test],axis=1)\n",
        "compara_props_strat.columns = ['Prop DF', 'Prop Train Set', 'Prop Test Set']\n",
        "compara_props_strat"
      ]
    },
    {
      "cell_type": "markdown",
      "metadata": {
        "id": "pGLtrD-6Sl-O"
      },
      "source": [
        "Excluindo a coluna de estratificação das bases de treino e teste."
      ]
    },
    {
      "cell_type": "code",
      "execution_count": null,
      "metadata": {
        "id": "DCiByCSvmBIo"
      },
      "outputs": [
        {
          "ename": "",
          "evalue": "",
          "output_type": "error",
          "traceback": [
            "\u001b[1;31mFailed to start the Kernel. \n",
            "\u001b[1;31mJupyter server crashed. Unable to connect. \n",
            "\u001b[1;31mError code from Jupyter: 1\n",
            "\u001b[1;31mTraceback (most recent call last):\n",
            "\u001b[1;31m  File \"/home/andsilva/.local/bin/jupyter-notebook\", line 5, in <module>\n",
            "\u001b[1;31m    from notebook.notebookapp import main\n",
            "\u001b[1;31m  File \"/home/andsilva/.local/lib/python3.10/site-packages/notebook/notebookapp.py\", line 57, in <module>\n",
            "\u001b[1;31m    raise ImportError(_(\"The Jupyter Notebook requires tornado >= 5.0, but you have %s\") % tornado.version)\n",
            "\u001b[1;31mImportError: The Jupyter Notebook requires tornado >= 5.0, but you have 4.5.3. \n",
            "\u001b[1;31mView Jupyter <a href='command:jupyter.viewOutput'>log</a> for further details."
          ]
        }
      ],
      "source": [
        "#Excluindo da base de treino e teste atraibuto Credit Score Cat\n",
        "train_set.drop('gender_cred_score_cat', axis=1, inplace=True)\n",
        "test_set.drop('gender_cred_score_cat', axis=1, inplace=True)"
      ]
    },
    {
      "cell_type": "code",
      "execution_count": null,
      "metadata": {
        "colab": {
          "base_uri": "https://localhost:8080/"
        },
        "id": "aYkH0aUzSgqa",
        "outputId": "ca3370f3-d774-4df1-c3ef-c448e6ff2162"
      },
      "outputs": [
        {
          "ename": "",
          "evalue": "",
          "output_type": "error",
          "traceback": [
            "\u001b[1;31mFailed to start the Kernel. \n",
            "\u001b[1;31mJupyter server crashed. Unable to connect. \n",
            "\u001b[1;31mError code from Jupyter: 1\n",
            "\u001b[1;31mTraceback (most recent call last):\n",
            "\u001b[1;31m  File \"/home/andsilva/.local/bin/jupyter-notebook\", line 5, in <module>\n",
            "\u001b[1;31m    from notebook.notebookapp import main\n",
            "\u001b[1;31m  File \"/home/andsilva/.local/lib/python3.10/site-packages/notebook/notebookapp.py\", line 57, in <module>\n",
            "\u001b[1;31m    raise ImportError(_(\"The Jupyter Notebook requires tornado >= 5.0, but you have %s\") % tornado.version)\n",
            "\u001b[1;31mImportError: The Jupyter Notebook requires tornado >= 5.0, but you have 4.5.3. \n",
            "\u001b[1;31mView Jupyter <a href='command:jupyter.viewOutput'>log</a> for further details."
          ]
        }
      ],
      "source": [
        "train_set.columns"
      ]
    },
    {
      "cell_type": "code",
      "execution_count": null,
      "metadata": {
        "colab": {
          "base_uri": "https://localhost:8080/"
        },
        "id": "eWbg6gUbSke9",
        "outputId": "eeb91cde-1381-408d-9ecf-266b0e0aa59b"
      },
      "outputs": [
        {
          "ename": "",
          "evalue": "",
          "output_type": "error",
          "traceback": [
            "\u001b[1;31mFailed to start the Kernel. \n",
            "\u001b[1;31mJupyter server crashed. Unable to connect. \n",
            "\u001b[1;31mError code from Jupyter: 1\n",
            "\u001b[1;31mTraceback (most recent call last):\n",
            "\u001b[1;31m  File \"/home/andsilva/.local/bin/jupyter-notebook\", line 5, in <module>\n",
            "\u001b[1;31m    from notebook.notebookapp import main\n",
            "\u001b[1;31m  File \"/home/andsilva/.local/lib/python3.10/site-packages/notebook/notebookapp.py\", line 57, in <module>\n",
            "\u001b[1;31m    raise ImportError(_(\"The Jupyter Notebook requires tornado >= 5.0, but you have %s\") % tornado.version)\n",
            "\u001b[1;31mImportError: The Jupyter Notebook requires tornado >= 5.0, but you have 4.5.3. \n",
            "\u001b[1;31mView Jupyter <a href='command:jupyter.viewOutput'>log</a> for further details."
          ]
        }
      ],
      "source": [
        "test_set.columns"
      ]
    },
    {
      "cell_type": "markdown",
      "metadata": {
        "id": "2PuSN7jgWpAU"
      },
      "source": [
        "#Explorando os dados"
      ]
    },
    {
      "cell_type": "markdown",
      "metadata": {
        "id": "cw4gUOTLXWbR"
      },
      "source": [
        "Criando uma cópia do conjunto de treinamento para preservar o original."
      ]
    },
    {
      "cell_type": "code",
      "execution_count": null,
      "metadata": {
        "colab": {
          "base_uri": "https://localhost:8080/",
          "height": 287
        },
        "id": "w1LESsxiWsD4",
        "outputId": "9ab0c1da-d922-4c9a-fffa-90bd4ccc0dd3"
      },
      "outputs": [
        {
          "ename": "",
          "evalue": "",
          "output_type": "error",
          "traceback": [
            "\u001b[1;31mFailed to start the Kernel. \n",
            "\u001b[1;31mJupyter server crashed. Unable to connect. \n",
            "\u001b[1;31mError code from Jupyter: 1\n",
            "\u001b[1;31mTraceback (most recent call last):\n",
            "\u001b[1;31m  File \"/home/andsilva/.local/bin/jupyter-notebook\", line 5, in <module>\n",
            "\u001b[1;31m    from notebook.notebookapp import main\n",
            "\u001b[1;31m  File \"/home/andsilva/.local/lib/python3.10/site-packages/notebook/notebookapp.py\", line 57, in <module>\n",
            "\u001b[1;31m    raise ImportError(_(\"The Jupyter Notebook requires tornado >= 5.0, but you have %s\") % tornado.version)\n",
            "\u001b[1;31mImportError: The Jupyter Notebook requires tornado >= 5.0, but you have 4.5.3. \n",
            "\u001b[1;31mView Jupyter <a href='command:jupyter.viewOutput'>log</a> for further details."
          ]
        }
      ],
      "source": [
        "default = train_set.copy()\n",
        "default.head()"
      ]
    },
    {
      "cell_type": "markdown",
      "metadata": {
        "id": "oYRtUOBtZANe"
      },
      "source": [
        "Aparentemente há uma correlação positiva e alta do label (credit_card_default) com as características default_in_last_6months e prev_defaults.\n",
        "\n",
        "Com relação às correlações negativas, destacam-se no_of_days_employed e o credit_score, o que está dentro do esperado."
      ]
    },
    {
      "cell_type": "code",
      "execution_count": null,
      "metadata": {
        "colab": {
          "base_uri": "https://localhost:8080/"
        },
        "id": "Qz0qfVJ_ZIsZ",
        "outputId": "ca0826aa-6e62-47ab-ab98-f1c358fe4300"
      },
      "outputs": [
        {
          "ename": "",
          "evalue": "",
          "output_type": "error",
          "traceback": [
            "\u001b[1;31mFailed to start the Kernel. \n",
            "\u001b[1;31mJupyter server crashed. Unable to connect. \n",
            "\u001b[1;31mError code from Jupyter: 1\n",
            "\u001b[1;31mTraceback (most recent call last):\n",
            "\u001b[1;31m  File \"/home/andsilva/.local/bin/jupyter-notebook\", line 5, in <module>\n",
            "\u001b[1;31m    from notebook.notebookapp import main\n",
            "\u001b[1;31m  File \"/home/andsilva/.local/lib/python3.10/site-packages/notebook/notebookapp.py\", line 57, in <module>\n",
            "\u001b[1;31m    raise ImportError(_(\"The Jupyter Notebook requires tornado >= 5.0, but you have %s\") % tornado.version)\n",
            "\u001b[1;31mImportError: The Jupyter Notebook requires tornado >= 5.0, but you have 4.5.3. \n",
            "\u001b[1;31mView Jupyter <a href='command:jupyter.viewOutput'>log</a> for further details."
          ]
        }
      ],
      "source": [
        "corr_matrix = default.corr()\n",
        "corr_matrix['credit_card_default'].sort_values(ascending=False)"
      ]
    },
    {
      "cell_type": "code",
      "execution_count": null,
      "metadata": {
        "id": "r9UEpZkZayN8"
      },
      "outputs": [
        {
          "ename": "",
          "evalue": "",
          "output_type": "error",
          "traceback": [
            "\u001b[1;31mFailed to start the Kernel. \n",
            "\u001b[1;31mJupyter server crashed. Unable to connect. \n",
            "\u001b[1;31mError code from Jupyter: 1\n",
            "\u001b[1;31mTraceback (most recent call last):\n",
            "\u001b[1;31m  File \"/home/andsilva/.local/bin/jupyter-notebook\", line 5, in <module>\n",
            "\u001b[1;31m    from notebook.notebookapp import main\n",
            "\u001b[1;31m  File \"/home/andsilva/.local/lib/python3.10/site-packages/notebook/notebookapp.py\", line 57, in <module>\n",
            "\u001b[1;31m    raise ImportError(_(\"The Jupyter Notebook requires tornado >= 5.0, but you have %s\") % tornado.version)\n",
            "\u001b[1;31mImportError: The Jupyter Notebook requires tornado >= 5.0, but you have 4.5.3. \n",
            "\u001b[1;31mView Jupyter <a href='command:jupyter.viewOutput'>log</a> for further details."
          ]
        }
      ],
      "source": [
        "from pandas.plotting import scatter_matrix\n",
        "\n",
        "attributes = [\"credit_card_default\", \"default_in_last_6months\", \"prev_defaults\",\n",
        "              \"credit_limit_used(%)\", 'no_of_days_employed', 'credit_score']\n",
        "scatter_matrix(default[attributes], figsize=(16, 12))\n",
        "plt.show()"
      ]
    },
    {
      "cell_type": "markdown",
      "metadata": {
        "id": "yF7npXLRVX_C"
      },
      "source": [
        "#Preparando os dados para os algoritmos"
      ]
    },
    {
      "cell_type": "markdown",
      "metadata": {
        "id": "gWeJxP8lRo01"
      },
      "source": [
        "##Separando características e labels"
      ]
    },
    {
      "cell_type": "markdown",
      "metadata": {
        "id": "HkelyBC-isIk"
      },
      "source": [
        "Características."
      ]
    },
    {
      "cell_type": "code",
      "execution_count": null,
      "metadata": {
        "id": "H4McNZqziulE"
      },
      "outputs": [
        {
          "ename": "",
          "evalue": "",
          "output_type": "error",
          "traceback": [
            "\u001b[1;31mFailed to start the Kernel. \n",
            "\u001b[1;31mJupyter server crashed. Unable to connect. \n",
            "\u001b[1;31mError code from Jupyter: 1\n",
            "\u001b[1;31mTraceback (most recent call last):\n",
            "\u001b[1;31m  File \"/home/andsilva/.local/bin/jupyter-notebook\", line 5, in <module>\n",
            "\u001b[1;31m    from notebook.notebookapp import main\n",
            "\u001b[1;31m  File \"/home/andsilva/.local/lib/python3.10/site-packages/notebook/notebookapp.py\", line 57, in <module>\n",
            "\u001b[1;31m    raise ImportError(_(\"The Jupyter Notebook requires tornado >= 5.0, but you have %s\") % tornado.version)\n",
            "\u001b[1;31mImportError: The Jupyter Notebook requires tornado >= 5.0, but you have 4.5.3. \n",
            "\u001b[1;31mView Jupyter <a href='command:jupyter.viewOutput'>log</a> for further details."
          ]
        }
      ],
      "source": [
        "todrop = ['credit_card_default', 'index']\n",
        "default_X = train_set.drop(todrop, axis=1)\n",
        "default_X.head()"
      ]
    },
    {
      "cell_type": "markdown",
      "metadata": {
        "id": "Lu4gi10llMsR"
      },
      "source": [
        "Labels."
      ]
    },
    {
      "cell_type": "code",
      "execution_count": null,
      "metadata": {
        "id": "3iGvdKOhjdvZ"
      },
      "outputs": [
        {
          "ename": "",
          "evalue": "",
          "output_type": "error",
          "traceback": [
            "\u001b[1;31mFailed to start the Kernel. \n",
            "\u001b[1;31mJupyter server crashed. Unable to connect. \n",
            "\u001b[1;31mError code from Jupyter: 1\n",
            "\u001b[1;31mTraceback (most recent call last):\n",
            "\u001b[1;31m  File \"/home/andsilva/.local/bin/jupyter-notebook\", line 5, in <module>\n",
            "\u001b[1;31m    from notebook.notebookapp import main\n",
            "\u001b[1;31m  File \"/home/andsilva/.local/lib/python3.10/site-packages/notebook/notebookapp.py\", line 57, in <module>\n",
            "\u001b[1;31m    raise ImportError(_(\"The Jupyter Notebook requires tornado >= 5.0, but you have %s\") % tornado.version)\n",
            "\u001b[1;31mImportError: The Jupyter Notebook requires tornado >= 5.0, but you have 4.5.3. \n",
            "\u001b[1;31mView Jupyter <a href='command:jupyter.viewOutput'>log</a> for further details."
          ]
        }
      ],
      "source": [
        "default_Y = train_set[\"credit_card_default\"].copy()\n",
        "default_Y.head()"
      ]
    },
    {
      "cell_type": "markdown",
      "metadata": {
        "id": "rw0rVkwQRzjQ"
      },
      "source": [
        "##Definindo e separando as variáveis numéricas e categóricas"
      ]
    },
    {
      "cell_type": "markdown",
      "metadata": {
        "id": "DwEBBRHqKh_4"
      },
      "source": [
        "###Variáveis categóricas"
      ]
    },
    {
      "cell_type": "markdown",
      "metadata": {
        "id": "AU7BFvEnfYeC"
      },
      "source": [
        "Separando variáveis categóricas."
      ]
    },
    {
      "cell_type": "code",
      "execution_count": null,
      "metadata": {
        "id": "hDuA5JMQiSIk"
      },
      "outputs": [
        {
          "ename": "",
          "evalue": "",
          "output_type": "error",
          "traceback": [
            "\u001b[1;31mFailed to start the Kernel. \n",
            "\u001b[1;31mJupyter server crashed. Unable to connect. \n",
            "\u001b[1;31mError code from Jupyter: 1\n",
            "\u001b[1;31mTraceback (most recent call last):\n",
            "\u001b[1;31m  File \"/home/andsilva/.local/bin/jupyter-notebook\", line 5, in <module>\n",
            "\u001b[1;31m    from notebook.notebookapp import main\n",
            "\u001b[1;31m  File \"/home/andsilva/.local/lib/python3.10/site-packages/notebook/notebookapp.py\", line 57, in <module>\n",
            "\u001b[1;31m    raise ImportError(_(\"The Jupyter Notebook requires tornado >= 5.0, but you have %s\") % tornado.version)\n",
            "\u001b[1;31mImportError: The Jupyter Notebook requires tornado >= 5.0, but you have 4.5.3. \n",
            "\u001b[1;31mView Jupyter <a href='command:jupyter.viewOutput'>log</a> for further details."
          ]
        }
      ],
      "source": [
        "default_X.head()"
      ]
    },
    {
      "cell_type": "code",
      "execution_count": null,
      "metadata": {
        "id": "Ztca4YVQSqJh"
      },
      "outputs": [
        {
          "ename": "",
          "evalue": "",
          "output_type": "error",
          "traceback": [
            "\u001b[1;31mFailed to start the Kernel. \n",
            "\u001b[1;31mJupyter server crashed. Unable to connect. \n",
            "\u001b[1;31mError code from Jupyter: 1\n",
            "\u001b[1;31mTraceback (most recent call last):\n",
            "\u001b[1;31m  File \"/home/andsilva/.local/bin/jupyter-notebook\", line 5, in <module>\n",
            "\u001b[1;31m    from notebook.notebookapp import main\n",
            "\u001b[1;31m  File \"/home/andsilva/.local/lib/python3.10/site-packages/notebook/notebookapp.py\", line 57, in <module>\n",
            "\u001b[1;31m    raise ImportError(_(\"The Jupyter Notebook requires tornado >= 5.0, but you have %s\") % tornado.version)\n",
            "\u001b[1;31mImportError: The Jupyter Notebook requires tornado >= 5.0, but you have 4.5.3. \n",
            "\u001b[1;31mView Jupyter <a href='command:jupyter.viewOutput'>log</a> for further details."
          ]
        }
      ],
      "source": [
        "cat = ['gender', 'owns_car', 'owns_house', 'occupation_type', 'migrant_worker']\n",
        "cat"
      ]
    },
    {
      "cell_type": "code",
      "execution_count": null,
      "metadata": {
        "id": "Q1d6SH7CS8re"
      },
      "outputs": [
        {
          "ename": "",
          "evalue": "",
          "output_type": "error",
          "traceback": [
            "\u001b[1;31mFailed to start the Kernel. \n",
            "\u001b[1;31mJupyter server crashed. Unable to connect. \n",
            "\u001b[1;31mError code from Jupyter: 1\n",
            "\u001b[1;31mTraceback (most recent call last):\n",
            "\u001b[1;31m  File \"/home/andsilva/.local/bin/jupyter-notebook\", line 5, in <module>\n",
            "\u001b[1;31m    from notebook.notebookapp import main\n",
            "\u001b[1;31m  File \"/home/andsilva/.local/lib/python3.10/site-packages/notebook/notebookapp.py\", line 57, in <module>\n",
            "\u001b[1;31m    raise ImportError(_(\"The Jupyter Notebook requires tornado >= 5.0, but you have %s\") % tornado.version)\n",
            "\u001b[1;31mImportError: The Jupyter Notebook requires tornado >= 5.0, but you have 4.5.3. \n",
            "\u001b[1;31mView Jupyter <a href='command:jupyter.viewOutput'>log</a> for further details."
          ]
        }
      ],
      "source": [
        "default_X_cat = default_X[cat]\n",
        "default_X_cat"
      ]
    },
    {
      "cell_type": "markdown",
      "metadata": {
        "id": "sVHUBQBiFM2N"
      },
      "source": [
        "Temos 19 tipos de ocupação.\n",
        "\n",
        "\n"
      ]
    },
    {
      "cell_type": "code",
      "execution_count": null,
      "metadata": {
        "id": "ZqS5Vk79E80r"
      },
      "outputs": [
        {
          "ename": "",
          "evalue": "",
          "output_type": "error",
          "traceback": [
            "\u001b[1;31mFailed to start the Kernel. \n",
            "\u001b[1;31mJupyter server crashed. Unable to connect. \n",
            "\u001b[1;31mError code from Jupyter: 1\n",
            "\u001b[1;31mTraceback (most recent call last):\n",
            "\u001b[1;31m  File \"/home/andsilva/.local/bin/jupyter-notebook\", line 5, in <module>\n",
            "\u001b[1;31m    from notebook.notebookapp import main\n",
            "\u001b[1;31m  File \"/home/andsilva/.local/lib/python3.10/site-packages/notebook/notebookapp.py\", line 57, in <module>\n",
            "\u001b[1;31m    raise ImportError(_(\"The Jupyter Notebook requires tornado >= 5.0, but you have %s\") % tornado.version)\n",
            "\u001b[1;31mImportError: The Jupyter Notebook requires tornado >= 5.0, but you have 4.5.3. \n",
            "\u001b[1;31mView Jupyter <a href='command:jupyter.viewOutput'>log</a> for further details."
          ]
        }
      ],
      "source": [
        "default_X['occupation_type'].value_counts()"
      ]
    },
    {
      "cell_type": "markdown",
      "metadata": {
        "id": "o3zSruhUKm2P"
      },
      "source": [
        "###Variáveis numéricas"
      ]
    },
    {
      "cell_type": "markdown",
      "metadata": {
        "id": "2CC2fBWEiSxz"
      },
      "source": [
        "Separando variáveis numéricas."
      ]
    },
    {
      "cell_type": "code",
      "execution_count": null,
      "metadata": {
        "id": "SHyaHI5TiWUY"
      },
      "outputs": [
        {
          "ename": "",
          "evalue": "",
          "output_type": "error",
          "traceback": [
            "\u001b[1;31mFailed to start the Kernel. \n",
            "\u001b[1;31mJupyter server crashed. Unable to connect. \n",
            "\u001b[1;31mError code from Jupyter: 1\n",
            "\u001b[1;31mTraceback (most recent call last):\n",
            "\u001b[1;31m  File \"/home/andsilva/.local/bin/jupyter-notebook\", line 5, in <module>\n",
            "\u001b[1;31m    from notebook.notebookapp import main\n",
            "\u001b[1;31m  File \"/home/andsilva/.local/lib/python3.10/site-packages/notebook/notebookapp.py\", line 57, in <module>\n",
            "\u001b[1;31m    raise ImportError(_(\"The Jupyter Notebook requires tornado >= 5.0, but you have %s\") % tornado.version)\n",
            "\u001b[1;31mImportError: The Jupyter Notebook requires tornado >= 5.0, but you have 4.5.3. \n",
            "\u001b[1;31mView Jupyter <a href='command:jupyter.viewOutput'>log</a> for further details."
          ]
        }
      ],
      "source": [
        "num = ['age', 'no_of_children', 'net_yearly_income', 'no_of_days_employed' ,\n",
        "       'total_family_members', 'yearly_debt_payments', 'credit_limit',\n",
        "       'credit_limit_used(%)', 'credit_score', 'prev_defaults', 'default_in_last_6months']\n",
        "num"
      ]
    },
    {
      "cell_type": "code",
      "execution_count": null,
      "metadata": {
        "id": "tgM6UayriTqA"
      },
      "outputs": [
        {
          "ename": "",
          "evalue": "",
          "output_type": "error",
          "traceback": [
            "\u001b[1;31mFailed to start the Kernel. \n",
            "\u001b[1;31mJupyter server crashed. Unable to connect. \n",
            "\u001b[1;31mError code from Jupyter: 1\n",
            "\u001b[1;31mTraceback (most recent call last):\n",
            "\u001b[1;31m  File \"/home/andsilva/.local/bin/jupyter-notebook\", line 5, in <module>\n",
            "\u001b[1;31m    from notebook.notebookapp import main\n",
            "\u001b[1;31m  File \"/home/andsilva/.local/lib/python3.10/site-packages/notebook/notebookapp.py\", line 57, in <module>\n",
            "\u001b[1;31m    raise ImportError(_(\"The Jupyter Notebook requires tornado >= 5.0, but you have %s\") % tornado.version)\n",
            "\u001b[1;31mImportError: The Jupyter Notebook requires tornado >= 5.0, but you have 4.5.3. \n",
            "\u001b[1;31mView Jupyter <a href='command:jupyter.viewOutput'>log</a> for further details."
          ]
        }
      ],
      "source": [
        "default_X_num = default_X[num]\n",
        "default_X_num.head()"
      ]
    },
    {
      "cell_type": "markdown",
      "metadata": {
        "id": "0GFx_nMVetvF"
      },
      "source": [
        "##Preparando os pipelines de transformação dos dados"
      ]
    },
    {
      "cell_type": "markdown",
      "metadata": {
        "id": "gJpO72adkT0O"
      },
      "source": [
        "###Pipeline numérico"
      ]
    },
    {
      "cell_type": "code",
      "execution_count": null,
      "metadata": {
        "id": "cw8EMJYNiZIN"
      },
      "outputs": [
        {
          "ename": "",
          "evalue": "",
          "output_type": "error",
          "traceback": [
            "\u001b[1;31mFailed to start the Kernel. \n",
            "\u001b[1;31mJupyter server crashed. Unable to connect. \n",
            "\u001b[1;31mError code from Jupyter: 1\n",
            "\u001b[1;31mTraceback (most recent call last):\n",
            "\u001b[1;31m  File \"/home/andsilva/.local/bin/jupyter-notebook\", line 5, in <module>\n",
            "\u001b[1;31m    from notebook.notebookapp import main\n",
            "\u001b[1;31m  File \"/home/andsilva/.local/lib/python3.10/site-packages/notebook/notebookapp.py\", line 57, in <module>\n",
            "\u001b[1;31m    raise ImportError(_(\"The Jupyter Notebook requires tornado >= 5.0, but you have %s\") % tornado.version)\n",
            "\u001b[1;31mImportError: The Jupyter Notebook requires tornado >= 5.0, but you have 4.5.3. \n",
            "\u001b[1;31mView Jupyter <a href='command:jupyter.viewOutput'>log</a> for further details."
          ]
        }
      ],
      "source": [
        "from sklearn.pipeline import Pipeline\n",
        "from sklearn.impute import SimpleImputer\n",
        "from sklearn.preprocessing import StandardScaler"
      ]
    },
    {
      "cell_type": "markdown",
      "metadata": {
        "id": "bvclRKtYgziG"
      },
      "source": [
        "Definindo o pipeline numérico"
      ]
    },
    {
      "cell_type": "code",
      "execution_count": null,
      "metadata": {
        "id": "TfaM5-gVhC6q"
      },
      "outputs": [
        {
          "ename": "",
          "evalue": "",
          "output_type": "error",
          "traceback": [
            "\u001b[1;31mFailed to start the Kernel. \n",
            "\u001b[1;31mJupyter server crashed. Unable to connect. \n",
            "\u001b[1;31mError code from Jupyter: 1\n",
            "\u001b[1;31mTraceback (most recent call last):\n",
            "\u001b[1;31m  File \"/home/andsilva/.local/bin/jupyter-notebook\", line 5, in <module>\n",
            "\u001b[1;31m    from notebook.notebookapp import main\n",
            "\u001b[1;31m  File \"/home/andsilva/.local/lib/python3.10/site-packages/notebook/notebookapp.py\", line 57, in <module>\n",
            "\u001b[1;31m    raise ImportError(_(\"The Jupyter Notebook requires tornado >= 5.0, but you have %s\") % tornado.version)\n",
            "\u001b[1;31mImportError: The Jupyter Notebook requires tornado >= 5.0, but you have 4.5.3. \n",
            "\u001b[1;31mView Jupyter <a href='command:jupyter.viewOutput'>log</a> for further details."
          ]
        }
      ],
      "source": [
        "num_pipeline = Pipeline([\n",
        "                         ('imputer', SimpleImputer(strategy='median')),\n",
        "                         ('std_scaler', StandardScaler())\n",
        "])"
      ]
    },
    {
      "cell_type": "markdown",
      "metadata": {
        "id": "NOqvEPw2jOw3"
      },
      "source": [
        "Aplicando o pipeline numérico."
      ]
    },
    {
      "cell_type": "code",
      "execution_count": null,
      "metadata": {
        "id": "Xc_n5iZXhJVF"
      },
      "outputs": [
        {
          "ename": "",
          "evalue": "",
          "output_type": "error",
          "traceback": [
            "\u001b[1;31mFailed to start the Kernel. \n",
            "\u001b[1;31mJupyter server crashed. Unable to connect. \n",
            "\u001b[1;31mError code from Jupyter: 1\n",
            "\u001b[1;31mTraceback (most recent call last):\n",
            "\u001b[1;31m  File \"/home/andsilva/.local/bin/jupyter-notebook\", line 5, in <module>\n",
            "\u001b[1;31m    from notebook.notebookapp import main\n",
            "\u001b[1;31m  File \"/home/andsilva/.local/lib/python3.10/site-packages/notebook/notebookapp.py\", line 57, in <module>\n",
            "\u001b[1;31m    raise ImportError(_(\"The Jupyter Notebook requires tornado >= 5.0, but you have %s\") % tornado.version)\n",
            "\u001b[1;31mImportError: The Jupyter Notebook requires tornado >= 5.0, but you have 4.5.3. \n",
            "\u001b[1;31mView Jupyter <a href='command:jupyter.viewOutput'>log</a> for further details."
          ]
        }
      ],
      "source": [
        "default_X_num_prep = num_pipeline.fit_transform(default_X_num)\n",
        "default_X_num_prep"
      ]
    },
    {
      "cell_type": "code",
      "execution_count": null,
      "metadata": {
        "id": "BKccN1mPU3KU"
      },
      "outputs": [
        {
          "ename": "",
          "evalue": "",
          "output_type": "error",
          "traceback": [
            "\u001b[1;31mFailed to start the Kernel. \n",
            "\u001b[1;31mJupyter server crashed. Unable to connect. \n",
            "\u001b[1;31mError code from Jupyter: 1\n",
            "\u001b[1;31mTraceback (most recent call last):\n",
            "\u001b[1;31m  File \"/home/andsilva/.local/bin/jupyter-notebook\", line 5, in <module>\n",
            "\u001b[1;31m    from notebook.notebookapp import main\n",
            "\u001b[1;31m  File \"/home/andsilva/.local/lib/python3.10/site-packages/notebook/notebookapp.py\", line 57, in <module>\n",
            "\u001b[1;31m    raise ImportError(_(\"The Jupyter Notebook requires tornado >= 5.0, but you have %s\") % tornado.version)\n",
            "\u001b[1;31mImportError: The Jupyter Notebook requires tornado >= 5.0, but you have 4.5.3. \n",
            "\u001b[1;31mView Jupyter <a href='command:jupyter.viewOutput'>log</a> for further details."
          ]
        }
      ],
      "source": [
        "default_X_num_prep.shape"
      ]
    },
    {
      "cell_type": "markdown",
      "metadata": {
        "id": "jCGEdYZHjcyo"
      },
      "source": [
        "Verificando o resultado da transformação."
      ]
    },
    {
      "cell_type": "code",
      "execution_count": null,
      "metadata": {
        "id": "IqDbf3w9jim7"
      },
      "outputs": [
        {
          "ename": "",
          "evalue": "",
          "output_type": "error",
          "traceback": [
            "\u001b[1;31mFailed to start the Kernel. \n",
            "\u001b[1;31mJupyter server crashed. Unable to connect. \n",
            "\u001b[1;31mError code from Jupyter: 1\n",
            "\u001b[1;31mTraceback (most recent call last):\n",
            "\u001b[1;31m  File \"/home/andsilva/.local/bin/jupyter-notebook\", line 5, in <module>\n",
            "\u001b[1;31m    from notebook.notebookapp import main\n",
            "\u001b[1;31m  File \"/home/andsilva/.local/lib/python3.10/site-packages/notebook/notebookapp.py\", line 57, in <module>\n",
            "\u001b[1;31m    raise ImportError(_(\"The Jupyter Notebook requires tornado >= 5.0, but you have %s\") % tornado.version)\n",
            "\u001b[1;31mImportError: The Jupyter Notebook requires tornado >= 5.0, but you have 4.5.3. \n",
            "\u001b[1;31mView Jupyter <a href='command:jupyter.viewOutput'>log</a> for further details."
          ]
        }
      ],
      "source": [
        "pd.DataFrame(default_X_num_prep, columns=num).describe()"
      ]
    },
    {
      "cell_type": "code",
      "execution_count": null,
      "metadata": {
        "id": "QU-ZLyFlisbv"
      },
      "outputs": [
        {
          "ename": "",
          "evalue": "",
          "output_type": "error",
          "traceback": [
            "\u001b[1;31mFailed to start the Kernel. \n",
            "\u001b[1;31mJupyter server crashed. Unable to connect. \n",
            "\u001b[1;31mError code from Jupyter: 1\n",
            "\u001b[1;31mTraceback (most recent call last):\n",
            "\u001b[1;31m  File \"/home/andsilva/.local/bin/jupyter-notebook\", line 5, in <module>\n",
            "\u001b[1;31m    from notebook.notebookapp import main\n",
            "\u001b[1;31m  File \"/home/andsilva/.local/lib/python3.10/site-packages/notebook/notebookapp.py\", line 57, in <module>\n",
            "\u001b[1;31m    raise ImportError(_(\"The Jupyter Notebook requires tornado >= 5.0, but you have %s\") % tornado.version)\n",
            "\u001b[1;31mImportError: The Jupyter Notebook requires tornado >= 5.0, but you have 4.5.3. \n",
            "\u001b[1;31mView Jupyter <a href='command:jupyter.viewOutput'>log</a> for further details."
          ]
        }
      ],
      "source": [
        "pd.DataFrame(default_X_num_prep, columns=num).hist(bins=50, figsize=(20,15))\n",
        "plt.show"
      ]
    },
    {
      "cell_type": "markdown",
      "metadata": {
        "id": "0-wHo8XHkYNa"
      },
      "source": [
        "###Pipeline categórico"
      ]
    },
    {
      "cell_type": "code",
      "execution_count": null,
      "metadata": {
        "id": "wn8ONvWp8eQ5"
      },
      "outputs": [
        {
          "ename": "",
          "evalue": "",
          "output_type": "error",
          "traceback": [
            "\u001b[1;31mFailed to start the Kernel. \n",
            "\u001b[1;31mJupyter server crashed. Unable to connect. \n",
            "\u001b[1;31mError code from Jupyter: 1\n",
            "\u001b[1;31mTraceback (most recent call last):\n",
            "\u001b[1;31m  File \"/home/andsilva/.local/bin/jupyter-notebook\", line 5, in <module>\n",
            "\u001b[1;31m    from notebook.notebookapp import main\n",
            "\u001b[1;31m  File \"/home/andsilva/.local/lib/python3.10/site-packages/notebook/notebookapp.py\", line 57, in <module>\n",
            "\u001b[1;31m    raise ImportError(_(\"The Jupyter Notebook requires tornado >= 5.0, but you have %s\") % tornado.version)\n",
            "\u001b[1;31mImportError: The Jupyter Notebook requires tornado >= 5.0, but you have 4.5.3. \n",
            "\u001b[1;31mView Jupyter <a href='command:jupyter.viewOutput'>log</a> for further details."
          ]
        }
      ],
      "source": [
        "default_X_cat"
      ]
    },
    {
      "cell_type": "markdown",
      "metadata": {
        "id": "g-Ta8OK6__Xi"
      },
      "source": [
        "Definindo o encoder categórico."
      ]
    },
    {
      "cell_type": "code",
      "execution_count": null,
      "metadata": {
        "id": "9Er95hC4_aRT"
      },
      "outputs": [
        {
          "ename": "",
          "evalue": "",
          "output_type": "error",
          "traceback": [
            "\u001b[1;31mFailed to start the Kernel. \n",
            "\u001b[1;31mJupyter server crashed. Unable to connect. \n",
            "\u001b[1;31mError code from Jupyter: 1\n",
            "\u001b[1;31mTraceback (most recent call last):\n",
            "\u001b[1;31m  File \"/home/andsilva/.local/bin/jupyter-notebook\", line 5, in <module>\n",
            "\u001b[1;31m    from notebook.notebookapp import main\n",
            "\u001b[1;31m  File \"/home/andsilva/.local/lib/python3.10/site-packages/notebook/notebookapp.py\", line 57, in <module>\n",
            "\u001b[1;31m    raise ImportError(_(\"The Jupyter Notebook requires tornado >= 5.0, but you have %s\") % tornado.version)\n",
            "\u001b[1;31mImportError: The Jupyter Notebook requires tornado >= 5.0, but you have 4.5.3. \n",
            "\u001b[1;31mView Jupyter <a href='command:jupyter.viewOutput'>log</a> for further details."
          ]
        }
      ],
      "source": [
        "from sklearn.preprocessing import OneHotEncoder\n",
        "cat_encoder = OneHotEncoder()"
      ]
    },
    {
      "cell_type": "code",
      "execution_count": null,
      "metadata": {
        "id": "1mQ4DTmV_c9I"
      },
      "outputs": [
        {
          "ename": "",
          "evalue": "",
          "output_type": "error",
          "traceback": [
            "\u001b[1;31mFailed to start the Kernel. \n",
            "\u001b[1;31mJupyter server crashed. Unable to connect. \n",
            "\u001b[1;31mError code from Jupyter: 1\n",
            "\u001b[1;31mTraceback (most recent call last):\n",
            "\u001b[1;31m  File \"/home/andsilva/.local/bin/jupyter-notebook\", line 5, in <module>\n",
            "\u001b[1;31m    from notebook.notebookapp import main\n",
            "\u001b[1;31m  File \"/home/andsilva/.local/lib/python3.10/site-packages/notebook/notebookapp.py\", line 57, in <module>\n",
            "\u001b[1;31m    raise ImportError(_(\"The Jupyter Notebook requires tornado >= 5.0, but you have %s\") % tornado.version)\n",
            "\u001b[1;31mImportError: The Jupyter Notebook requires tornado >= 5.0, but you have 4.5.3. \n",
            "\u001b[1;31mView Jupyter <a href='command:jupyter.viewOutput'>log</a> for further details."
          ]
        }
      ],
      "source": [
        "default_X_cat_1hot = cat_encoder.fit_transform(default_X_cat)\n",
        "default_X_cat_1hot = default_X_cat_1hot.toarray()\n",
        "default_X_cat_1hot"
      ]
    },
    {
      "cell_type": "markdown",
      "metadata": {
        "id": "mlJTtWurMMNt"
      },
      "source": [
        "Temos 2 colunas novas a mais do que esperado, pois owns_car e migrant_worker têm missing values, então o OneHotEncoder gerou uma coluna a mais para cada um deles para representar o missing value. \n",
        "\n",
        "Como não é possível arbitrar um valor da mesma forma que fazemos para variáveis números, temos as seguintes alternativas: \n",
        "\n",
        "1.   Ignorar as observações;\n",
        "2.   Ignorar a variável;\n",
        "3.   Desenvolver um modelo para predizer os *missing values*;\n",
        "4.   Tratar como se fosse mais uma categoria.\n",
        "\n",
        "Entendemos que no nosso caso a 4ª opção seria a mais interessante e seguimos com ela.\n",
        "\n",
        "\n",
        "\n",
        "\n"
      ]
    },
    {
      "cell_type": "code",
      "execution_count": null,
      "metadata": {
        "id": "wEgZsiwppJrv"
      },
      "outputs": [
        {
          "ename": "",
          "evalue": "",
          "output_type": "error",
          "traceback": [
            "\u001b[1;31mFailed to start the Kernel. \n",
            "\u001b[1;31mJupyter server crashed. Unable to connect. \n",
            "\u001b[1;31mError code from Jupyter: 1\n",
            "\u001b[1;31mTraceback (most recent call last):\n",
            "\u001b[1;31m  File \"/home/andsilva/.local/bin/jupyter-notebook\", line 5, in <module>\n",
            "\u001b[1;31m    from notebook.notebookapp import main\n",
            "\u001b[1;31m  File \"/home/andsilva/.local/lib/python3.10/site-packages/notebook/notebookapp.py\", line 57, in <module>\n",
            "\u001b[1;31m    raise ImportError(_(\"The Jupyter Notebook requires tornado >= 5.0, but you have %s\") % tornado.version)\n",
            "\u001b[1;31mImportError: The Jupyter Notebook requires tornado >= 5.0, but you have 4.5.3. \n",
            "\u001b[1;31mView Jupyter <a href='command:jupyter.viewOutput'>log</a> for further details."
          ]
        }
      ],
      "source": [
        "default_X_cat.nunique()"
      ]
    },
    {
      "cell_type": "code",
      "execution_count": null,
      "metadata": {
        "id": "xTGmYciTMc1G"
      },
      "outputs": [
        {
          "ename": "",
          "evalue": "",
          "output_type": "error",
          "traceback": [
            "\u001b[1;31mFailed to start the Kernel. \n",
            "\u001b[1;31mJupyter server crashed. Unable to connect. \n",
            "\u001b[1;31mError code from Jupyter: 1\n",
            "\u001b[1;31mTraceback (most recent call last):\n",
            "\u001b[1;31m  File \"/home/andsilva/.local/bin/jupyter-notebook\", line 5, in <module>\n",
            "\u001b[1;31m    from notebook.notebookapp import main\n",
            "\u001b[1;31m  File \"/home/andsilva/.local/lib/python3.10/site-packages/notebook/notebookapp.py\", line 57, in <module>\n",
            "\u001b[1;31m    raise ImportError(_(\"The Jupyter Notebook requires tornado >= 5.0, but you have %s\") % tornado.version)\n",
            "\u001b[1;31mImportError: The Jupyter Notebook requires tornado >= 5.0, but you have 4.5.3. \n",
            "\u001b[1;31mView Jupyter <a href='command:jupyter.viewOutput'>log</a> for further details."
          ]
        }
      ],
      "source": [
        "default_X_cat.nunique().sum()"
      ]
    },
    {
      "cell_type": "code",
      "execution_count": null,
      "metadata": {
        "id": "5JUG8A6UMp2C"
      },
      "outputs": [
        {
          "ename": "",
          "evalue": "",
          "output_type": "error",
          "traceback": [
            "\u001b[1;31mFailed to start the Kernel. \n",
            "\u001b[1;31mJupyter server crashed. Unable to connect. \n",
            "\u001b[1;31mError code from Jupyter: 1\n",
            "\u001b[1;31mTraceback (most recent call last):\n",
            "\u001b[1;31m  File \"/home/andsilva/.local/bin/jupyter-notebook\", line 5, in <module>\n",
            "\u001b[1;31m    from notebook.notebookapp import main\n",
            "\u001b[1;31m  File \"/home/andsilva/.local/lib/python3.10/site-packages/notebook/notebookapp.py\", line 57, in <module>\n",
            "\u001b[1;31m    raise ImportError(_(\"The Jupyter Notebook requires tornado >= 5.0, but you have %s\") % tornado.version)\n",
            "\u001b[1;31mImportError: The Jupyter Notebook requires tornado >= 5.0, but you have 4.5.3. \n",
            "\u001b[1;31mView Jupyter <a href='command:jupyter.viewOutput'>log</a> for further details."
          ]
        }
      ],
      "source": [
        "default_X_cat.isna().sum()"
      ]
    },
    {
      "cell_type": "code",
      "execution_count": null,
      "metadata": {
        "id": "iMSftfg1MHty"
      },
      "outputs": [
        {
          "ename": "",
          "evalue": "",
          "output_type": "error",
          "traceback": [
            "\u001b[1;31mFailed to start the Kernel. \n",
            "\u001b[1;31mJupyter server crashed. Unable to connect. \n",
            "\u001b[1;31mError code from Jupyter: 1\n",
            "\u001b[1;31mTraceback (most recent call last):\n",
            "\u001b[1;31m  File \"/home/andsilva/.local/bin/jupyter-notebook\", line 5, in <module>\n",
            "\u001b[1;31m    from notebook.notebookapp import main\n",
            "\u001b[1;31m  File \"/home/andsilva/.local/lib/python3.10/site-packages/notebook/notebookapp.py\", line 57, in <module>\n",
            "\u001b[1;31m    raise ImportError(_(\"The Jupyter Notebook requires tornado >= 5.0, but you have %s\") % tornado.version)\n",
            "\u001b[1;31mImportError: The Jupyter Notebook requires tornado >= 5.0, but you have 4.5.3. \n",
            "\u001b[1;31mView Jupyter <a href='command:jupyter.viewOutput'>log</a> for further details."
          ]
        }
      ],
      "source": [
        "default_X_cat_1hot.shape"
      ]
    },
    {
      "cell_type": "markdown",
      "metadata": {
        "id": "eULRKUzAO21N"
      },
      "source": [
        "###Pipeline completo"
      ]
    },
    {
      "cell_type": "code",
      "execution_count": null,
      "metadata": {
        "id": "KBN92WO1Tjm9"
      },
      "outputs": [
        {
          "ename": "",
          "evalue": "",
          "output_type": "error",
          "traceback": [
            "\u001b[1;31mFailed to start the Kernel. \n",
            "\u001b[1;31mJupyter server crashed. Unable to connect. \n",
            "\u001b[1;31mError code from Jupyter: 1\n",
            "\u001b[1;31mTraceback (most recent call last):\n",
            "\u001b[1;31m  File \"/home/andsilva/.local/bin/jupyter-notebook\", line 5, in <module>\n",
            "\u001b[1;31m    from notebook.notebookapp import main\n",
            "\u001b[1;31m  File \"/home/andsilva/.local/lib/python3.10/site-packages/notebook/notebookapp.py\", line 57, in <module>\n",
            "\u001b[1;31m    raise ImportError(_(\"The Jupyter Notebook requires tornado >= 5.0, but you have %s\") % tornado.version)\n",
            "\u001b[1;31mImportError: The Jupyter Notebook requires tornado >= 5.0, but you have 4.5.3. \n",
            "\u001b[1;31mView Jupyter <a href='command:jupyter.viewOutput'>log</a> for further details."
          ]
        }
      ],
      "source": [
        "from sklearn.compose import ColumnTransformer"
      ]
    },
    {
      "cell_type": "code",
      "execution_count": null,
      "metadata": {
        "id": "KHgocqRdTvWK"
      },
      "outputs": [
        {
          "ename": "",
          "evalue": "",
          "output_type": "error",
          "traceback": [
            "\u001b[1;31mFailed to start the Kernel. \n",
            "\u001b[1;31mJupyter server crashed. Unable to connect. \n",
            "\u001b[1;31mError code from Jupyter: 1\n",
            "\u001b[1;31mTraceback (most recent call last):\n",
            "\u001b[1;31m  File \"/home/andsilva/.local/bin/jupyter-notebook\", line 5, in <module>\n",
            "\u001b[1;31m    from notebook.notebookapp import main\n",
            "\u001b[1;31m  File \"/home/andsilva/.local/lib/python3.10/site-packages/notebook/notebookapp.py\", line 57, in <module>\n",
            "\u001b[1;31m    raise ImportError(_(\"The Jupyter Notebook requires tornado >= 5.0, but you have %s\") % tornado.version)\n",
            "\u001b[1;31mImportError: The Jupyter Notebook requires tornado >= 5.0, but you have 4.5.3. \n",
            "\u001b[1;31mView Jupyter <a href='command:jupyter.viewOutput'>log</a> for further details."
          ]
        }
      ],
      "source": [
        "full_pipeline = ColumnTransformer([\n",
        "                                   (\"num\", num_pipeline, num),\n",
        "                                   (\"cat\",OneHotEncoder(), cat)\n",
        "])"
      ]
    },
    {
      "cell_type": "code",
      "execution_count": null,
      "metadata": {
        "id": "ZRzJHQ2LUe0z"
      },
      "outputs": [
        {
          "ename": "",
          "evalue": "",
          "output_type": "error",
          "traceback": [
            "\u001b[1;31mFailed to start the Kernel. \n",
            "\u001b[1;31mJupyter server crashed. Unable to connect. \n",
            "\u001b[1;31mError code from Jupyter: 1\n",
            "\u001b[1;31mTraceback (most recent call last):\n",
            "\u001b[1;31m  File \"/home/andsilva/.local/bin/jupyter-notebook\", line 5, in <module>\n",
            "\u001b[1;31m    from notebook.notebookapp import main\n",
            "\u001b[1;31m  File \"/home/andsilva/.local/lib/python3.10/site-packages/notebook/notebookapp.py\", line 57, in <module>\n",
            "\u001b[1;31m    raise ImportError(_(\"The Jupyter Notebook requires tornado >= 5.0, but you have %s\") % tornado.version)\n",
            "\u001b[1;31mImportError: The Jupyter Notebook requires tornado >= 5.0, but you have 4.5.3. \n",
            "\u001b[1;31mView Jupyter <a href='command:jupyter.viewOutput'>log</a> for further details."
          ]
        }
      ],
      "source": [
        "default_X_prep = full_pipeline.fit_transform(default_X)"
      ]
    },
    {
      "cell_type": "code",
      "execution_count": null,
      "metadata": {
        "id": "7Z_z1VPqUrGE"
      },
      "outputs": [
        {
          "ename": "",
          "evalue": "",
          "output_type": "error",
          "traceback": [
            "\u001b[1;31mFailed to start the Kernel. \n",
            "\u001b[1;31mJupyter server crashed. Unable to connect. \n",
            "\u001b[1;31mError code from Jupyter: 1\n",
            "\u001b[1;31mTraceback (most recent call last):\n",
            "\u001b[1;31m  File \"/home/andsilva/.local/bin/jupyter-notebook\", line 5, in <module>\n",
            "\u001b[1;31m    from notebook.notebookapp import main\n",
            "\u001b[1;31m  File \"/home/andsilva/.local/lib/python3.10/site-packages/notebook/notebookapp.py\", line 57, in <module>\n",
            "\u001b[1;31m    raise ImportError(_(\"The Jupyter Notebook requires tornado >= 5.0, but you have %s\") % tornado.version)\n",
            "\u001b[1;31mImportError: The Jupyter Notebook requires tornado >= 5.0, but you have 4.5.3. \n",
            "\u001b[1;31mView Jupyter <a href='command:jupyter.viewOutput'>log</a> for further details."
          ]
        }
      ],
      "source": [
        "default_X_prep.shape"
      ]
    },
    {
      "cell_type": "markdown",
      "metadata": {
        "id": "EMwtdrQuX2Bl"
      },
      "source": [
        "Preparando a base de teste."
      ]
    },
    {
      "cell_type": "code",
      "execution_count": null,
      "metadata": {
        "id": "VZKg89krYNPi"
      },
      "outputs": [
        {
          "ename": "",
          "evalue": "",
          "output_type": "error",
          "traceback": [
            "\u001b[1;31mFailed to start the Kernel. \n",
            "\u001b[1;31mJupyter server crashed. Unable to connect. \n",
            "\u001b[1;31mError code from Jupyter: 1\n",
            "\u001b[1;31mTraceback (most recent call last):\n",
            "\u001b[1;31m  File \"/home/andsilva/.local/bin/jupyter-notebook\", line 5, in <module>\n",
            "\u001b[1;31m    from notebook.notebookapp import main\n",
            "\u001b[1;31m  File \"/home/andsilva/.local/lib/python3.10/site-packages/notebook/notebookapp.py\", line 57, in <module>\n",
            "\u001b[1;31m    raise ImportError(_(\"The Jupyter Notebook requires tornado >= 5.0, but you have %s\") % tornado.version)\n",
            "\u001b[1;31mImportError: The Jupyter Notebook requires tornado >= 5.0, but you have 4.5.3. \n",
            "\u001b[1;31mView Jupyter <a href='command:jupyter.viewOutput'>log</a> for further details."
          ]
        }
      ],
      "source": [
        "todrop = ['credit_card_default', 'index']\n",
        "default_X_test = test_set.drop(todrop, axis=1)\n",
        "default_X_test.head()"
      ]
    },
    {
      "cell_type": "code",
      "execution_count": null,
      "metadata": {
        "id": "RRhAW3EXYae9"
      },
      "outputs": [
        {
          "ename": "",
          "evalue": "",
          "output_type": "error",
          "traceback": [
            "\u001b[1;31mFailed to start the Kernel. \n",
            "\u001b[1;31mJupyter server crashed. Unable to connect. \n",
            "\u001b[1;31mError code from Jupyter: 1\n",
            "\u001b[1;31mTraceback (most recent call last):\n",
            "\u001b[1;31m  File \"/home/andsilva/.local/bin/jupyter-notebook\", line 5, in <module>\n",
            "\u001b[1;31m    from notebook.notebookapp import main\n",
            "\u001b[1;31m  File \"/home/andsilva/.local/lib/python3.10/site-packages/notebook/notebookapp.py\", line 57, in <module>\n",
            "\u001b[1;31m    raise ImportError(_(\"The Jupyter Notebook requires tornado >= 5.0, but you have %s\") % tornado.version)\n",
            "\u001b[1;31mImportError: The Jupyter Notebook requires tornado >= 5.0, but you have 4.5.3. \n",
            "\u001b[1;31mView Jupyter <a href='command:jupyter.viewOutput'>log</a> for further details."
          ]
        }
      ],
      "source": [
        "default_Y_test = test_set[\"credit_card_default\"].copy()\n",
        "default_Y_test.head()"
      ]
    },
    {
      "cell_type": "code",
      "execution_count": null,
      "metadata": {
        "id": "CBGxeYK0YiwQ"
      },
      "outputs": [
        {
          "ename": "",
          "evalue": "",
          "output_type": "error",
          "traceback": [
            "\u001b[1;31mFailed to start the Kernel. \n",
            "\u001b[1;31mJupyter server crashed. Unable to connect. \n",
            "\u001b[1;31mError code from Jupyter: 1\n",
            "\u001b[1;31mTraceback (most recent call last):\n",
            "\u001b[1;31m  File \"/home/andsilva/.local/bin/jupyter-notebook\", line 5, in <module>\n",
            "\u001b[1;31m    from notebook.notebookapp import main\n",
            "\u001b[1;31m  File \"/home/andsilva/.local/lib/python3.10/site-packages/notebook/notebookapp.py\", line 57, in <module>\n",
            "\u001b[1;31m    raise ImportError(_(\"The Jupyter Notebook requires tornado >= 5.0, but you have %s\") % tornado.version)\n",
            "\u001b[1;31mImportError: The Jupyter Notebook requires tornado >= 5.0, but you have 4.5.3. \n",
            "\u001b[1;31mView Jupyter <a href='command:jupyter.viewOutput'>log</a> for further details."
          ]
        }
      ],
      "source": [
        "default_X_test_prep = full_pipeline.transform(default_X_test)\n",
        "default_X_test_prep"
      ]
    },
    {
      "cell_type": "markdown",
      "metadata": {
        "id": "1Vgawb49V-ng"
      },
      "source": [
        "#Treinando modelos"
      ]
    },
    {
      "cell_type": "markdown",
      "metadata": {
        "id": "esvvclsIEyEz"
      },
      "source": [
        "**Modelos que serão treinados:**\n",
        "\n",
        "\n",
        "1.   Regressão Logística\n",
        "2.   Bagging\n",
        "3.   Árvore de Decisão\n",
        "4.   Random Forest\n",
        "5.   Gradient Boosting\n",
        "\n",
        "\n"
      ]
    },
    {
      "cell_type": "code",
      "execution_count": null,
      "metadata": {
        "id": "samIniOJUU0a"
      },
      "outputs": [
        {
          "ename": "",
          "evalue": "",
          "output_type": "error",
          "traceback": [
            "\u001b[1;31mFailed to start the Kernel. \n",
            "\u001b[1;31mJupyter server crashed. Unable to connect. \n",
            "\u001b[1;31mError code from Jupyter: 1\n",
            "\u001b[1;31mTraceback (most recent call last):\n",
            "\u001b[1;31m  File \"/home/andsilva/.local/bin/jupyter-notebook\", line 5, in <module>\n",
            "\u001b[1;31m    from notebook.notebookapp import main\n",
            "\u001b[1;31m  File \"/home/andsilva/.local/lib/python3.10/site-packages/notebook/notebookapp.py\", line 57, in <module>\n",
            "\u001b[1;31m    raise ImportError(_(\"The Jupyter Notebook requires tornado >= 5.0, but you have %s\") % tornado.version)\n",
            "\u001b[1;31mImportError: The Jupyter Notebook requires tornado >= 5.0, but you have 4.5.3. \n",
            "\u001b[1;31mView Jupyter <a href='command:jupyter.viewOutput'>log</a> for further details."
          ]
        }
      ],
      "source": [
        "from sklearn.model_selection import cross_val_predict"
      ]
    },
    {
      "cell_type": "markdown",
      "metadata": {
        "id": "g1Uy7T5KQ18s"
      },
      "source": [
        "##Definindo algumas funções de score"
      ]
    },
    {
      "cell_type": "code",
      "execution_count": null,
      "metadata": {
        "id": "yJjo3p2qXLAQ"
      },
      "outputs": [
        {
          "ename": "",
          "evalue": "",
          "output_type": "error",
          "traceback": [
            "\u001b[1;31mFailed to start the Kernel. \n",
            "\u001b[1;31mJupyter server crashed. Unable to connect. \n",
            "\u001b[1;31mError code from Jupyter: 1\n",
            "\u001b[1;31mTraceback (most recent call last):\n",
            "\u001b[1;31m  File \"/home/andsilva/.local/bin/jupyter-notebook\", line 5, in <module>\n",
            "\u001b[1;31m    from notebook.notebookapp import main\n",
            "\u001b[1;31m  File \"/home/andsilva/.local/lib/python3.10/site-packages/notebook/notebookapp.py\", line 57, in <module>\n",
            "\u001b[1;31m    raise ImportError(_(\"The Jupyter Notebook requires tornado >= 5.0, but you have %s\") % tornado.version)\n",
            "\u001b[1;31mImportError: The Jupyter Notebook requires tornado >= 5.0, but you have 4.5.3. \n",
            "\u001b[1;31mView Jupyter <a href='command:jupyter.viewOutput'>log</a> for further details."
          ]
        }
      ],
      "source": [
        "from sklearn.metrics import accuracy_score, confusion_matrix, precision_score, recall_score, f1_score\n",
        "from sklearn.model_selection import cross_val_score"
      ]
    },
    {
      "cell_type": "code",
      "execution_count": null,
      "metadata": {
        "id": "hZDnnAK4d5Sp"
      },
      "outputs": [
        {
          "ename": "",
          "evalue": "",
          "output_type": "error",
          "traceback": [
            "\u001b[1;31mFailed to start the Kernel. \n",
            "\u001b[1;31mJupyter server crashed. Unable to connect. \n",
            "\u001b[1;31mError code from Jupyter: 1\n",
            "\u001b[1;31mTraceback (most recent call last):\n",
            "\u001b[1;31m  File \"/home/andsilva/.local/bin/jupyter-notebook\", line 5, in <module>\n",
            "\u001b[1;31m    from notebook.notebookapp import main\n",
            "\u001b[1;31m  File \"/home/andsilva/.local/lib/python3.10/site-packages/notebook/notebookapp.py\", line 57, in <module>\n",
            "\u001b[1;31m    raise ImportError(_(\"The Jupyter Notebook requires tornado >= 5.0, but you have %s\") % tornado.version)\n",
            "\u001b[1;31mImportError: The Jupyter Notebook requires tornado >= 5.0, but you have 4.5.3. \n",
            "\u001b[1;31mView Jupyter <a href='command:jupyter.viewOutput'>log</a> for further details."
          ]
        }
      ],
      "source": [
        "#Função para retornar matriz de confusão, precision, recall e f1\n",
        "def score_completo(Y, Y_PRED):\n",
        "\n",
        "  conf_mx = confusion_matrix(Y, Y_PRED)\n",
        "  conf_mx = pd.DataFrame(conf_mx, columns=['Negativo Previsto', 'Positivo Previsto'], index=['Negativo Real', 'Positivo Real'])\n",
        "  accuracy = round(accuracy_score(Y, Y_PRED),4)\n",
        "  precision = round(precision_score(Y, Y_PRED),4)\n",
        "  recall = round(recall_score(Y, Y_PRED),4)\n",
        "  f1 = round(f1_score(Y, Y_PRED),4)\n",
        "\n",
        "  return print(f'                    \\033[1mConfusion Matrix\\033[0m \\n{conf_mx}\\n\\n Accuracy: {accuracy} | Precision: {precision} | Recall: {recall} | F1: {f1}')"
      ]
    },
    {
      "cell_type": "code",
      "execution_count": null,
      "metadata": {
        "id": "i2_44IohRGm4"
      },
      "outputs": [
        {
          "ename": "",
          "evalue": "",
          "output_type": "error",
          "traceback": [
            "\u001b[1;31mFailed to start the Kernel. \n",
            "\u001b[1;31mJupyter server crashed. Unable to connect. \n",
            "\u001b[1;31mError code from Jupyter: 1\n",
            "\u001b[1;31mTraceback (most recent call last):\n",
            "\u001b[1;31m  File \"/home/andsilva/.local/bin/jupyter-notebook\", line 5, in <module>\n",
            "\u001b[1;31m    from notebook.notebookapp import main\n",
            "\u001b[1;31m  File \"/home/andsilva/.local/lib/python3.10/site-packages/notebook/notebookapp.py\", line 57, in <module>\n",
            "\u001b[1;31m    raise ImportError(_(\"The Jupyter Notebook requires tornado >= 5.0, but you have %s\") % tornado.version)\n",
            "\u001b[1;31mImportError: The Jupyter Notebook requires tornado >= 5.0, but you have 4.5.3. \n",
            "\u001b[1;31mView Jupyter <a href='command:jupyter.viewOutput'>log</a> for further details."
          ]
        }
      ],
      "source": [
        "#Função para retornar os valores de accuracy, precision, recall e f1\n",
        "def resumo_score(Y, Y_PRED):\n",
        "\n",
        "  accuracy = round(accuracy_score(Y, Y_PRED),4)\n",
        "  precision = round(precision_score(Y, Y_PRED),4)\n",
        "  recall = round(recall_score(Y, Y_PRED),4)\n",
        "  f1 = round(f1_score(Y, Y_PRED),4)\n",
        "\n",
        "  return accuracy, precision, recall, f1"
      ]
    },
    {
      "cell_type": "code",
      "execution_count": null,
      "metadata": {
        "id": "aDB3wbm0RJdg"
      },
      "outputs": [
        {
          "ename": "",
          "evalue": "",
          "output_type": "error",
          "traceback": [
            "\u001b[1;31mFailed to start the Kernel. \n",
            "\u001b[1;31mJupyter server crashed. Unable to connect. \n",
            "\u001b[1;31mError code from Jupyter: 1\n",
            "\u001b[1;31mTraceback (most recent call last):\n",
            "\u001b[1;31m  File \"/home/andsilva/.local/bin/jupyter-notebook\", line 5, in <module>\n",
            "\u001b[1;31m    from notebook.notebookapp import main\n",
            "\u001b[1;31m  File \"/home/andsilva/.local/lib/python3.10/site-packages/notebook/notebookapp.py\", line 57, in <module>\n",
            "\u001b[1;31m    raise ImportError(_(\"The Jupyter Notebook requires tornado >= 5.0, but you have %s\") % tornado.version)\n",
            "\u001b[1;31mImportError: The Jupyter Notebook requires tornado >= 5.0, but you have 4.5.3. \n",
            "\u001b[1;31mView Jupyter <a href='command:jupyter.viewOutput'>log</a> for further details."
          ]
        }
      ],
      "source": [
        "#função para calcular o cross validation para as métricas accuracy, precision, recall e f1\n",
        "def resumo_xval_score(model, X, Y, kfold):\n",
        "\n",
        "  accuracy = cross_val_score(model, X, Y, cv=kfold, scoring=\"accuracy\")\n",
        "  precision = cross_val_score(model, X, Y, cv=kfold, scoring=\"precision\")\n",
        "  recall = cross_val_score(model, X, Y, cv=kfold, scoring=\"recall\")\n",
        "  f1 = cross_val_score(model, X, Y, cv=kfold, scoring=\"f1\")\n",
        "\n",
        "  return accuracy.mean(), precision.mean(), recall.mean(), f1.mean()"
      ]
    },
    {
      "cell_type": "markdown",
      "metadata": {
        "id": "7TULY-20U97s"
      },
      "source": [
        "##Regressão Logística"
      ]
    },
    {
      "cell_type": "code",
      "execution_count": null,
      "metadata": {
        "id": "Lw_0lkfkWOOt"
      },
      "outputs": [
        {
          "ename": "",
          "evalue": "",
          "output_type": "error",
          "traceback": [
            "\u001b[1;31mFailed to start the Kernel. \n",
            "\u001b[1;31mJupyter server crashed. Unable to connect. \n",
            "\u001b[1;31mError code from Jupyter: 1\n",
            "\u001b[1;31mTraceback (most recent call last):\n",
            "\u001b[1;31m  File \"/home/andsilva/.local/bin/jupyter-notebook\", line 5, in <module>\n",
            "\u001b[1;31m    from notebook.notebookapp import main\n",
            "\u001b[1;31m  File \"/home/andsilva/.local/lib/python3.10/site-packages/notebook/notebookapp.py\", line 57, in <module>\n",
            "\u001b[1;31m    raise ImportError(_(\"The Jupyter Notebook requires tornado >= 5.0, but you have %s\") % tornado.version)\n",
            "\u001b[1;31mImportError: The Jupyter Notebook requires tornado >= 5.0, but you have 4.5.3. \n",
            "\u001b[1;31mView Jupyter <a href='command:jupyter.viewOutput'>log</a> for further details."
          ]
        }
      ],
      "source": [
        "from sklearn.linear_model import LogisticRegression"
      ]
    },
    {
      "cell_type": "markdown",
      "metadata": {
        "id": "hNOIgjHBZOQD"
      },
      "source": [
        "200 iterações foi o suficiente para convergência (com 100 deu erro no fit e 150 no cross_validation)."
      ]
    },
    {
      "cell_type": "code",
      "execution_count": null,
      "metadata": {
        "id": "b40at9iHVasW"
      },
      "outputs": [
        {
          "ename": "",
          "evalue": "",
          "output_type": "error",
          "traceback": [
            "\u001b[1;31mFailed to start the Kernel. \n",
            "\u001b[1;31mJupyter server crashed. Unable to connect. \n",
            "\u001b[1;31mError code from Jupyter: 1\n",
            "\u001b[1;31mTraceback (most recent call last):\n",
            "\u001b[1;31m  File \"/home/andsilva/.local/bin/jupyter-notebook\", line 5, in <module>\n",
            "\u001b[1;31m    from notebook.notebookapp import main\n",
            "\u001b[1;31m  File \"/home/andsilva/.local/lib/python3.10/site-packages/notebook/notebookapp.py\", line 57, in <module>\n",
            "\u001b[1;31m    raise ImportError(_(\"The Jupyter Notebook requires tornado >= 5.0, but you have %s\") % tornado.version)\n",
            "\u001b[1;31mImportError: The Jupyter Notebook requires tornado >= 5.0, but you have 4.5.3. \n",
            "\u001b[1;31mView Jupyter <a href='command:jupyter.viewOutput'>log</a> for further details."
          ]
        }
      ],
      "source": [
        "#Definindo o modelo\n",
        "lr = LogisticRegression(max_iter=200)"
      ]
    },
    {
      "cell_type": "markdown",
      "metadata": {
        "id": "Fxh4twcSMia8"
      },
      "source": [
        "**Base de Treino**"
      ]
    },
    {
      "cell_type": "code",
      "execution_count": null,
      "metadata": {
        "id": "K9LRK-KyVe4M"
      },
      "outputs": [
        {
          "ename": "",
          "evalue": "",
          "output_type": "error",
          "traceback": [
            "\u001b[1;31mFailed to start the Kernel. \n",
            "\u001b[1;31mJupyter server crashed. Unable to connect. \n",
            "\u001b[1;31mError code from Jupyter: 1\n",
            "\u001b[1;31mTraceback (most recent call last):\n",
            "\u001b[1;31m  File \"/home/andsilva/.local/bin/jupyter-notebook\", line 5, in <module>\n",
            "\u001b[1;31m    from notebook.notebookapp import main\n",
            "\u001b[1;31m  File \"/home/andsilva/.local/lib/python3.10/site-packages/notebook/notebookapp.py\", line 57, in <module>\n",
            "\u001b[1;31m    raise ImportError(_(\"The Jupyter Notebook requires tornado >= 5.0, but you have %s\") % tornado.version)\n",
            "\u001b[1;31mImportError: The Jupyter Notebook requires tornado >= 5.0, but you have 4.5.3. \n",
            "\u001b[1;31mView Jupyter <a href='command:jupyter.viewOutput'>log</a> for further details."
          ]
        }
      ],
      "source": [
        "lr.fit(default_X_prep, default_Y)"
      ]
    },
    {
      "cell_type": "code",
      "execution_count": null,
      "metadata": {
        "id": "HmpXszw-tZn4"
      },
      "outputs": [
        {
          "ename": "",
          "evalue": "",
          "output_type": "error",
          "traceback": [
            "\u001b[1;31mFailed to start the Kernel. \n",
            "\u001b[1;31mJupyter server crashed. Unable to connect. \n",
            "\u001b[1;31mError code from Jupyter: 1\n",
            "\u001b[1;31mTraceback (most recent call last):\n",
            "\u001b[1;31m  File \"/home/andsilva/.local/bin/jupyter-notebook\", line 5, in <module>\n",
            "\u001b[1;31m    from notebook.notebookapp import main\n",
            "\u001b[1;31m  File \"/home/andsilva/.local/lib/python3.10/site-packages/notebook/notebookapp.py\", line 57, in <module>\n",
            "\u001b[1;31m    raise ImportError(_(\"The Jupyter Notebook requires tornado >= 5.0, but you have %s\") % tornado.version)\n",
            "\u001b[1;31mImportError: The Jupyter Notebook requires tornado >= 5.0, but you have 4.5.3. \n",
            "\u001b[1;31mView Jupyter <a href='command:jupyter.viewOutput'>log</a> for further details."
          ]
        }
      ],
      "source": [
        "#Predizendo os valores no conjunto de treino\n",
        "pred_train_lr = lr.predict(default_X_prep)\n",
        "pred_train_lr"
      ]
    },
    {
      "cell_type": "code",
      "execution_count": null,
      "metadata": {
        "id": "GGVxPgQXesa0"
      },
      "outputs": [
        {
          "ename": "",
          "evalue": "",
          "output_type": "error",
          "traceback": [
            "\u001b[1;31mFailed to start the Kernel. \n",
            "\u001b[1;31mJupyter server crashed. Unable to connect. \n",
            "\u001b[1;31mError code from Jupyter: 1\n",
            "\u001b[1;31mTraceback (most recent call last):\n",
            "\u001b[1;31m  File \"/home/andsilva/.local/bin/jupyter-notebook\", line 5, in <module>\n",
            "\u001b[1;31m    from notebook.notebookapp import main\n",
            "\u001b[1;31m  File \"/home/andsilva/.local/lib/python3.10/site-packages/notebook/notebookapp.py\", line 57, in <module>\n",
            "\u001b[1;31m    raise ImportError(_(\"The Jupyter Notebook requires tornado >= 5.0, but you have %s\") % tornado.version)\n",
            "\u001b[1;31mImportError: The Jupyter Notebook requires tornado >= 5.0, but you have 4.5.3. \n",
            "\u001b[1;31mView Jupyter <a href='command:jupyter.viewOutput'>log</a> for further details."
          ]
        }
      ],
      "source": [
        "#Score sem validação cruzada\n",
        "score_completo(default_Y, pred_train_lr)"
      ]
    },
    {
      "cell_type": "code",
      "execution_count": null,
      "metadata": {
        "id": "t5BgELrRUiDf"
      },
      "outputs": [
        {
          "ename": "",
          "evalue": "",
          "output_type": "error",
          "traceback": [
            "\u001b[1;31mFailed to start the Kernel. \n",
            "\u001b[1;31mJupyter server crashed. Unable to connect. \n",
            "\u001b[1;31mError code from Jupyter: 1\n",
            "\u001b[1;31mTraceback (most recent call last):\n",
            "\u001b[1;31m  File \"/home/andsilva/.local/bin/jupyter-notebook\", line 5, in <module>\n",
            "\u001b[1;31m    from notebook.notebookapp import main\n",
            "\u001b[1;31m  File \"/home/andsilva/.local/lib/python3.10/site-packages/notebook/notebookapp.py\", line 57, in <module>\n",
            "\u001b[1;31m    raise ImportError(_(\"The Jupyter Notebook requires tornado >= 5.0, but you have %s\") % tornado.version)\n",
            "\u001b[1;31mImportError: The Jupyter Notebook requires tornado >= 5.0, but you have 4.5.3. \n",
            "\u001b[1;31mView Jupyter <a href='command:jupyter.viewOutput'>log</a> for further details."
          ]
        }
      ],
      "source": [
        "#Predição com validação cruzada\n",
        "xpred_train_lr = cross_val_predict(lr, default_X_prep, default_Y, cv=5)"
      ]
    },
    {
      "cell_type": "code",
      "execution_count": null,
      "metadata": {
        "id": "hXpuALxXU_OV"
      },
      "outputs": [
        {
          "ename": "",
          "evalue": "",
          "output_type": "error",
          "traceback": [
            "\u001b[1;31mFailed to start the Kernel. \n",
            "\u001b[1;31mJupyter server crashed. Unable to connect. \n",
            "\u001b[1;31mError code from Jupyter: 1\n",
            "\u001b[1;31mTraceback (most recent call last):\n",
            "\u001b[1;31m  File \"/home/andsilva/.local/bin/jupyter-notebook\", line 5, in <module>\n",
            "\u001b[1;31m    from notebook.notebookapp import main\n",
            "\u001b[1;31m  File \"/home/andsilva/.local/lib/python3.10/site-packages/notebook/notebookapp.py\", line 57, in <module>\n",
            "\u001b[1;31m    raise ImportError(_(\"The Jupyter Notebook requires tornado >= 5.0, but you have %s\") % tornado.version)\n",
            "\u001b[1;31mImportError: The Jupyter Notebook requires tornado >= 5.0, but you have 4.5.3. \n",
            "\u001b[1;31mView Jupyter <a href='command:jupyter.viewOutput'>log</a> for further details."
          ]
        }
      ],
      "source": [
        "#Score com validação cruzada\n",
        "score_completo(default_Y, xpred_train_lr)"
      ]
    },
    {
      "cell_type": "markdown",
      "metadata": {
        "id": "4LW4KUCYbkxf"
      },
      "source": [
        "**Base de Teste**"
      ]
    },
    {
      "cell_type": "code",
      "execution_count": null,
      "metadata": {
        "id": "0CY7NdEIbn4W"
      },
      "outputs": [
        {
          "ename": "",
          "evalue": "",
          "output_type": "error",
          "traceback": [
            "\u001b[1;31mFailed to start the Kernel. \n",
            "\u001b[1;31mJupyter server crashed. Unable to connect. \n",
            "\u001b[1;31mError code from Jupyter: 1\n",
            "\u001b[1;31mTraceback (most recent call last):\n",
            "\u001b[1;31m  File \"/home/andsilva/.local/bin/jupyter-notebook\", line 5, in <module>\n",
            "\u001b[1;31m    from notebook.notebookapp import main\n",
            "\u001b[1;31m  File \"/home/andsilva/.local/lib/python3.10/site-packages/notebook/notebookapp.py\", line 57, in <module>\n",
            "\u001b[1;31m    raise ImportError(_(\"The Jupyter Notebook requires tornado >= 5.0, but you have %s\") % tornado.version)\n",
            "\u001b[1;31mImportError: The Jupyter Notebook requires tornado >= 5.0, but you have 4.5.3. \n",
            "\u001b[1;31mView Jupyter <a href='command:jupyter.viewOutput'>log</a> for further details."
          ]
        }
      ],
      "source": [
        "#Predição sem validação cruzada\n",
        "pred_test_lr = lr.predict(default_X_test_prep)"
      ]
    },
    {
      "cell_type": "code",
      "execution_count": null,
      "metadata": {
        "id": "SK6Hf2DGfMcR"
      },
      "outputs": [
        {
          "ename": "",
          "evalue": "",
          "output_type": "error",
          "traceback": [
            "\u001b[1;31mFailed to start the Kernel. \n",
            "\u001b[1;31mJupyter server crashed. Unable to connect. \n",
            "\u001b[1;31mError code from Jupyter: 1\n",
            "\u001b[1;31mTraceback (most recent call last):\n",
            "\u001b[1;31m  File \"/home/andsilva/.local/bin/jupyter-notebook\", line 5, in <module>\n",
            "\u001b[1;31m    from notebook.notebookapp import main\n",
            "\u001b[1;31m  File \"/home/andsilva/.local/lib/python3.10/site-packages/notebook/notebookapp.py\", line 57, in <module>\n",
            "\u001b[1;31m    raise ImportError(_(\"The Jupyter Notebook requires tornado >= 5.0, but you have %s\") % tornado.version)\n",
            "\u001b[1;31mImportError: The Jupyter Notebook requires tornado >= 5.0, but you have 4.5.3. \n",
            "\u001b[1;31mView Jupyter <a href='command:jupyter.viewOutput'>log</a> for further details."
          ]
        }
      ],
      "source": [
        "#Score sem validação cruzada\n",
        "score_completo(default_Y_test, pred_test_lr)"
      ]
    },
    {
      "cell_type": "code",
      "execution_count": null,
      "metadata": {
        "colab": {
          "background_save": true
        },
        "id": "HyomEJ0WC9Fr"
      },
      "outputs": [
        {
          "ename": "",
          "evalue": "",
          "output_type": "error",
          "traceback": [
            "\u001b[1;31mFailed to start the Kernel. \n",
            "\u001b[1;31mJupyter server crashed. Unable to connect. \n",
            "\u001b[1;31mError code from Jupyter: 1\n",
            "\u001b[1;31mTraceback (most recent call last):\n",
            "\u001b[1;31m  File \"/home/andsilva/.local/bin/jupyter-notebook\", line 5, in <module>\n",
            "\u001b[1;31m    from notebook.notebookapp import main\n",
            "\u001b[1;31m  File \"/home/andsilva/.local/lib/python3.10/site-packages/notebook/notebookapp.py\", line 57, in <module>\n",
            "\u001b[1;31m    raise ImportError(_(\"The Jupyter Notebook requires tornado >= 5.0, but you have %s\") % tornado.version)\n",
            "\u001b[1;31mImportError: The Jupyter Notebook requires tornado >= 5.0, but you have 4.5.3. \n",
            "\u001b[1;31mView Jupyter <a href='command:jupyter.viewOutput'>log</a> for further details."
          ]
        }
      ],
      "source": [
        "#Predição com validação cruzada\n",
        "xpred_test_lr = cross_val_predict(lr, default_X_test_prep, default_Y_test, cv=5)"
      ]
    },
    {
      "cell_type": "code",
      "execution_count": null,
      "metadata": {
        "colab": {
          "background_save": true
        },
        "id": "mfMYgN_hDHPB",
        "outputId": "49b7219f-33e9-4449-aefd-f290115f26b3"
      },
      "outputs": [
        {
          "ename": "",
          "evalue": "",
          "output_type": "error",
          "traceback": [
            "\u001b[1;31mFailed to start the Kernel. \n",
            "\u001b[1;31mJupyter server crashed. Unable to connect. \n",
            "\u001b[1;31mError code from Jupyter: 1\n",
            "\u001b[1;31mTraceback (most recent call last):\n",
            "\u001b[1;31m  File \"/home/andsilva/.local/bin/jupyter-notebook\", line 5, in <module>\n",
            "\u001b[1;31m    from notebook.notebookapp import main\n",
            "\u001b[1;31m  File \"/home/andsilva/.local/lib/python3.10/site-packages/notebook/notebookapp.py\", line 57, in <module>\n",
            "\u001b[1;31m    raise ImportError(_(\"The Jupyter Notebook requires tornado >= 5.0, but you have %s\") % tornado.version)\n",
            "\u001b[1;31mImportError: The Jupyter Notebook requires tornado >= 5.0, but you have 4.5.3. \n",
            "\u001b[1;31mView Jupyter <a href='command:jupyter.viewOutput'>log</a> for further details."
          ]
        }
      ],
      "source": [
        "#Score Com validação cruzada\n",
        "score_completo(default_Y_test, xpred_test_lr)"
      ]
    },
    {
      "cell_type": "markdown",
      "metadata": {
        "id": "X9Gqk5nr5LFO"
      },
      "source": [
        "##Regressão Logística com Bagging"
      ]
    },
    {
      "cell_type": "code",
      "execution_count": null,
      "metadata": {
        "colab": {
          "background_save": true
        },
        "id": "-hfE-rVl5Klp"
      },
      "outputs": [
        {
          "ename": "",
          "evalue": "",
          "output_type": "error",
          "traceback": [
            "\u001b[1;31mFailed to start the Kernel. \n",
            "\u001b[1;31mJupyter server crashed. Unable to connect. \n",
            "\u001b[1;31mError code from Jupyter: 1\n",
            "\u001b[1;31mTraceback (most recent call last):\n",
            "\u001b[1;31m  File \"/home/andsilva/.local/bin/jupyter-notebook\", line 5, in <module>\n",
            "\u001b[1;31m    from notebook.notebookapp import main\n",
            "\u001b[1;31m  File \"/home/andsilva/.local/lib/python3.10/site-packages/notebook/notebookapp.py\", line 57, in <module>\n",
            "\u001b[1;31m    raise ImportError(_(\"The Jupyter Notebook requires tornado >= 5.0, but you have %s\") % tornado.version)\n",
            "\u001b[1;31mImportError: The Jupyter Notebook requires tornado >= 5.0, but you have 4.5.3. \n",
            "\u001b[1;31mView Jupyter <a href='command:jupyter.viewOutput'>log</a> for further details."
          ]
        }
      ],
      "source": [
        "from sklearn.ensemble import BaggingClassifier"
      ]
    },
    {
      "cell_type": "markdown",
      "metadata": {
        "id": "tQFn8vVjaM7v"
      },
      "source": [
        "###Modelo antes do GridSearch"
      ]
    },
    {
      "cell_type": "code",
      "execution_count": null,
      "metadata": {
        "colab": {
          "background_save": true
        },
        "id": "A10qfCMyM8DY"
      },
      "outputs": [
        {
          "ename": "",
          "evalue": "",
          "output_type": "error",
          "traceback": [
            "\u001b[1;31mFailed to start the Kernel. \n",
            "\u001b[1;31mJupyter server crashed. Unable to connect. \n",
            "\u001b[1;31mError code from Jupyter: 1\n",
            "\u001b[1;31mTraceback (most recent call last):\n",
            "\u001b[1;31m  File \"/home/andsilva/.local/bin/jupyter-notebook\", line 5, in <module>\n",
            "\u001b[1;31m    from notebook.notebookapp import main\n",
            "\u001b[1;31m  File \"/home/andsilva/.local/lib/python3.10/site-packages/notebook/notebookapp.py\", line 57, in <module>\n",
            "\u001b[1;31m    raise ImportError(_(\"The Jupyter Notebook requires tornado >= 5.0, but you have %s\") % tornado.version)\n",
            "\u001b[1;31mImportError: The Jupyter Notebook requires tornado >= 5.0, but you have 4.5.3. \n",
            "\u001b[1;31mView Jupyter <a href='command:jupyter.viewOutput'>log</a> for further details."
          ]
        }
      ],
      "source": [
        "#parâmetros default = n_estimators: default=10; bootstrap: default=True; bootstrap_features: default=False\n",
        "#parâmetros 1ª tentativa = lr, n_estimators=500, bootstrap=False\n",
        "bag_lr = BaggingClassifier(lr)"
      ]
    },
    {
      "cell_type": "markdown",
      "metadata": {
        "id": "OoDdDRLbLVIm"
      },
      "source": [
        "**Base de Treino**"
      ]
    },
    {
      "cell_type": "code",
      "execution_count": null,
      "metadata": {
        "colab": {
          "background_save": true
        },
        "id": "gFER1V2R5Udr",
        "outputId": "e8ba3033-c6fd-4a0a-9a91-f379c2f6d8c0"
      },
      "outputs": [
        {
          "ename": "",
          "evalue": "",
          "output_type": "error",
          "traceback": [
            "\u001b[1;31mFailed to start the Kernel. \n",
            "\u001b[1;31mJupyter server crashed. Unable to connect. \n",
            "\u001b[1;31mError code from Jupyter: 1\n",
            "\u001b[1;31mTraceback (most recent call last):\n",
            "\u001b[1;31m  File \"/home/andsilva/.local/bin/jupyter-notebook\", line 5, in <module>\n",
            "\u001b[1;31m    from notebook.notebookapp import main\n",
            "\u001b[1;31m  File \"/home/andsilva/.local/lib/python3.10/site-packages/notebook/notebookapp.py\", line 57, in <module>\n",
            "\u001b[1;31m    raise ImportError(_(\"The Jupyter Notebook requires tornado >= 5.0, but you have %s\") % tornado.version)\n",
            "\u001b[1;31mImportError: The Jupyter Notebook requires tornado >= 5.0, but you have 4.5.3. \n",
            "\u001b[1;31mView Jupyter <a href='command:jupyter.viewOutput'>log</a> for further details."
          ]
        }
      ],
      "source": [
        "bag_lr.fit(default_X_prep, default_Y)"
      ]
    },
    {
      "cell_type": "code",
      "execution_count": null,
      "metadata": {
        "colab": {
          "background_save": true
        },
        "id": "JzZ8WToq6OWE",
        "outputId": "950db47e-a534-4ce4-8c54-e2442e3b1808"
      },
      "outputs": [
        {
          "ename": "",
          "evalue": "",
          "output_type": "error",
          "traceback": [
            "\u001b[1;31mFailed to start the Kernel. \n",
            "\u001b[1;31mJupyter server crashed. Unable to connect. \n",
            "\u001b[1;31mError code from Jupyter: 1\n",
            "\u001b[1;31mTraceback (most recent call last):\n",
            "\u001b[1;31m  File \"/home/andsilva/.local/bin/jupyter-notebook\", line 5, in <module>\n",
            "\u001b[1;31m    from notebook.notebookapp import main\n",
            "\u001b[1;31m  File \"/home/andsilva/.local/lib/python3.10/site-packages/notebook/notebookapp.py\", line 57, in <module>\n",
            "\u001b[1;31m    raise ImportError(_(\"The Jupyter Notebook requires tornado >= 5.0, but you have %s\") % tornado.version)\n",
            "\u001b[1;31mImportError: The Jupyter Notebook requires tornado >= 5.0, but you have 4.5.3. \n",
            "\u001b[1;31mView Jupyter <a href='command:jupyter.viewOutput'>log</a> for further details."
          ]
        }
      ],
      "source": [
        "#Predição sem validação cruzada\n",
        "pred_train_bag_lr = bag_lr.predict(default_X_prep)\n",
        "pred_train_bag_lr"
      ]
    },
    {
      "cell_type": "code",
      "execution_count": null,
      "metadata": {
        "colab": {
          "background_save": true
        },
        "id": "BySNfm3z6Yxl",
        "outputId": "0ccb71d3-3e4f-4858-edac-bfedb95161d9"
      },
      "outputs": [
        {
          "ename": "",
          "evalue": "",
          "output_type": "error",
          "traceback": [
            "\u001b[1;31mFailed to start the Kernel. \n",
            "\u001b[1;31mJupyter server crashed. Unable to connect. \n",
            "\u001b[1;31mError code from Jupyter: 1\n",
            "\u001b[1;31mTraceback (most recent call last):\n",
            "\u001b[1;31m  File \"/home/andsilva/.local/bin/jupyter-notebook\", line 5, in <module>\n",
            "\u001b[1;31m    from notebook.notebookapp import main\n",
            "\u001b[1;31m  File \"/home/andsilva/.local/lib/python3.10/site-packages/notebook/notebookapp.py\", line 57, in <module>\n",
            "\u001b[1;31m    raise ImportError(_(\"The Jupyter Notebook requires tornado >= 5.0, but you have %s\") % tornado.version)\n",
            "\u001b[1;31mImportError: The Jupyter Notebook requires tornado >= 5.0, but you have 4.5.3. \n",
            "\u001b[1;31mView Jupyter <a href='command:jupyter.viewOutput'>log</a> for further details."
          ]
        }
      ],
      "source": [
        "#Score sem validação cruzada\n",
        "score_completo(default_Y, pred_train_bag_lr)"
      ]
    },
    {
      "cell_type": "code",
      "execution_count": null,
      "metadata": {
        "colab": {
          "background_save": true
        },
        "id": "4NmmJmRuVQM1",
        "outputId": "94bb3338-fd41-43f3-af86-19d74e5249b1"
      },
      "outputs": [
        {
          "ename": "",
          "evalue": "",
          "output_type": "error",
          "traceback": [
            "\u001b[1;31mFailed to start the Kernel. \n",
            "\u001b[1;31mJupyter server crashed. Unable to connect. \n",
            "\u001b[1;31mError code from Jupyter: 1\n",
            "\u001b[1;31mTraceback (most recent call last):\n",
            "\u001b[1;31m  File \"/home/andsilva/.local/bin/jupyter-notebook\", line 5, in <module>\n",
            "\u001b[1;31m    from notebook.notebookapp import main\n",
            "\u001b[1;31m  File \"/home/andsilva/.local/lib/python3.10/site-packages/notebook/notebookapp.py\", line 57, in <module>\n",
            "\u001b[1;31m    raise ImportError(_(\"The Jupyter Notebook requires tornado >= 5.0, but you have %s\") % tornado.version)\n",
            "\u001b[1;31mImportError: The Jupyter Notebook requires tornado >= 5.0, but you have 4.5.3. \n",
            "\u001b[1;31mView Jupyter <a href='command:jupyter.viewOutput'>log</a> for further details."
          ]
        }
      ],
      "source": [
        "#Predição com validação cruzada\n",
        "xpred_train_bag_lr = cross_val_predict(bag_lr, default_X_prep, default_Y, cv=5)\n",
        "xpred_train_bag_lr"
      ]
    },
    {
      "cell_type": "code",
      "execution_count": null,
      "metadata": {
        "colab": {
          "background_save": true
        },
        "id": "K_4WWwBiXZC2",
        "outputId": "b594372f-da1b-4a56-86fa-3c08a7fd422a"
      },
      "outputs": [
        {
          "ename": "",
          "evalue": "",
          "output_type": "error",
          "traceback": [
            "\u001b[1;31mFailed to start the Kernel. \n",
            "\u001b[1;31mJupyter server crashed. Unable to connect. \n",
            "\u001b[1;31mError code from Jupyter: 1\n",
            "\u001b[1;31mTraceback (most recent call last):\n",
            "\u001b[1;31m  File \"/home/andsilva/.local/bin/jupyter-notebook\", line 5, in <module>\n",
            "\u001b[1;31m    from notebook.notebookapp import main\n",
            "\u001b[1;31m  File \"/home/andsilva/.local/lib/python3.10/site-packages/notebook/notebookapp.py\", line 57, in <module>\n",
            "\u001b[1;31m    raise ImportError(_(\"The Jupyter Notebook requires tornado >= 5.0, but you have %s\") % tornado.version)\n",
            "\u001b[1;31mImportError: The Jupyter Notebook requires tornado >= 5.0, but you have 4.5.3. \n",
            "\u001b[1;31mView Jupyter <a href='command:jupyter.viewOutput'>log</a> for further details."
          ]
        }
      ],
      "source": [
        "#Score com validação cruzada\n",
        "score_completo(default_Y, xpred_train_bag_lr)"
      ]
    },
    {
      "cell_type": "markdown",
      "metadata": {
        "id": "T6sf_v8IXhmX"
      },
      "source": [
        "**Base de Teste**"
      ]
    },
    {
      "cell_type": "code",
      "execution_count": null,
      "metadata": {
        "colab": {
          "background_save": true
        },
        "id": "CqALqEc8wN-L",
        "outputId": "722be18c-05ea-47be-9a1a-2f777a165a29"
      },
      "outputs": [
        {
          "ename": "",
          "evalue": "",
          "output_type": "error",
          "traceback": [
            "\u001b[1;31mFailed to start the Kernel. \n",
            "\u001b[1;31mJupyter server crashed. Unable to connect. \n",
            "\u001b[1;31mError code from Jupyter: 1\n",
            "\u001b[1;31mTraceback (most recent call last):\n",
            "\u001b[1;31m  File \"/home/andsilva/.local/bin/jupyter-notebook\", line 5, in <module>\n",
            "\u001b[1;31m    from notebook.notebookapp import main\n",
            "\u001b[1;31m  File \"/home/andsilva/.local/lib/python3.10/site-packages/notebook/notebookapp.py\", line 57, in <module>\n",
            "\u001b[1;31m    raise ImportError(_(\"The Jupyter Notebook requires tornado >= 5.0, but you have %s\") % tornado.version)\n",
            "\u001b[1;31mImportError: The Jupyter Notebook requires tornado >= 5.0, but you have 4.5.3. \n",
            "\u001b[1;31mView Jupyter <a href='command:jupyter.viewOutput'>log</a> for further details."
          ]
        }
      ],
      "source": [
        "#Predição sem validação cruzada\n",
        "pred_test_bag_lr = bag_lr.predict(default_X_test_prep)\n",
        "pred_test_bag_lr"
      ]
    },
    {
      "cell_type": "code",
      "execution_count": null,
      "metadata": {
        "colab": {
          "background_save": true
        },
        "id": "Tw7MT0hoVAI2",
        "outputId": "2c92769c-814f-49b4-9d26-c5550493c793"
      },
      "outputs": [
        {
          "ename": "",
          "evalue": "",
          "output_type": "error",
          "traceback": [
            "\u001b[1;31mFailed to start the Kernel. \n",
            "\u001b[1;31mJupyter server crashed. Unable to connect. \n",
            "\u001b[1;31mError code from Jupyter: 1\n",
            "\u001b[1;31mTraceback (most recent call last):\n",
            "\u001b[1;31m  File \"/home/andsilva/.local/bin/jupyter-notebook\", line 5, in <module>\n",
            "\u001b[1;31m    from notebook.notebookapp import main\n",
            "\u001b[1;31m  File \"/home/andsilva/.local/lib/python3.10/site-packages/notebook/notebookapp.py\", line 57, in <module>\n",
            "\u001b[1;31m    raise ImportError(_(\"The Jupyter Notebook requires tornado >= 5.0, but you have %s\") % tornado.version)\n",
            "\u001b[1;31mImportError: The Jupyter Notebook requires tornado >= 5.0, but you have 4.5.3. \n",
            "\u001b[1;31mView Jupyter <a href='command:jupyter.viewOutput'>log</a> for further details."
          ]
        }
      ],
      "source": [
        "#Score sem validação cruzada\n",
        "score_completo(default_Y_test, pred_test_bag_lr)"
      ]
    },
    {
      "cell_type": "code",
      "execution_count": null,
      "metadata": {
        "colab": {
          "background_save": true
        },
        "id": "39j4dorDwoML",
        "outputId": "4152f67a-e7fb-457d-a6da-c35602395a35"
      },
      "outputs": [
        {
          "ename": "",
          "evalue": "",
          "output_type": "error",
          "traceback": [
            "\u001b[1;31mFailed to start the Kernel. \n",
            "\u001b[1;31mJupyter server crashed. Unable to connect. \n",
            "\u001b[1;31mError code from Jupyter: 1\n",
            "\u001b[1;31mTraceback (most recent call last):\n",
            "\u001b[1;31m  File \"/home/andsilva/.local/bin/jupyter-notebook\", line 5, in <module>\n",
            "\u001b[1;31m    from notebook.notebookapp import main\n",
            "\u001b[1;31m  File \"/home/andsilva/.local/lib/python3.10/site-packages/notebook/notebookapp.py\", line 57, in <module>\n",
            "\u001b[1;31m    raise ImportError(_(\"The Jupyter Notebook requires tornado >= 5.0, but you have %s\") % tornado.version)\n",
            "\u001b[1;31mImportError: The Jupyter Notebook requires tornado >= 5.0, but you have 4.5.3. \n",
            "\u001b[1;31mView Jupyter <a href='command:jupyter.viewOutput'>log</a> for further details."
          ]
        }
      ],
      "source": [
        "#Predição com validação cruzada\n",
        "xpred_test_bag_lr = cross_val_predict(bag_lr, default_X_test_prep, default_Y_test, cv=5)\n",
        "xpred_test_bag_lr"
      ]
    },
    {
      "cell_type": "code",
      "execution_count": null,
      "metadata": {
        "colab": {
          "background_save": true
        },
        "id": "3814XuI7w6ZJ",
        "outputId": "a407538f-a27a-4d83-b6dd-904cac7844ce"
      },
      "outputs": [
        {
          "ename": "",
          "evalue": "",
          "output_type": "error",
          "traceback": [
            "\u001b[1;31mFailed to start the Kernel. \n",
            "\u001b[1;31mJupyter server crashed. Unable to connect. \n",
            "\u001b[1;31mError code from Jupyter: 1\n",
            "\u001b[1;31mTraceback (most recent call last):\n",
            "\u001b[1;31m  File \"/home/andsilva/.local/bin/jupyter-notebook\", line 5, in <module>\n",
            "\u001b[1;31m    from notebook.notebookapp import main\n",
            "\u001b[1;31m  File \"/home/andsilva/.local/lib/python3.10/site-packages/notebook/notebookapp.py\", line 57, in <module>\n",
            "\u001b[1;31m    raise ImportError(_(\"The Jupyter Notebook requires tornado >= 5.0, but you have %s\") % tornado.version)\n",
            "\u001b[1;31mImportError: The Jupyter Notebook requires tornado >= 5.0, but you have 4.5.3. \n",
            "\u001b[1;31mView Jupyter <a href='command:jupyter.viewOutput'>log</a> for further details."
          ]
        }
      ],
      "source": [
        "#Score com validação cruzada\n",
        "score_completo(default_Y_test, xpred_test_bag_lr)"
      ]
    },
    {
      "cell_type": "markdown",
      "metadata": {
        "id": "GmFUzQwly_YI"
      },
      "source": [
        "<b><font color=black>Podemos observar que os valores foram bem próximos ao realizado pelo conjunto de treinamento.\n",
        "\n"
      ]
    },
    {
      "cell_type": "markdown",
      "metadata": {
        "id": "MtVY-aICaSR3"
      },
      "source": [
        "###Modelo após GridSearch"
      ]
    },
    {
      "cell_type": "code",
      "execution_count": null,
      "metadata": {
        "colab": {
          "background_save": true
        },
        "id": "M6U7xM-aPK4R",
        "outputId": "9baa3037-94b4-49e4-a56a-f6eca342796e"
      },
      "outputs": [
        {
          "ename": "",
          "evalue": "",
          "output_type": "error",
          "traceback": [
            "\u001b[1;31mFailed to start the Kernel. \n",
            "\u001b[1;31mJupyter server crashed. Unable to connect. \n",
            "\u001b[1;31mError code from Jupyter: 1\n",
            "\u001b[1;31mTraceback (most recent call last):\n",
            "\u001b[1;31m  File \"/home/andsilva/.local/bin/jupyter-notebook\", line 5, in <module>\n",
            "\u001b[1;31m    from notebook.notebookapp import main\n",
            "\u001b[1;31m  File \"/home/andsilva/.local/lib/python3.10/site-packages/notebook/notebookapp.py\", line 57, in <module>\n",
            "\u001b[1;31m    raise ImportError(_(\"The Jupyter Notebook requires tornado >= 5.0, but you have %s\") % tornado.version)\n",
            "\u001b[1;31mImportError: The Jupyter Notebook requires tornado >= 5.0, but you have 4.5.3. \n",
            "\u001b[1;31mView Jupyter <a href='command:jupyter.viewOutput'>log</a> for further details."
          ]
        }
      ],
      "source": [
        "#Rodei Grid Search para Otimização\n",
        "from sklearn.ensemble import BaggingClassifier\n",
        "from sklearn.model_selection import GridSearchCV\n",
        "\n",
        "param_grid1 = [\n",
        "    {'n_estimators': [3, 10, 30], 'max_features': [2, 4,8,16]},\n",
        "    {'bootstrap': [False], 'n_estimators': [3, 10], 'max_features': [2, 3, 4]},\n",
        "  ]\n",
        "\n",
        "bag_lr1 = BaggingClassifier(random_state=42)\n",
        "\n",
        "grid_search_reg_bag = GridSearchCV(bag_lr1, param_grid1, cv=5,\n",
        "                           return_train_score=True)\n",
        "grid_search_reg_bag.fit(default_X_prep, default_Y)"
      ]
    },
    {
      "cell_type": "code",
      "execution_count": null,
      "metadata": {
        "colab": {
          "background_save": true
        },
        "id": "GydT8dTaoXZc",
        "outputId": "a0fdce04-9132-412e-f132-53fba0704e52"
      },
      "outputs": [
        {
          "ename": "",
          "evalue": "",
          "output_type": "error",
          "traceback": [
            "\u001b[1;31mFailed to start the Kernel. \n",
            "\u001b[1;31mJupyter server crashed. Unable to connect. \n",
            "\u001b[1;31mError code from Jupyter: 1\n",
            "\u001b[1;31mTraceback (most recent call last):\n",
            "\u001b[1;31m  File \"/home/andsilva/.local/bin/jupyter-notebook\", line 5, in <module>\n",
            "\u001b[1;31m    from notebook.notebookapp import main\n",
            "\u001b[1;31m  File \"/home/andsilva/.local/lib/python3.10/site-packages/notebook/notebookapp.py\", line 57, in <module>\n",
            "\u001b[1;31m    raise ImportError(_(\"The Jupyter Notebook requires tornado >= 5.0, but you have %s\") % tornado.version)\n",
            "\u001b[1;31mImportError: The Jupyter Notebook requires tornado >= 5.0, but you have 4.5.3. \n",
            "\u001b[1;31mView Jupyter <a href='command:jupyter.viewOutput'>log</a> for further details."
          ]
        }
      ],
      "source": [
        "grid_search_reg_bag.best_params_"
      ]
    },
    {
      "cell_type": "code",
      "execution_count": null,
      "metadata": {
        "colab": {
          "background_save": true
        },
        "id": "UoURspjxogvf",
        "outputId": "6c2c60a0-b4d2-48ea-c2ab-cd5157cc1d67"
      },
      "outputs": [
        {
          "ename": "",
          "evalue": "",
          "output_type": "error",
          "traceback": [
            "\u001b[1;31mFailed to start the Kernel. \n",
            "\u001b[1;31mJupyter server crashed. Unable to connect. \n",
            "\u001b[1;31mError code from Jupyter: 1\n",
            "\u001b[1;31mTraceback (most recent call last):\n",
            "\u001b[1;31m  File \"/home/andsilva/.local/bin/jupyter-notebook\", line 5, in <module>\n",
            "\u001b[1;31m    from notebook.notebookapp import main\n",
            "\u001b[1;31m  File \"/home/andsilva/.local/lib/python3.10/site-packages/notebook/notebookapp.py\", line 57, in <module>\n",
            "\u001b[1;31m    raise ImportError(_(\"The Jupyter Notebook requires tornado >= 5.0, but you have %s\") % tornado.version)\n",
            "\u001b[1;31mImportError: The Jupyter Notebook requires tornado >= 5.0, but you have 4.5.3. \n",
            "\u001b[1;31mView Jupyter <a href='command:jupyter.viewOutput'>log</a> for further details."
          ]
        }
      ],
      "source": [
        "grid_search_reg_bag.best_estimator_\n"
      ]
    },
    {
      "cell_type": "code",
      "execution_count": null,
      "metadata": {
        "colab": {
          "background_save": true
        },
        "id": "lVS6NvhGpDnj",
        "outputId": "b4b04f86-36cd-4e87-cbdc-c945940b39c5"
      },
      "outputs": [
        {
          "ename": "",
          "evalue": "",
          "output_type": "error",
          "traceback": [
            "\u001b[1;31mFailed to start the Kernel. \n",
            "\u001b[1;31mJupyter server crashed. Unable to connect. \n",
            "\u001b[1;31mError code from Jupyter: 1\n",
            "\u001b[1;31mTraceback (most recent call last):\n",
            "\u001b[1;31m  File \"/home/andsilva/.local/bin/jupyter-notebook\", line 5, in <module>\n",
            "\u001b[1;31m    from notebook.notebookapp import main\n",
            "\u001b[1;31m  File \"/home/andsilva/.local/lib/python3.10/site-packages/notebook/notebookapp.py\", line 57, in <module>\n",
            "\u001b[1;31m    raise ImportError(_(\"The Jupyter Notebook requires tornado >= 5.0, but you have %s\") % tornado.version)\n",
            "\u001b[1;31mImportError: The Jupyter Notebook requires tornado >= 5.0, but you have 4.5.3. \n",
            "\u001b[1;31mView Jupyter <a href='command:jupyter.viewOutput'>log</a> for further details."
          ]
        }
      ],
      "source": [
        "bag_lr_2 = BaggingClassifier(n_estimators=30, max_features=16)\n",
        "bag_lr_2.fit(default_X_prep, default_Y)"
      ]
    },
    {
      "cell_type": "code",
      "execution_count": null,
      "metadata": {
        "colab": {
          "background_save": true
        },
        "id": "83ZXCxFZrztX",
        "outputId": "967c3f0a-87fa-49ad-cea5-c3ddd941c953"
      },
      "outputs": [
        {
          "ename": "",
          "evalue": "",
          "output_type": "error",
          "traceback": [
            "\u001b[1;31mFailed to start the Kernel. \n",
            "\u001b[1;31mJupyter server crashed. Unable to connect. \n",
            "\u001b[1;31mError code from Jupyter: 1\n",
            "\u001b[1;31mTraceback (most recent call last):\n",
            "\u001b[1;31m  File \"/home/andsilva/.local/bin/jupyter-notebook\", line 5, in <module>\n",
            "\u001b[1;31m    from notebook.notebookapp import main\n",
            "\u001b[1;31m  File \"/home/andsilva/.local/lib/python3.10/site-packages/notebook/notebookapp.py\", line 57, in <module>\n",
            "\u001b[1;31m    raise ImportError(_(\"The Jupyter Notebook requires tornado >= 5.0, but you have %s\") % tornado.version)\n",
            "\u001b[1;31mImportError: The Jupyter Notebook requires tornado >= 5.0, but you have 4.5.3. \n",
            "\u001b[1;31mView Jupyter <a href='command:jupyter.viewOutput'>log</a> for further details."
          ]
        }
      ],
      "source": [
        "#Predição com validação cruzada com parâmetros estimados pelo Grid Search\n",
        "cross_pred_train_bag_lr_2 = cross_val_predict(bag_lr_2, default_X_prep, default_Y, cv=5)\n",
        "cross_pred_train_bag_lr_2"
      ]
    },
    {
      "cell_type": "code",
      "execution_count": null,
      "metadata": {
        "colab": {
          "background_save": true
        },
        "id": "4tYlXU6hsITK",
        "outputId": "72f1b6f4-ab30-4a43-f6b2-6d835b55fb6f"
      },
      "outputs": [
        {
          "ename": "",
          "evalue": "",
          "output_type": "error",
          "traceback": [
            "\u001b[1;31mFailed to start the Kernel. \n",
            "\u001b[1;31mJupyter server crashed. Unable to connect. \n",
            "\u001b[1;31mError code from Jupyter: 1\n",
            "\u001b[1;31mTraceback (most recent call last):\n",
            "\u001b[1;31m  File \"/home/andsilva/.local/bin/jupyter-notebook\", line 5, in <module>\n",
            "\u001b[1;31m    from notebook.notebookapp import main\n",
            "\u001b[1;31m  File \"/home/andsilva/.local/lib/python3.10/site-packages/notebook/notebookapp.py\", line 57, in <module>\n",
            "\u001b[1;31m    raise ImportError(_(\"The Jupyter Notebook requires tornado >= 5.0, but you have %s\") % tornado.version)\n",
            "\u001b[1;31mImportError: The Jupyter Notebook requires tornado >= 5.0, but you have 4.5.3. \n",
            "\u001b[1;31mView Jupyter <a href='command:jupyter.viewOutput'>log</a> for further details."
          ]
        }
      ],
      "source": [
        "score_completo(default_Y, cross_pred_train_bag_lr_2)"
      ]
    },
    {
      "cell_type": "code",
      "execution_count": null,
      "metadata": {
        "colab": {
          "background_save": true
        },
        "id": "bDqmR9lVtSPj",
        "outputId": "71061c35-240a-4617-baf1-686999d55ecf"
      },
      "outputs": [
        {
          "ename": "",
          "evalue": "",
          "output_type": "error",
          "traceback": [
            "\u001b[1;31mFailed to start the Kernel. \n",
            "\u001b[1;31mJupyter server crashed. Unable to connect. \n",
            "\u001b[1;31mError code from Jupyter: 1\n",
            "\u001b[1;31mTraceback (most recent call last):\n",
            "\u001b[1;31m  File \"/home/andsilva/.local/bin/jupyter-notebook\", line 5, in <module>\n",
            "\u001b[1;31m    from notebook.notebookapp import main\n",
            "\u001b[1;31m  File \"/home/andsilva/.local/lib/python3.10/site-packages/notebook/notebookapp.py\", line 57, in <module>\n",
            "\u001b[1;31m    raise ImportError(_(\"The Jupyter Notebook requires tornado >= 5.0, but you have %s\") % tornado.version)\n",
            "\u001b[1;31mImportError: The Jupyter Notebook requires tornado >= 5.0, but you have 4.5.3. \n",
            "\u001b[1;31mView Jupyter <a href='command:jupyter.viewOutput'>log</a> for further details."
          ]
        }
      ],
      "source": [
        "cross_pred_test_bag_lr_2 = cross_val_predict(bag_lr_2, default_X_test_prep, default_Y_test, cv=5)\n",
        "cross_pred_test_bag_lr_2"
      ]
    },
    {
      "cell_type": "code",
      "execution_count": null,
      "metadata": {
        "colab": {
          "background_save": true
        },
        "id": "oEXr2Zn1tnHr",
        "outputId": "b6a79187-0e05-4442-cd79-ef737f8e12d0"
      },
      "outputs": [
        {
          "ename": "",
          "evalue": "",
          "output_type": "error",
          "traceback": [
            "\u001b[1;31mFailed to start the Kernel. \n",
            "\u001b[1;31mJupyter server crashed. Unable to connect. \n",
            "\u001b[1;31mError code from Jupyter: 1\n",
            "\u001b[1;31mTraceback (most recent call last):\n",
            "\u001b[1;31m  File \"/home/andsilva/.local/bin/jupyter-notebook\", line 5, in <module>\n",
            "\u001b[1;31m    from notebook.notebookapp import main\n",
            "\u001b[1;31m  File \"/home/andsilva/.local/lib/python3.10/site-packages/notebook/notebookapp.py\", line 57, in <module>\n",
            "\u001b[1;31m    raise ImportError(_(\"The Jupyter Notebook requires tornado >= 5.0, but you have %s\") % tornado.version)\n",
            "\u001b[1;31mImportError: The Jupyter Notebook requires tornado >= 5.0, but you have 4.5.3. \n",
            "\u001b[1;31mView Jupyter <a href='command:jupyter.viewOutput'>log</a> for further details."
          ]
        }
      ],
      "source": [
        "score_completo(default_Y_test, cross_pred_test_bag_lr_2)"
      ]
    },
    {
      "cell_type": "markdown",
      "metadata": {
        "id": "aC6X93aWVAPZ"
      },
      "source": [
        "##Árvore de Decisão"
      ]
    },
    {
      "cell_type": "code",
      "execution_count": null,
      "metadata": {
        "colab": {
          "background_save": true
        },
        "id": "xVJmJ28jVC9g"
      },
      "outputs": [
        {
          "ename": "",
          "evalue": "",
          "output_type": "error",
          "traceback": [
            "\u001b[1;31mFailed to start the Kernel. \n",
            "\u001b[1;31mJupyter server crashed. Unable to connect. \n",
            "\u001b[1;31mError code from Jupyter: 1\n",
            "\u001b[1;31mTraceback (most recent call last):\n",
            "\u001b[1;31m  File \"/home/andsilva/.local/bin/jupyter-notebook\", line 5, in <module>\n",
            "\u001b[1;31m    from notebook.notebookapp import main\n",
            "\u001b[1;31m  File \"/home/andsilva/.local/lib/python3.10/site-packages/notebook/notebookapp.py\", line 57, in <module>\n",
            "\u001b[1;31m    raise ImportError(_(\"The Jupyter Notebook requires tornado >= 5.0, but you have %s\") % tornado.version)\n",
            "\u001b[1;31mImportError: The Jupyter Notebook requires tornado >= 5.0, but you have 4.5.3. \n",
            "\u001b[1;31mView Jupyter <a href='command:jupyter.viewOutput'>log</a> for further details."
          ]
        }
      ],
      "source": [
        "from sklearn.tree import DecisionTreeClassifier"
      ]
    },
    {
      "cell_type": "markdown",
      "metadata": {
        "id": "PN1pBTarq_pN"
      },
      "source": [
        "###Modelo antes do GridSearch"
      ]
    },
    {
      "cell_type": "code",
      "execution_count": null,
      "metadata": {
        "colab": {
          "background_save": true
        },
        "id": "gnYovLDHPPYX"
      },
      "outputs": [
        {
          "ename": "",
          "evalue": "",
          "output_type": "error",
          "traceback": [
            "\u001b[1;31mFailed to start the Kernel. \n",
            "\u001b[1;31mJupyter server crashed. Unable to connect. \n",
            "\u001b[1;31mError code from Jupyter: 1\n",
            "\u001b[1;31mTraceback (most recent call last):\n",
            "\u001b[1;31m  File \"/home/andsilva/.local/bin/jupyter-notebook\", line 5, in <module>\n",
            "\u001b[1;31m    from notebook.notebookapp import main\n",
            "\u001b[1;31m  File \"/home/andsilva/.local/lib/python3.10/site-packages/notebook/notebookapp.py\", line 57, in <module>\n",
            "\u001b[1;31m    raise ImportError(_(\"The Jupyter Notebook requires tornado >= 5.0, but you have %s\") % tornado.version)\n",
            "\u001b[1;31mImportError: The Jupyter Notebook requires tornado >= 5.0, but you have 4.5.3. \n",
            "\u001b[1;31mView Jupyter <a href='command:jupyter.viewOutput'>log</a> for further details."
          ]
        }
      ],
      "source": [
        "#parâmetros padrão - max_depth: default=None; max_features: default=None; max_leaf_nodes: default=None\n",
        "tree_clf = DecisionTreeClassifier()"
      ]
    },
    {
      "cell_type": "markdown",
      "metadata": {
        "id": "I2fGr2zv2Hvy"
      },
      "source": [
        "**Base de Treino**"
      ]
    },
    {
      "cell_type": "code",
      "execution_count": null,
      "metadata": {
        "colab": {
          "background_save": true
        },
        "id": "zfRpDUaSzoxD",
        "outputId": "5cfa45ce-d221-4142-9e30-713388d1720a"
      },
      "outputs": [
        {
          "ename": "",
          "evalue": "",
          "output_type": "error",
          "traceback": [
            "\u001b[1;31mFailed to start the Kernel. \n",
            "\u001b[1;31mJupyter server crashed. Unable to connect. \n",
            "\u001b[1;31mError code from Jupyter: 1\n",
            "\u001b[1;31mTraceback (most recent call last):\n",
            "\u001b[1;31m  File \"/home/andsilva/.local/bin/jupyter-notebook\", line 5, in <module>\n",
            "\u001b[1;31m    from notebook.notebookapp import main\n",
            "\u001b[1;31m  File \"/home/andsilva/.local/lib/python3.10/site-packages/notebook/notebookapp.py\", line 57, in <module>\n",
            "\u001b[1;31m    raise ImportError(_(\"The Jupyter Notebook requires tornado >= 5.0, but you have %s\") % tornado.version)\n",
            "\u001b[1;31mImportError: The Jupyter Notebook requires tornado >= 5.0, but you have 4.5.3. \n",
            "\u001b[1;31mView Jupyter <a href='command:jupyter.viewOutput'>log</a> for further details."
          ]
        }
      ],
      "source": [
        "tree_clf.fit(default_X_prep, default_Y)"
      ]
    },
    {
      "cell_type": "code",
      "execution_count": null,
      "metadata": {
        "colab": {
          "background_save": true
        },
        "id": "P-E12VyDLs_A",
        "outputId": "53c2e6a3-9520-48f2-f4b6-82ec7d32da52"
      },
      "outputs": [
        {
          "ename": "",
          "evalue": "",
          "output_type": "error",
          "traceback": [
            "\u001b[1;31mFailed to start the Kernel. \n",
            "\u001b[1;31mJupyter server crashed. Unable to connect. \n",
            "\u001b[1;31mError code from Jupyter: 1\n",
            "\u001b[1;31mTraceback (most recent call last):\n",
            "\u001b[1;31m  File \"/home/andsilva/.local/bin/jupyter-notebook\", line 5, in <module>\n",
            "\u001b[1;31m    from notebook.notebookapp import main\n",
            "\u001b[1;31m  File \"/home/andsilva/.local/lib/python3.10/site-packages/notebook/notebookapp.py\", line 57, in <module>\n",
            "\u001b[1;31m    raise ImportError(_(\"The Jupyter Notebook requires tornado >= 5.0, but you have %s\") % tornado.version)\n",
            "\u001b[1;31mImportError: The Jupyter Notebook requires tornado >= 5.0, but you have 4.5.3. \n",
            "\u001b[1;31mView Jupyter <a href='command:jupyter.viewOutput'>log</a> for further details."
          ]
        }
      ],
      "source": [
        "tree_clf.get_depth()"
      ]
    },
    {
      "cell_type": "code",
      "execution_count": null,
      "metadata": {
        "colab": {
          "background_save": true
        },
        "id": "Rjh3M0i-LwDD",
        "outputId": "ce3456cc-19d4-4720-dbb7-8af6f0b8c47f"
      },
      "outputs": [
        {
          "ename": "",
          "evalue": "",
          "output_type": "error",
          "traceback": [
            "\u001b[1;31mFailed to start the Kernel. \n",
            "\u001b[1;31mJupyter server crashed. Unable to connect. \n",
            "\u001b[1;31mError code from Jupyter: 1\n",
            "\u001b[1;31mTraceback (most recent call last):\n",
            "\u001b[1;31m  File \"/home/andsilva/.local/bin/jupyter-notebook\", line 5, in <module>\n",
            "\u001b[1;31m    from notebook.notebookapp import main\n",
            "\u001b[1;31m  File \"/home/andsilva/.local/lib/python3.10/site-packages/notebook/notebookapp.py\", line 57, in <module>\n",
            "\u001b[1;31m    raise ImportError(_(\"The Jupyter Notebook requires tornado >= 5.0, but you have %s\") % tornado.version)\n",
            "\u001b[1;31mImportError: The Jupyter Notebook requires tornado >= 5.0, but you have 4.5.3. \n",
            "\u001b[1;31mView Jupyter <a href='command:jupyter.viewOutput'>log</a> for further details."
          ]
        }
      ],
      "source": [
        "tree_clf.get_n_leaves()"
      ]
    },
    {
      "cell_type": "code",
      "execution_count": null,
      "metadata": {
        "colab": {
          "background_save": true
        },
        "id": "XHVWnPl4z1pQ",
        "outputId": "96fd71b9-e8e0-478d-c52f-036523697488"
      },
      "outputs": [
        {
          "ename": "",
          "evalue": "",
          "output_type": "error",
          "traceback": [
            "\u001b[1;31mFailed to start the Kernel. \n",
            "\u001b[1;31mJupyter server crashed. Unable to connect. \n",
            "\u001b[1;31mError code from Jupyter: 1\n",
            "\u001b[1;31mTraceback (most recent call last):\n",
            "\u001b[1;31m  File \"/home/andsilva/.local/bin/jupyter-notebook\", line 5, in <module>\n",
            "\u001b[1;31m    from notebook.notebookapp import main\n",
            "\u001b[1;31m  File \"/home/andsilva/.local/lib/python3.10/site-packages/notebook/notebookapp.py\", line 57, in <module>\n",
            "\u001b[1;31m    raise ImportError(_(\"The Jupyter Notebook requires tornado >= 5.0, but you have %s\") % tornado.version)\n",
            "\u001b[1;31mImportError: The Jupyter Notebook requires tornado >= 5.0, but you have 4.5.3. \n",
            "\u001b[1;31mView Jupyter <a href='command:jupyter.viewOutput'>log</a> for further details."
          ]
        }
      ],
      "source": [
        "#Predição sem validação cruzada\n",
        "pred_train_tree_Y = tree_clf.predict(default_X_prep)\n",
        "pred_train_tree_Y"
      ]
    },
    {
      "cell_type": "code",
      "execution_count": null,
      "metadata": {
        "colab": {
          "background_save": true
        },
        "id": "862i7xhb0-Sp",
        "outputId": "683bf71a-27aa-4fb6-dd0e-3f0b584c9ccc"
      },
      "outputs": [
        {
          "ename": "",
          "evalue": "",
          "output_type": "error",
          "traceback": [
            "\u001b[1;31mFailed to start the Kernel. \n",
            "\u001b[1;31mJupyter server crashed. Unable to connect. \n",
            "\u001b[1;31mError code from Jupyter: 1\n",
            "\u001b[1;31mTraceback (most recent call last):\n",
            "\u001b[1;31m  File \"/home/andsilva/.local/bin/jupyter-notebook\", line 5, in <module>\n",
            "\u001b[1;31m    from notebook.notebookapp import main\n",
            "\u001b[1;31m  File \"/home/andsilva/.local/lib/python3.10/site-packages/notebook/notebookapp.py\", line 57, in <module>\n",
            "\u001b[1;31m    raise ImportError(_(\"The Jupyter Notebook requires tornado >= 5.0, but you have %s\") % tornado.version)\n",
            "\u001b[1;31mImportError: The Jupyter Notebook requires tornado >= 5.0, but you have 4.5.3. \n",
            "\u001b[1;31mView Jupyter <a href='command:jupyter.viewOutput'>log</a> for further details."
          ]
        }
      ],
      "source": [
        "#Score sem validação cruzada\n",
        "score_completo(default_Y, pred_train_tree_Y)"
      ]
    },
    {
      "cell_type": "code",
      "execution_count": null,
      "metadata": {
        "colab": {
          "background_save": true
        },
        "id": "_OMy38OIX4V7",
        "outputId": "47ce287f-9924-42f0-e255-23ba4a0c9a36"
      },
      "outputs": [
        {
          "ename": "",
          "evalue": "",
          "output_type": "error",
          "traceback": [
            "\u001b[1;31mFailed to start the Kernel. \n",
            "\u001b[1;31mJupyter server crashed. Unable to connect. \n",
            "\u001b[1;31mError code from Jupyter: 1\n",
            "\u001b[1;31mTraceback (most recent call last):\n",
            "\u001b[1;31m  File \"/home/andsilva/.local/bin/jupyter-notebook\", line 5, in <module>\n",
            "\u001b[1;31m    from notebook.notebookapp import main\n",
            "\u001b[1;31m  File \"/home/andsilva/.local/lib/python3.10/site-packages/notebook/notebookapp.py\", line 57, in <module>\n",
            "\u001b[1;31m    raise ImportError(_(\"The Jupyter Notebook requires tornado >= 5.0, but you have %s\") % tornado.version)\n",
            "\u001b[1;31mImportError: The Jupyter Notebook requires tornado >= 5.0, but you have 4.5.3. \n",
            "\u001b[1;31mView Jupyter <a href='command:jupyter.viewOutput'>log</a> for further details."
          ]
        }
      ],
      "source": [
        "#Predição com validação cruzada\n",
        "cross_pred_train_tree_Y = cross_val_predict(tree_clf, default_X_prep, default_Y, cv=5)\n",
        "cross_pred_train_tree_Y"
      ]
    },
    {
      "cell_type": "code",
      "execution_count": null,
      "metadata": {
        "colab": {
          "background_save": true
        },
        "id": "oC7N393YYCHe",
        "outputId": "abe89c63-7340-4d41-a2ff-de0f3207cf68"
      },
      "outputs": [
        {
          "ename": "",
          "evalue": "",
          "output_type": "error",
          "traceback": [
            "\u001b[1;31mFailed to start the Kernel. \n",
            "\u001b[1;31mJupyter server crashed. Unable to connect. \n",
            "\u001b[1;31mError code from Jupyter: 1\n",
            "\u001b[1;31mTraceback (most recent call last):\n",
            "\u001b[1;31m  File \"/home/andsilva/.local/bin/jupyter-notebook\", line 5, in <module>\n",
            "\u001b[1;31m    from notebook.notebookapp import main\n",
            "\u001b[1;31m  File \"/home/andsilva/.local/lib/python3.10/site-packages/notebook/notebookapp.py\", line 57, in <module>\n",
            "\u001b[1;31m    raise ImportError(_(\"The Jupyter Notebook requires tornado >= 5.0, but you have %s\") % tornado.version)\n",
            "\u001b[1;31mImportError: The Jupyter Notebook requires tornado >= 5.0, but you have 4.5.3. \n",
            "\u001b[1;31mView Jupyter <a href='command:jupyter.viewOutput'>log</a> for further details."
          ]
        }
      ],
      "source": [
        "#Score com validação cruzada\n",
        "score_completo(default_Y, cross_pred_train_tree_Y)"
      ]
    },
    {
      "cell_type": "markdown",
      "metadata": {
        "id": "Dg3zxxSq2J3K"
      },
      "source": [
        "**Base de Teste**"
      ]
    },
    {
      "cell_type": "code",
      "execution_count": null,
      "metadata": {
        "colab": {
          "background_save": true
        },
        "id": "kLsp0Mls2YV-",
        "outputId": "74637cfe-d503-4008-9eda-41123bbe7cc9"
      },
      "outputs": [
        {
          "ename": "",
          "evalue": "",
          "output_type": "error",
          "traceback": [
            "\u001b[1;31mFailed to start the Kernel. \n",
            "\u001b[1;31mJupyter server crashed. Unable to connect. \n",
            "\u001b[1;31mError code from Jupyter: 1\n",
            "\u001b[1;31mTraceback (most recent call last):\n",
            "\u001b[1;31m  File \"/home/andsilva/.local/bin/jupyter-notebook\", line 5, in <module>\n",
            "\u001b[1;31m    from notebook.notebookapp import main\n",
            "\u001b[1;31m  File \"/home/andsilva/.local/lib/python3.10/site-packages/notebook/notebookapp.py\", line 57, in <module>\n",
            "\u001b[1;31m    raise ImportError(_(\"The Jupyter Notebook requires tornado >= 5.0, but you have %s\") % tornado.version)\n",
            "\u001b[1;31mImportError: The Jupyter Notebook requires tornado >= 5.0, but you have 4.5.3. \n",
            "\u001b[1;31mView Jupyter <a href='command:jupyter.viewOutput'>log</a> for further details."
          ]
        }
      ],
      "source": [
        "#Predição sem validação cruzada\n",
        "pred_test_tree_clf_Y = tree_clf.predict(default_X_test_prep)\n",
        "pred_test_tree_clf_Y"
      ]
    },
    {
      "cell_type": "code",
      "execution_count": null,
      "metadata": {
        "colab": {
          "background_save": true
        },
        "id": "cqob-Vsm2k-N",
        "outputId": "565c32dd-de2a-4b50-f08f-fe03f9bdf541"
      },
      "outputs": [
        {
          "ename": "",
          "evalue": "",
          "output_type": "error",
          "traceback": [
            "\u001b[1;31mFailed to start the Kernel. \n",
            "\u001b[1;31mJupyter server crashed. Unable to connect. \n",
            "\u001b[1;31mError code from Jupyter: 1\n",
            "\u001b[1;31mTraceback (most recent call last):\n",
            "\u001b[1;31m  File \"/home/andsilva/.local/bin/jupyter-notebook\", line 5, in <module>\n",
            "\u001b[1;31m    from notebook.notebookapp import main\n",
            "\u001b[1;31m  File \"/home/andsilva/.local/lib/python3.10/site-packages/notebook/notebookapp.py\", line 57, in <module>\n",
            "\u001b[1;31m    raise ImportError(_(\"The Jupyter Notebook requires tornado >= 5.0, but you have %s\") % tornado.version)\n",
            "\u001b[1;31mImportError: The Jupyter Notebook requires tornado >= 5.0, but you have 4.5.3. \n",
            "\u001b[1;31mView Jupyter <a href='command:jupyter.viewOutput'>log</a> for further details."
          ]
        }
      ],
      "source": [
        "#score sem validação cruzada\n",
        "score_completo(default_Y_test, pred_test_tree_clf_Y)"
      ]
    },
    {
      "cell_type": "code",
      "execution_count": null,
      "metadata": {
        "colab": {
          "background_save": true
        },
        "id": "eX9-0JNZzK5b",
        "outputId": "d0d72d6c-912f-4d3e-a761-64a7f8892c59"
      },
      "outputs": [
        {
          "ename": "",
          "evalue": "",
          "output_type": "error",
          "traceback": [
            "\u001b[1;31mFailed to start the Kernel. \n",
            "\u001b[1;31mJupyter server crashed. Unable to connect. \n",
            "\u001b[1;31mError code from Jupyter: 1\n",
            "\u001b[1;31mTraceback (most recent call last):\n",
            "\u001b[1;31m  File \"/home/andsilva/.local/bin/jupyter-notebook\", line 5, in <module>\n",
            "\u001b[1;31m    from notebook.notebookapp import main\n",
            "\u001b[1;31m  File \"/home/andsilva/.local/lib/python3.10/site-packages/notebook/notebookapp.py\", line 57, in <module>\n",
            "\u001b[1;31m    raise ImportError(_(\"The Jupyter Notebook requires tornado >= 5.0, but you have %s\") % tornado.version)\n",
            "\u001b[1;31mImportError: The Jupyter Notebook requires tornado >= 5.0, but you have 4.5.3. \n",
            "\u001b[1;31mView Jupyter <a href='command:jupyter.viewOutput'>log</a> for further details."
          ]
        }
      ],
      "source": [
        "#Predição com validação cruzada\n",
        "xpred_test_tree_clf = cross_val_predict(tree_clf, default_X_test_prep, default_Y_test, cv=5)\n",
        "xpred_test_tree_clf"
      ]
    },
    {
      "cell_type": "code",
      "execution_count": null,
      "metadata": {
        "colab": {
          "background_save": true
        },
        "id": "BCiQNfoYzfT4",
        "outputId": "75b3d0e4-c06c-49d3-ab91-9aadb635d469"
      },
      "outputs": [
        {
          "ename": "",
          "evalue": "",
          "output_type": "error",
          "traceback": [
            "\u001b[1;31mFailed to start the Kernel. \n",
            "\u001b[1;31mJupyter server crashed. Unable to connect. \n",
            "\u001b[1;31mError code from Jupyter: 1\n",
            "\u001b[1;31mTraceback (most recent call last):\n",
            "\u001b[1;31m  File \"/home/andsilva/.local/bin/jupyter-notebook\", line 5, in <module>\n",
            "\u001b[1;31m    from notebook.notebookapp import main\n",
            "\u001b[1;31m  File \"/home/andsilva/.local/lib/python3.10/site-packages/notebook/notebookapp.py\", line 57, in <module>\n",
            "\u001b[1;31m    raise ImportError(_(\"The Jupyter Notebook requires tornado >= 5.0, but you have %s\") % tornado.version)\n",
            "\u001b[1;31mImportError: The Jupyter Notebook requires tornado >= 5.0, but you have 4.5.3. \n",
            "\u001b[1;31mView Jupyter <a href='command:jupyter.viewOutput'>log</a> for further details."
          ]
        }
      ],
      "source": [
        "#score com validação cruzada\n",
        "score_completo(default_Y_test, xpred_test_tree_clf)"
      ]
    },
    {
      "cell_type": "markdown",
      "metadata": {
        "id": "rVP-1k12rCjx"
      },
      "source": [
        "###Modelo após GridSearch"
      ]
    },
    {
      "cell_type": "code",
      "execution_count": null,
      "metadata": {
        "colab": {
          "background_save": true
        },
        "id": "i-5P_SiUPVWD",
        "outputId": "93401c18-0f48-48ba-a491-542a24943ccc"
      },
      "outputs": [
        {
          "ename": "",
          "evalue": "",
          "output_type": "error",
          "traceback": [
            "\u001b[1;31mFailed to start the Kernel. \n",
            "\u001b[1;31mJupyter server crashed. Unable to connect. \n",
            "\u001b[1;31mError code from Jupyter: 1\n",
            "\u001b[1;31mTraceback (most recent call last):\n",
            "\u001b[1;31m  File \"/home/andsilva/.local/bin/jupyter-notebook\", line 5, in <module>\n",
            "\u001b[1;31m    from notebook.notebookapp import main\n",
            "\u001b[1;31m  File \"/home/andsilva/.local/lib/python3.10/site-packages/notebook/notebookapp.py\", line 57, in <module>\n",
            "\u001b[1;31m    raise ImportError(_(\"The Jupyter Notebook requires tornado >= 5.0, but you have %s\") % tornado.version)\n",
            "\u001b[1;31mImportError: The Jupyter Notebook requires tornado >= 5.0, but you have 4.5.3. \n",
            "\u001b[1;31mView Jupyter <a href='command:jupyter.viewOutput'>log</a> for further details."
          ]
        }
      ],
      "source": [
        "#Rodei Grid Search para Otimização\n",
        "from sklearn.tree import DecisionTreeClassifier\n",
        "from sklearn.model_selection import GridSearchCV\n",
        "\n",
        "param_grid2 = [\n",
        "    { 'max_depth': [3, 10, 30],'max_features': [None],'max_leaf_nodes': [8,32, 64, 128]},\n",
        "     ]\n",
        "\n",
        "tree_clf_2 = DecisionTreeClassifier(random_state=42)\n",
        "\n",
        "grid_search_tree = GridSearchCV(tree_clf_2, param_grid2, cv=5,\n",
        "                           return_train_score=True)\n",
        "grid_search_tree.fit(default_X_prep, default_Y)"
      ]
    },
    {
      "cell_type": "markdown",
      "metadata": {
        "id": "Tmf0uRlW-3ab"
      },
      "source": [
        "<b><font color=red> Tentamos usar Max_features com valores porém modelo estava entregando resultado do recall e R1 muito baixo, por isso usamos None."
      ]
    },
    {
      "cell_type": "code",
      "execution_count": null,
      "metadata": {
        "colab": {
          "background_save": true
        },
        "id": "ieubu62N3Khu",
        "outputId": "16764a5f-7f31-46cb-f721-d90e123402cf"
      },
      "outputs": [
        {
          "ename": "",
          "evalue": "",
          "output_type": "error",
          "traceback": [
            "\u001b[1;31mFailed to start the Kernel. \n",
            "\u001b[1;31mJupyter server crashed. Unable to connect. \n",
            "\u001b[1;31mError code from Jupyter: 1\n",
            "\u001b[1;31mTraceback (most recent call last):\n",
            "\u001b[1;31m  File \"/home/andsilva/.local/bin/jupyter-notebook\", line 5, in <module>\n",
            "\u001b[1;31m    from notebook.notebookapp import main\n",
            "\u001b[1;31m  File \"/home/andsilva/.local/lib/python3.10/site-packages/notebook/notebookapp.py\", line 57, in <module>\n",
            "\u001b[1;31m    raise ImportError(_(\"The Jupyter Notebook requires tornado >= 5.0, but you have %s\") % tornado.version)\n",
            "\u001b[1;31mImportError: The Jupyter Notebook requires tornado >= 5.0, but you have 4.5.3. \n",
            "\u001b[1;31mView Jupyter <a href='command:jupyter.viewOutput'>log</a> for further details."
          ]
        }
      ],
      "source": [
        "grid_search_tree.best_params_"
      ]
    },
    {
      "cell_type": "code",
      "execution_count": null,
      "metadata": {
        "colab": {
          "background_save": true
        },
        "id": "tnxQ95TE3Xo0",
        "outputId": "5cf633a5-5b10-4dab-e438-2a13ffb9dee1"
      },
      "outputs": [
        {
          "ename": "",
          "evalue": "",
          "output_type": "error",
          "traceback": [
            "\u001b[1;31mFailed to start the Kernel. \n",
            "\u001b[1;31mJupyter server crashed. Unable to connect. \n",
            "\u001b[1;31mError code from Jupyter: 1\n",
            "\u001b[1;31mTraceback (most recent call last):\n",
            "\u001b[1;31m  File \"/home/andsilva/.local/bin/jupyter-notebook\", line 5, in <module>\n",
            "\u001b[1;31m    from notebook.notebookapp import main\n",
            "\u001b[1;31m  File \"/home/andsilva/.local/lib/python3.10/site-packages/notebook/notebookapp.py\", line 57, in <module>\n",
            "\u001b[1;31m    raise ImportError(_(\"The Jupyter Notebook requires tornado >= 5.0, but you have %s\") % tornado.version)\n",
            "\u001b[1;31mImportError: The Jupyter Notebook requires tornado >= 5.0, but you have 4.5.3. \n",
            "\u001b[1;31mView Jupyter <a href='command:jupyter.viewOutput'>log</a> for further details."
          ]
        }
      ],
      "source": [
        "grid_search_tree.best_estimator_"
      ]
    },
    {
      "cell_type": "code",
      "execution_count": null,
      "metadata": {
        "colab": {
          "background_save": true
        },
        "id": "uF1daZD83kYM",
        "outputId": "9c695a64-a38c-4b7e-ad81-6f6a70926c8a"
      },
      "outputs": [
        {
          "ename": "",
          "evalue": "",
          "output_type": "error",
          "traceback": [
            "\u001b[1;31mFailed to start the Kernel. \n",
            "\u001b[1;31mJupyter server crashed. Unable to connect. \n",
            "\u001b[1;31mError code from Jupyter: 1\n",
            "\u001b[1;31mTraceback (most recent call last):\n",
            "\u001b[1;31m  File \"/home/andsilva/.local/bin/jupyter-notebook\", line 5, in <module>\n",
            "\u001b[1;31m    from notebook.notebookapp import main\n",
            "\u001b[1;31m  File \"/home/andsilva/.local/lib/python3.10/site-packages/notebook/notebookapp.py\", line 57, in <module>\n",
            "\u001b[1;31m    raise ImportError(_(\"The Jupyter Notebook requires tornado >= 5.0, but you have %s\") % tornado.version)\n",
            "\u001b[1;31mImportError: The Jupyter Notebook requires tornado >= 5.0, but you have 4.5.3. \n",
            "\u001b[1;31mView Jupyter <a href='command:jupyter.viewOutput'>log</a> for further details."
          ]
        }
      ],
      "source": [
        "tree_clf3 = DecisionTreeClassifier(max_depth=3,max_features=None, max_leaf_nodes=8)\n",
        "tree_clf3.fit(default_X_prep, default_Y)"
      ]
    },
    {
      "cell_type": "code",
      "execution_count": null,
      "metadata": {
        "colab": {
          "background_save": true
        },
        "id": "ZGWM5Yhf4ffR",
        "outputId": "5acb596e-a97b-43b1-b208-9708a6186c11"
      },
      "outputs": [
        {
          "ename": "",
          "evalue": "",
          "output_type": "error",
          "traceback": [
            "\u001b[1;31mFailed to start the Kernel. \n",
            "\u001b[1;31mJupyter server crashed. Unable to connect. \n",
            "\u001b[1;31mError code from Jupyter: 1\n",
            "\u001b[1;31mTraceback (most recent call last):\n",
            "\u001b[1;31m  File \"/home/andsilva/.local/bin/jupyter-notebook\", line 5, in <module>\n",
            "\u001b[1;31m    from notebook.notebookapp import main\n",
            "\u001b[1;31m  File \"/home/andsilva/.local/lib/python3.10/site-packages/notebook/notebookapp.py\", line 57, in <module>\n",
            "\u001b[1;31m    raise ImportError(_(\"The Jupyter Notebook requires tornado >= 5.0, but you have %s\") % tornado.version)\n",
            "\u001b[1;31mImportError: The Jupyter Notebook requires tornado >= 5.0, but you have 4.5.3. \n",
            "\u001b[1;31mView Jupyter <a href='command:jupyter.viewOutput'>log</a> for further details."
          ]
        }
      ],
      "source": [
        "#Predição com validação cruzada com parâmetros estimados pelo Grid Search\n",
        "cross_pred_train_tree_clf_3 = cross_val_predict(tree_clf3, default_X_prep, default_Y, cv=5)\n",
        "cross_pred_train_tree_clf_3"
      ]
    },
    {
      "cell_type": "code",
      "execution_count": null,
      "metadata": {
        "colab": {
          "background_save": true
        },
        "id": "z91rSlS25BnY",
        "outputId": "8c66232e-ca24-4049-9069-2fe8c435a6db"
      },
      "outputs": [
        {
          "ename": "",
          "evalue": "",
          "output_type": "error",
          "traceback": [
            "\u001b[1;31mFailed to start the Kernel. \n",
            "\u001b[1;31mJupyter server crashed. Unable to connect. \n",
            "\u001b[1;31mError code from Jupyter: 1\n",
            "\u001b[1;31mTraceback (most recent call last):\n",
            "\u001b[1;31m  File \"/home/andsilva/.local/bin/jupyter-notebook\", line 5, in <module>\n",
            "\u001b[1;31m    from notebook.notebookapp import main\n",
            "\u001b[1;31m  File \"/home/andsilva/.local/lib/python3.10/site-packages/notebook/notebookapp.py\", line 57, in <module>\n",
            "\u001b[1;31m    raise ImportError(_(\"The Jupyter Notebook requires tornado >= 5.0, but you have %s\") % tornado.version)\n",
            "\u001b[1;31mImportError: The Jupyter Notebook requires tornado >= 5.0, but you have 4.5.3. \n",
            "\u001b[1;31mView Jupyter <a href='command:jupyter.viewOutput'>log</a> for further details."
          ]
        }
      ],
      "source": [
        "#Score com validação cruzada\n",
        "score_completo(default_Y, cross_pred_train_tree_clf_3)"
      ]
    },
    {
      "cell_type": "markdown",
      "metadata": {
        "id": "pwrRnPIw7kx5"
      },
      "source": [
        "**Base de Teste**"
      ]
    },
    {
      "cell_type": "code",
      "execution_count": null,
      "metadata": {
        "colab": {
          "background_save": true
        },
        "id": "YVMd-rSt6OKp",
        "outputId": "f59723b2-40b9-4b7f-fd89-034e2c88c2fc"
      },
      "outputs": [
        {
          "ename": "",
          "evalue": "",
          "output_type": "error",
          "traceback": [
            "\u001b[1;31mFailed to start the Kernel. \n",
            "\u001b[1;31mJupyter server crashed. Unable to connect. \n",
            "\u001b[1;31mError code from Jupyter: 1\n",
            "\u001b[1;31mTraceback (most recent call last):\n",
            "\u001b[1;31m  File \"/home/andsilva/.local/bin/jupyter-notebook\", line 5, in <module>\n",
            "\u001b[1;31m    from notebook.notebookapp import main\n",
            "\u001b[1;31m  File \"/home/andsilva/.local/lib/python3.10/site-packages/notebook/notebookapp.py\", line 57, in <module>\n",
            "\u001b[1;31m    raise ImportError(_(\"The Jupyter Notebook requires tornado >= 5.0, but you have %s\") % tornado.version)\n",
            "\u001b[1;31mImportError: The Jupyter Notebook requires tornado >= 5.0, but you have 4.5.3. \n",
            "\u001b[1;31mView Jupyter <a href='command:jupyter.viewOutput'>log</a> for further details."
          ]
        }
      ],
      "source": [
        "#Predição com validação cruzada\n",
        "xpred_test_tree_clf_3 = cross_val_predict(tree_clf3, default_X_test_prep, default_Y_test, cv=5)\n",
        "xpred_test_tree_clf_3"
      ]
    },
    {
      "cell_type": "code",
      "execution_count": null,
      "metadata": {
        "colab": {
          "background_save": true
        },
        "id": "xPztUbQl6q8k",
        "outputId": "b23e018d-175a-4401-ca53-6b068b6ddaad"
      },
      "outputs": [
        {
          "ename": "",
          "evalue": "",
          "output_type": "error",
          "traceback": [
            "\u001b[1;31mFailed to start the Kernel. \n",
            "\u001b[1;31mJupyter server crashed. Unable to connect. \n",
            "\u001b[1;31mError code from Jupyter: 1\n",
            "\u001b[1;31mTraceback (most recent call last):\n",
            "\u001b[1;31m  File \"/home/andsilva/.local/bin/jupyter-notebook\", line 5, in <module>\n",
            "\u001b[1;31m    from notebook.notebookapp import main\n",
            "\u001b[1;31m  File \"/home/andsilva/.local/lib/python3.10/site-packages/notebook/notebookapp.py\", line 57, in <module>\n",
            "\u001b[1;31m    raise ImportError(_(\"The Jupyter Notebook requires tornado >= 5.0, but you have %s\") % tornado.version)\n",
            "\u001b[1;31mImportError: The Jupyter Notebook requires tornado >= 5.0, but you have 4.5.3. \n",
            "\u001b[1;31mView Jupyter <a href='command:jupyter.viewOutput'>log</a> for further details."
          ]
        }
      ],
      "source": [
        "#score com validação cruzada\n",
        "score_completo(default_Y_test, xpred_test_tree_clf_3)"
      ]
    },
    {
      "cell_type": "markdown",
      "metadata": {
        "id": "bcAtbzmwVCm1"
      },
      "source": [
        "##Random Forest"
      ]
    },
    {
      "cell_type": "code",
      "execution_count": null,
      "metadata": {
        "colab": {
          "background_save": true
        },
        "id": "OLAMctufVGZR"
      },
      "outputs": [
        {
          "ename": "",
          "evalue": "",
          "output_type": "error",
          "traceback": [
            "\u001b[1;31mFailed to start the Kernel. \n",
            "\u001b[1;31mJupyter server crashed. Unable to connect. \n",
            "\u001b[1;31mError code from Jupyter: 1\n",
            "\u001b[1;31mTraceback (most recent call last):\n",
            "\u001b[1;31m  File \"/home/andsilva/.local/bin/jupyter-notebook\", line 5, in <module>\n",
            "\u001b[1;31m    from notebook.notebookapp import main\n",
            "\u001b[1;31m  File \"/home/andsilva/.local/lib/python3.10/site-packages/notebook/notebookapp.py\", line 57, in <module>\n",
            "\u001b[1;31m    raise ImportError(_(\"The Jupyter Notebook requires tornado >= 5.0, but you have %s\") % tornado.version)\n",
            "\u001b[1;31mImportError: The Jupyter Notebook requires tornado >= 5.0, but you have 4.5.3. \n",
            "\u001b[1;31mView Jupyter <a href='command:jupyter.viewOutput'>log</a> for further details."
          ]
        }
      ],
      "source": [
        "from sklearn.ensemble import RandomForestClassifier"
      ]
    },
    {
      "cell_type": "markdown",
      "metadata": {
        "id": "nntr0QZKaE8C"
      },
      "source": [
        "###Modelo antes do GridSearch"
      ]
    },
    {
      "cell_type": "markdown",
      "metadata": {
        "id": "51Ulyv3z2I2j"
      },
      "source": [
        "**Base de Treino**"
      ]
    },
    {
      "cell_type": "code",
      "execution_count": null,
      "metadata": {
        "colab": {
          "background_save": true
        },
        "id": "G5idr4vE5BBO",
        "outputId": "5e26a209-2ed7-4244-9ae3-0ac875d5a99a"
      },
      "outputs": [
        {
          "ename": "",
          "evalue": "",
          "output_type": "error",
          "traceback": [
            "\u001b[1;31mFailed to start the Kernel. \n",
            "\u001b[1;31mJupyter server crashed. Unable to connect. \n",
            "\u001b[1;31mError code from Jupyter: 1\n",
            "\u001b[1;31mTraceback (most recent call last):\n",
            "\u001b[1;31m  File \"/home/andsilva/.local/bin/jupyter-notebook\", line 5, in <module>\n",
            "\u001b[1;31m    from notebook.notebookapp import main\n",
            "\u001b[1;31m  File \"/home/andsilva/.local/lib/python3.10/site-packages/notebook/notebookapp.py\", line 57, in <module>\n",
            "\u001b[1;31m    raise ImportError(_(\"The Jupyter Notebook requires tornado >= 5.0, but you have %s\") % tornado.version)\n",
            "\u001b[1;31mImportError: The Jupyter Notebook requires tornado >= 5.0, but you have 4.5.3. \n",
            "\u001b[1;31mView Jupyter <a href='command:jupyter.viewOutput'>log</a> for further details."
          ]
        }
      ],
      "source": [
        "#parâmetros padrão -  n_estimators: default=100; max_depth: default=None; max_features{“auto”, “sqrt”, “log2”}: default=”auto”; max_leaf_nodes: default=None; bootstrap: default=True\n",
        "rndf_clf = RandomForestClassifier()\n",
        "rndf_clf.fit(default_X_prep, default_Y)"
      ]
    },
    {
      "cell_type": "code",
      "execution_count": null,
      "metadata": {
        "colab": {
          "background_save": true
        },
        "id": "FZgsZz685eh8",
        "outputId": "9fe5f733-7fc6-4480-892d-a4e0a0314155"
      },
      "outputs": [
        {
          "ename": "",
          "evalue": "",
          "output_type": "error",
          "traceback": [
            "\u001b[1;31mFailed to start the Kernel. \n",
            "\u001b[1;31mJupyter server crashed. Unable to connect. \n",
            "\u001b[1;31mError code from Jupyter: 1\n",
            "\u001b[1;31mTraceback (most recent call last):\n",
            "\u001b[1;31m  File \"/home/andsilva/.local/bin/jupyter-notebook\", line 5, in <module>\n",
            "\u001b[1;31m    from notebook.notebookapp import main\n",
            "\u001b[1;31m  File \"/home/andsilva/.local/lib/python3.10/site-packages/notebook/notebookapp.py\", line 57, in <module>\n",
            "\u001b[1;31m    raise ImportError(_(\"The Jupyter Notebook requires tornado >= 5.0, but you have %s\") % tornado.version)\n",
            "\u001b[1;31mImportError: The Jupyter Notebook requires tornado >= 5.0, but you have 4.5.3. \n",
            "\u001b[1;31mView Jupyter <a href='command:jupyter.viewOutput'>log</a> for further details."
          ]
        }
      ],
      "source": [
        "#Predição sem validação cruzada\n",
        "pred_train_rndf_clf = rndf_clf.predict(default_X_prep)\n",
        "pred_train_rndf_clf"
      ]
    },
    {
      "cell_type": "code",
      "execution_count": null,
      "metadata": {
        "colab": {
          "background_save": true
        },
        "id": "GEBj4ohH5nts",
        "outputId": "84ac6278-fb29-4083-eec1-3b93ac1b041f"
      },
      "outputs": [
        {
          "ename": "",
          "evalue": "",
          "output_type": "error",
          "traceback": [
            "\u001b[1;31mFailed to start the Kernel. \n",
            "\u001b[1;31mJupyter server crashed. Unable to connect. \n",
            "\u001b[1;31mError code from Jupyter: 1\n",
            "\u001b[1;31mTraceback (most recent call last):\n",
            "\u001b[1;31m  File \"/home/andsilva/.local/bin/jupyter-notebook\", line 5, in <module>\n",
            "\u001b[1;31m    from notebook.notebookapp import main\n",
            "\u001b[1;31m  File \"/home/andsilva/.local/lib/python3.10/site-packages/notebook/notebookapp.py\", line 57, in <module>\n",
            "\u001b[1;31m    raise ImportError(_(\"The Jupyter Notebook requires tornado >= 5.0, but you have %s\") % tornado.version)\n",
            "\u001b[1;31mImportError: The Jupyter Notebook requires tornado >= 5.0, but you have 4.5.3. \n",
            "\u001b[1;31mView Jupyter <a href='command:jupyter.viewOutput'>log</a> for further details."
          ]
        }
      ],
      "source": [
        "#Score com predição sem validação cruzada\n",
        "score_completo(default_Y, pred_train_rndf_clf)"
      ]
    },
    {
      "cell_type": "code",
      "execution_count": null,
      "metadata": {
        "colab": {
          "background_save": true
        },
        "id": "sGNdDRfQ5kmK",
        "outputId": "9bf95c5c-c99a-43cf-83a7-25131990bf38"
      },
      "outputs": [
        {
          "ename": "",
          "evalue": "",
          "output_type": "error",
          "traceback": [
            "\u001b[1;31mFailed to start the Kernel. \n",
            "\u001b[1;31mJupyter server crashed. Unable to connect. \n",
            "\u001b[1;31mError code from Jupyter: 1\n",
            "\u001b[1;31mTraceback (most recent call last):\n",
            "\u001b[1;31m  File \"/home/andsilva/.local/bin/jupyter-notebook\", line 5, in <module>\n",
            "\u001b[1;31m    from notebook.notebookapp import main\n",
            "\u001b[1;31m  File \"/home/andsilva/.local/lib/python3.10/site-packages/notebook/notebookapp.py\", line 57, in <module>\n",
            "\u001b[1;31m    raise ImportError(_(\"The Jupyter Notebook requires tornado >= 5.0, but you have %s\") % tornado.version)\n",
            "\u001b[1;31mImportError: The Jupyter Notebook requires tornado >= 5.0, but you have 4.5.3. \n",
            "\u001b[1;31mView Jupyter <a href='command:jupyter.viewOutput'>log</a> for further details."
          ]
        }
      ],
      "source": [
        "#Predição com validação cruzada\n",
        "xpred_train_rndf_clf = cross_val_predict(rndf_clf, default_X_prep, default_Y, cv=5)\n",
        "xpred_train_rndf_clf"
      ]
    },
    {
      "cell_type": "code",
      "execution_count": null,
      "metadata": {
        "colab": {
          "background_save": true
        },
        "id": "XMz5Ca-t5pum",
        "outputId": "265628eb-1425-4446-c023-3bb0eb6ac006"
      },
      "outputs": [
        {
          "ename": "",
          "evalue": "",
          "output_type": "error",
          "traceback": [
            "\u001b[1;31mFailed to start the Kernel. \n",
            "\u001b[1;31mJupyter server crashed. Unable to connect. \n",
            "\u001b[1;31mError code from Jupyter: 1\n",
            "\u001b[1;31mTraceback (most recent call last):\n",
            "\u001b[1;31m  File \"/home/andsilva/.local/bin/jupyter-notebook\", line 5, in <module>\n",
            "\u001b[1;31m    from notebook.notebookapp import main\n",
            "\u001b[1;31m  File \"/home/andsilva/.local/lib/python3.10/site-packages/notebook/notebookapp.py\", line 57, in <module>\n",
            "\u001b[1;31m    raise ImportError(_(\"The Jupyter Notebook requires tornado >= 5.0, but you have %s\") % tornado.version)\n",
            "\u001b[1;31mImportError: The Jupyter Notebook requires tornado >= 5.0, but you have 4.5.3. \n",
            "\u001b[1;31mView Jupyter <a href='command:jupyter.viewOutput'>log</a> for further details."
          ]
        }
      ],
      "source": [
        "#Score com predição com validação cruzada\n",
        "score_completo(default_Y, xpred_train_rndf_clf)"
      ]
    },
    {
      "cell_type": "markdown",
      "metadata": {
        "id": "osPX04iq57CU"
      },
      "source": [
        "**Base de Teste**"
      ]
    },
    {
      "cell_type": "code",
      "execution_count": null,
      "metadata": {
        "colab": {
          "background_save": true
        },
        "id": "yru5hMVu6L6C",
        "outputId": "8eec6273-4e5e-4c82-8b11-cad6706f4293"
      },
      "outputs": [
        {
          "ename": "",
          "evalue": "",
          "output_type": "error",
          "traceback": [
            "\u001b[1;31mFailed to start the Kernel. \n",
            "\u001b[1;31mJupyter server crashed. Unable to connect. \n",
            "\u001b[1;31mError code from Jupyter: 1\n",
            "\u001b[1;31mTraceback (most recent call last):\n",
            "\u001b[1;31m  File \"/home/andsilva/.local/bin/jupyter-notebook\", line 5, in <module>\n",
            "\u001b[1;31m    from notebook.notebookapp import main\n",
            "\u001b[1;31m  File \"/home/andsilva/.local/lib/python3.10/site-packages/notebook/notebookapp.py\", line 57, in <module>\n",
            "\u001b[1;31m    raise ImportError(_(\"The Jupyter Notebook requires tornado >= 5.0, but you have %s\") % tornado.version)\n",
            "\u001b[1;31mImportError: The Jupyter Notebook requires tornado >= 5.0, but you have 4.5.3. \n",
            "\u001b[1;31mView Jupyter <a href='command:jupyter.viewOutput'>log</a> for further details."
          ]
        }
      ],
      "source": [
        "#Predição sem validação cruzada\n",
        "pred_test_rndf_clf = rndf_clf.predict(default_X_test_prep)\n",
        "pred_test_rndf_clf"
      ]
    },
    {
      "cell_type": "code",
      "execution_count": null,
      "metadata": {
        "colab": {
          "background_save": true
        },
        "id": "kzJyhFtF6W53",
        "outputId": "2166dc5e-7801-4e47-b3ce-9f4880df8515"
      },
      "outputs": [
        {
          "ename": "",
          "evalue": "",
          "output_type": "error",
          "traceback": [
            "\u001b[1;31mFailed to start the Kernel. \n",
            "\u001b[1;31mJupyter server crashed. Unable to connect. \n",
            "\u001b[1;31mError code from Jupyter: 1\n",
            "\u001b[1;31mTraceback (most recent call last):\n",
            "\u001b[1;31m  File \"/home/andsilva/.local/bin/jupyter-notebook\", line 5, in <module>\n",
            "\u001b[1;31m    from notebook.notebookapp import main\n",
            "\u001b[1;31m  File \"/home/andsilva/.local/lib/python3.10/site-packages/notebook/notebookapp.py\", line 57, in <module>\n",
            "\u001b[1;31m    raise ImportError(_(\"The Jupyter Notebook requires tornado >= 5.0, but you have %s\") % tornado.version)\n",
            "\u001b[1;31mImportError: The Jupyter Notebook requires tornado >= 5.0, but you have 4.5.3. \n",
            "\u001b[1;31mView Jupyter <a href='command:jupyter.viewOutput'>log</a> for further details."
          ]
        }
      ],
      "source": [
        "#Score com predição sem validação cruzada\n",
        "score_completo(default_Y_test, pred_test_rndf_clf)"
      ]
    },
    {
      "cell_type": "code",
      "execution_count": null,
      "metadata": {
        "colab": {
          "background_save": true
        },
        "id": "2lj8gzmf6ei_",
        "outputId": "f03502ba-fcc9-4fb6-f239-317f698ab6be"
      },
      "outputs": [
        {
          "ename": "",
          "evalue": "",
          "output_type": "error",
          "traceback": [
            "\u001b[1;31mFailed to start the Kernel. \n",
            "\u001b[1;31mJupyter server crashed. Unable to connect. \n",
            "\u001b[1;31mError code from Jupyter: 1\n",
            "\u001b[1;31mTraceback (most recent call last):\n",
            "\u001b[1;31m  File \"/home/andsilva/.local/bin/jupyter-notebook\", line 5, in <module>\n",
            "\u001b[1;31m    from notebook.notebookapp import main\n",
            "\u001b[1;31m  File \"/home/andsilva/.local/lib/python3.10/site-packages/notebook/notebookapp.py\", line 57, in <module>\n",
            "\u001b[1;31m    raise ImportError(_(\"The Jupyter Notebook requires tornado >= 5.0, but you have %s\") % tornado.version)\n",
            "\u001b[1;31mImportError: The Jupyter Notebook requires tornado >= 5.0, but you have 4.5.3. \n",
            "\u001b[1;31mView Jupyter <a href='command:jupyter.viewOutput'>log</a> for further details."
          ]
        }
      ],
      "source": [
        "#Predição com validação cruzada\n",
        "xpred_test_rndf_clf = cross_val_predict(rndf_clf, default_X_test_prep, default_Y_test, cv=5)\n",
        "xpred_test_rndf_clf"
      ]
    },
    {
      "cell_type": "code",
      "execution_count": null,
      "metadata": {
        "colab": {
          "background_save": true
        },
        "id": "GKsl2Z_39tJU",
        "outputId": "e18ad277-7977-454a-9e7c-9ba7e1d3eb1e"
      },
      "outputs": [
        {
          "ename": "",
          "evalue": "",
          "output_type": "error",
          "traceback": [
            "\u001b[1;31mFailed to start the Kernel. \n",
            "\u001b[1;31mJupyter server crashed. Unable to connect. \n",
            "\u001b[1;31mError code from Jupyter: 1\n",
            "\u001b[1;31mTraceback (most recent call last):\n",
            "\u001b[1;31m  File \"/home/andsilva/.local/bin/jupyter-notebook\", line 5, in <module>\n",
            "\u001b[1;31m    from notebook.notebookapp import main\n",
            "\u001b[1;31m  File \"/home/andsilva/.local/lib/python3.10/site-packages/notebook/notebookapp.py\", line 57, in <module>\n",
            "\u001b[1;31m    raise ImportError(_(\"The Jupyter Notebook requires tornado >= 5.0, but you have %s\") % tornado.version)\n",
            "\u001b[1;31mImportError: The Jupyter Notebook requires tornado >= 5.0, but you have 4.5.3. \n",
            "\u001b[1;31mView Jupyter <a href='command:jupyter.viewOutput'>log</a> for further details."
          ]
        }
      ],
      "source": [
        "#Score com predição com validação cruzada\n",
        "score_completo(default_Y_test, xpred_test_rndf_clf)"
      ]
    },
    {
      "cell_type": "markdown",
      "metadata": {
        "id": "SK1KO3yOaHUv"
      },
      "source": [
        "###Modelo após GridSearch"
      ]
    },
    {
      "cell_type": "code",
      "execution_count": null,
      "metadata": {
        "colab": {
          "background_save": true
        },
        "id": "2JhMlT3yMBFw",
        "outputId": "781a1f2d-2089-402f-bc08-b8a8cd05898d"
      },
      "outputs": [
        {
          "ename": "",
          "evalue": "",
          "output_type": "error",
          "traceback": [
            "\u001b[1;31mFailed to start the Kernel. \n",
            "\u001b[1;31mJupyter server crashed. Unable to connect. \n",
            "\u001b[1;31mError code from Jupyter: 1\n",
            "\u001b[1;31mTraceback (most recent call last):\n",
            "\u001b[1;31m  File \"/home/andsilva/.local/bin/jupyter-notebook\", line 5, in <module>\n",
            "\u001b[1;31m    from notebook.notebookapp import main\n",
            "\u001b[1;31m  File \"/home/andsilva/.local/lib/python3.10/site-packages/notebook/notebookapp.py\", line 57, in <module>\n",
            "\u001b[1;31m    raise ImportError(_(\"The Jupyter Notebook requires tornado >= 5.0, but you have %s\") % tornado.version)\n",
            "\u001b[1;31mImportError: The Jupyter Notebook requires tornado >= 5.0, but you have 4.5.3. \n",
            "\u001b[1;31mView Jupyter <a href='command:jupyter.viewOutput'>log</a> for further details."
          ]
        }
      ],
      "source": [
        "#Rodei Grid Search para Otimização\n",
        "\n",
        "from sklearn.ensemble import RandomForestClassifier\n",
        "from sklearn.model_selection import GridSearchCV\n",
        "\n",
        "param_grid3 = [\n",
        "\n",
        "    {'n_estimators': [3, 10, 30], 'max_features': [2, 4, 8, 16], 'max_leaf_nodes': [8, 32, 64, 128]},\n",
        "\n",
        "    {'bootstrap': [False], 'n_estimators': [3, 10], 'max_features': [2, 3, 4],'max_leaf_nodes': [8, 16, 32]},\n",
        "  ]\n",
        "\n",
        "rndf_clf_gscv = RandomForestClassifier(random_state=42)\n",
        "\n",
        "grid_search3 = GridSearchCV(rndf_clf_gscv, param_grid3, cv=5,\n",
        "                           return_train_score=True)\n",
        "grid_search3.fit(default_X_prep, default_Y)"
      ]
    },
    {
      "cell_type": "code",
      "execution_count": null,
      "metadata": {
        "colab": {
          "background_save": true
        },
        "id": "_-K-L4XqPnT7",
        "outputId": "64831cfd-a9d5-41cd-8291-116d4a429f52"
      },
      "outputs": [
        {
          "ename": "",
          "evalue": "",
          "output_type": "error",
          "traceback": [
            "\u001b[1;31mFailed to start the Kernel. \n",
            "\u001b[1;31mJupyter server crashed. Unable to connect. \n",
            "\u001b[1;31mError code from Jupyter: 1\n",
            "\u001b[1;31mTraceback (most recent call last):\n",
            "\u001b[1;31m  File \"/home/andsilva/.local/bin/jupyter-notebook\", line 5, in <module>\n",
            "\u001b[1;31m    from notebook.notebookapp import main\n",
            "\u001b[1;31m  File \"/home/andsilva/.local/lib/python3.10/site-packages/notebook/notebookapp.py\", line 57, in <module>\n",
            "\u001b[1;31m    raise ImportError(_(\"The Jupyter Notebook requires tornado >= 5.0, but you have %s\") % tornado.version)\n",
            "\u001b[1;31mImportError: The Jupyter Notebook requires tornado >= 5.0, but you have 4.5.3. \n",
            "\u001b[1;31mView Jupyter <a href='command:jupyter.viewOutput'>log</a> for further details."
          ]
        }
      ],
      "source": [
        "grid_search3.best_params_"
      ]
    },
    {
      "cell_type": "code",
      "execution_count": null,
      "metadata": {
        "colab": {
          "background_save": true
        },
        "id": "hnRAiHHwPqbq",
        "outputId": "41f0e572-43a2-4963-fcc2-cecdaee70858"
      },
      "outputs": [
        {
          "ename": "",
          "evalue": "",
          "output_type": "error",
          "traceback": [
            "\u001b[1;31mFailed to start the Kernel. \n",
            "\u001b[1;31mJupyter server crashed. Unable to connect. \n",
            "\u001b[1;31mError code from Jupyter: 1\n",
            "\u001b[1;31mTraceback (most recent call last):\n",
            "\u001b[1;31m  File \"/home/andsilva/.local/bin/jupyter-notebook\", line 5, in <module>\n",
            "\u001b[1;31m    from notebook.notebookapp import main\n",
            "\u001b[1;31m  File \"/home/andsilva/.local/lib/python3.10/site-packages/notebook/notebookapp.py\", line 57, in <module>\n",
            "\u001b[1;31m    raise ImportError(_(\"The Jupyter Notebook requires tornado >= 5.0, but you have %s\") % tornado.version)\n",
            "\u001b[1;31mImportError: The Jupyter Notebook requires tornado >= 5.0, but you have 4.5.3. \n",
            "\u001b[1;31mView Jupyter <a href='command:jupyter.viewOutput'>log</a> for further details."
          ]
        }
      ],
      "source": [
        "grid_search3.best_estimator_"
      ]
    },
    {
      "cell_type": "markdown",
      "metadata": {
        "id": "TcI3aKW1ARMx"
      },
      "source": [
        "**Base de Treino**"
      ]
    },
    {
      "cell_type": "code",
      "execution_count": null,
      "metadata": {
        "colab": {
          "background_save": true
        },
        "id": "JSp-i3TU1V71",
        "outputId": "ccfe67ad-09f7-4b50-f95c-8783564405fa"
      },
      "outputs": [
        {
          "ename": "",
          "evalue": "",
          "output_type": "error",
          "traceback": [
            "\u001b[1;31mFailed to start the Kernel. \n",
            "\u001b[1;31mJupyter server crashed. Unable to connect. \n",
            "\u001b[1;31mError code from Jupyter: 1\n",
            "\u001b[1;31mTraceback (most recent call last):\n",
            "\u001b[1;31m  File \"/home/andsilva/.local/bin/jupyter-notebook\", line 5, in <module>\n",
            "\u001b[1;31m    from notebook.notebookapp import main\n",
            "\u001b[1;31m  File \"/home/andsilva/.local/lib/python3.10/site-packages/notebook/notebookapp.py\", line 57, in <module>\n",
            "\u001b[1;31m    raise ImportError(_(\"The Jupyter Notebook requires tornado >= 5.0, but you have %s\") % tornado.version)\n",
            "\u001b[1;31mImportError: The Jupyter Notebook requires tornado >= 5.0, but you have 4.5.3. \n",
            "\u001b[1;31mView Jupyter <a href='command:jupyter.viewOutput'>log</a> for further details."
          ]
        }
      ],
      "source": [
        "#A título de curiosidade, vamos rodar Random Florest com n_estimators=500, max_leaf_nodes=16 e max_features=6 e  e comparar com os parametros estimados pelo GridSearch\n",
        "rndf_clf_1 = RandomForestClassifier(n_estimators=500, max_leaf_nodes=16, max_features=6)\n",
        "rndf_clf_1.fit(default_X_prep, default_Y)"
      ]
    },
    {
      "cell_type": "code",
      "execution_count": null,
      "metadata": {
        "colab": {
          "background_save": true
        },
        "id": "E_6XYwpjV9rv",
        "outputId": "ae39bc2e-f07c-417d-ada9-a8e871086cf0"
      },
      "outputs": [
        {
          "ename": "",
          "evalue": "",
          "output_type": "error",
          "traceback": [
            "\u001b[1;31mFailed to start the Kernel. \n",
            "\u001b[1;31mJupyter server crashed. Unable to connect. \n",
            "\u001b[1;31mError code from Jupyter: 1\n",
            "\u001b[1;31mTraceback (most recent call last):\n",
            "\u001b[1;31m  File \"/home/andsilva/.local/bin/jupyter-notebook\", line 5, in <module>\n",
            "\u001b[1;31m    from notebook.notebookapp import main\n",
            "\u001b[1;31m  File \"/home/andsilva/.local/lib/python3.10/site-packages/notebook/notebookapp.py\", line 57, in <module>\n",
            "\u001b[1;31m    raise ImportError(_(\"The Jupyter Notebook requires tornado >= 5.0, but you have %s\") % tornado.version)\n",
            "\u001b[1;31mImportError: The Jupyter Notebook requires tornado >= 5.0, but you have 4.5.3. \n",
            "\u001b[1;31mView Jupyter <a href='command:jupyter.viewOutput'>log</a> for further details."
          ]
        }
      ],
      "source": [
        "#Agora Aplicaremos Valores Encontrados no GridSearch\n",
        "rndf_clf_2 = RandomForestClassifier(n_estimators=30 ,max_leaf_nodes=32 , max_features = 16)\n",
        "rndf_clf_2.fit(default_X_prep, default_Y)"
      ]
    },
    {
      "cell_type": "code",
      "execution_count": null,
      "metadata": {
        "colab": {
          "background_save": true
        },
        "id": "ulCBPk251tm8",
        "outputId": "7691ea76-bb45-47e7-b2ad-933a875ad65a"
      },
      "outputs": [
        {
          "ename": "",
          "evalue": "",
          "output_type": "error",
          "traceback": [
            "\u001b[1;31mFailed to start the Kernel. \n",
            "\u001b[1;31mJupyter server crashed. Unable to connect. \n",
            "\u001b[1;31mError code from Jupyter: 1\n",
            "\u001b[1;31mTraceback (most recent call last):\n",
            "\u001b[1;31m  File \"/home/andsilva/.local/bin/jupyter-notebook\", line 5, in <module>\n",
            "\u001b[1;31m    from notebook.notebookapp import main\n",
            "\u001b[1;31m  File \"/home/andsilva/.local/lib/python3.10/site-packages/notebook/notebookapp.py\", line 57, in <module>\n",
            "\u001b[1;31m    raise ImportError(_(\"The Jupyter Notebook requires tornado >= 5.0, but you have %s\") % tornado.version)\n",
            "\u001b[1;31mImportError: The Jupyter Notebook requires tornado >= 5.0, but you have 4.5.3. \n",
            "\u001b[1;31mView Jupyter <a href='command:jupyter.viewOutput'>log</a> for further details."
          ]
        }
      ],
      "source": [
        "#Predição sem validação cruzada\n",
        "pred_train_rndf_Y = rndf_clf_2.predict(default_X_prep)\n",
        "pred_train_rndf_Y"
      ]
    },
    {
      "cell_type": "code",
      "execution_count": null,
      "metadata": {
        "colab": {
          "background_save": true
        },
        "id": "hU1mhqB6YVP3",
        "outputId": "7c8a037c-9119-4026-b998-a0cd850d0ff8"
      },
      "outputs": [
        {
          "ename": "",
          "evalue": "",
          "output_type": "error",
          "traceback": [
            "\u001b[1;31mFailed to start the Kernel. \n",
            "\u001b[1;31mJupyter server crashed. Unable to connect. \n",
            "\u001b[1;31mError code from Jupyter: 1\n",
            "\u001b[1;31mTraceback (most recent call last):\n",
            "\u001b[1;31m  File \"/home/andsilva/.local/bin/jupyter-notebook\", line 5, in <module>\n",
            "\u001b[1;31m    from notebook.notebookapp import main\n",
            "\u001b[1;31m  File \"/home/andsilva/.local/lib/python3.10/site-packages/notebook/notebookapp.py\", line 57, in <module>\n",
            "\u001b[1;31m    raise ImportError(_(\"The Jupyter Notebook requires tornado >= 5.0, but you have %s\") % tornado.version)\n",
            "\u001b[1;31mImportError: The Jupyter Notebook requires tornado >= 5.0, but you have 4.5.3. \n",
            "\u001b[1;31mView Jupyter <a href='command:jupyter.viewOutput'>log</a> for further details."
          ]
        }
      ],
      "source": [
        "#Predição com validação cruzada com parâmetros estimados pelo Grid Search\n",
        "cross_pred_train_rndf_clf_2 = cross_val_predict(rndf_clf_2, default_X_prep, default_Y, cv=5)\n",
        "cross_pred_train_rndf_clf_2"
      ]
    },
    {
      "cell_type": "code",
      "execution_count": null,
      "metadata": {
        "colab": {
          "background_save": true
        },
        "id": "nzkOEEzWXJ9-",
        "outputId": "7be76b13-9a0b-41be-c55d-4d893505e6d7"
      },
      "outputs": [
        {
          "ename": "",
          "evalue": "",
          "output_type": "error",
          "traceback": [
            "\u001b[1;31mFailed to start the Kernel. \n",
            "\u001b[1;31mJupyter server crashed. Unable to connect. \n",
            "\u001b[1;31mError code from Jupyter: 1\n",
            "\u001b[1;31mTraceback (most recent call last):\n",
            "\u001b[1;31m  File \"/home/andsilva/.local/bin/jupyter-notebook\", line 5, in <module>\n",
            "\u001b[1;31m    from notebook.notebookapp import main\n",
            "\u001b[1;31m  File \"/home/andsilva/.local/lib/python3.10/site-packages/notebook/notebookapp.py\", line 57, in <module>\n",
            "\u001b[1;31m    raise ImportError(_(\"The Jupyter Notebook requires tornado >= 5.0, but you have %s\") % tornado.version)\n",
            "\u001b[1;31mImportError: The Jupyter Notebook requires tornado >= 5.0, but you have 4.5.3. \n",
            "\u001b[1;31mView Jupyter <a href='command:jupyter.viewOutput'>log</a> for further details."
          ]
        }
      ],
      "source": [
        "#Score com predição com validação cruzada para parâmetros do Grid Search\n",
        "#Encontramos valores iguais para Accuracy, Recall e bem próximos para Precision e F1, com max_leaf_nodes e  n_estimators bem menores que nos estimadores aleatórios.\n",
        "score_completo(default_Y, cross_pred_train_rndf_clf_2)"
      ]
    },
    {
      "cell_type": "markdown",
      "metadata": {
        "id": "2_Hls99u0L76"
      },
      "source": [
        "<b><font color=green> Deixei duas comparações acima para mostrar que Grid Search propoe valores com resultados bem próximos e número menor de valores, o que gera ganho de tempo ao rodar "
      ]
    },
    {
      "cell_type": "markdown",
      "metadata": {
        "id": "LABIYRUz2LMi"
      },
      "source": [
        "**Base de Teste**"
      ]
    },
    {
      "cell_type": "code",
      "execution_count": null,
      "metadata": {
        "colab": {
          "background_save": true
        },
        "id": "_4ScGNle2yaa",
        "outputId": "b06e979a-c30d-4bfc-a7e5-f5919edd65b7"
      },
      "outputs": [
        {
          "ename": "",
          "evalue": "",
          "output_type": "error",
          "traceback": [
            "\u001b[1;31mFailed to start the Kernel. \n",
            "\u001b[1;31mJupyter server crashed. Unable to connect. \n",
            "\u001b[1;31mError code from Jupyter: 1\n",
            "\u001b[1;31mTraceback (most recent call last):\n",
            "\u001b[1;31m  File \"/home/andsilva/.local/bin/jupyter-notebook\", line 5, in <module>\n",
            "\u001b[1;31m    from notebook.notebookapp import main\n",
            "\u001b[1;31m  File \"/home/andsilva/.local/lib/python3.10/site-packages/notebook/notebookapp.py\", line 57, in <module>\n",
            "\u001b[1;31m    raise ImportError(_(\"The Jupyter Notebook requires tornado >= 5.0, but you have %s\") % tornado.version)\n",
            "\u001b[1;31mImportError: The Jupyter Notebook requires tornado >= 5.0, but you have 4.5.3. \n",
            "\u001b[1;31mView Jupyter <a href='command:jupyter.viewOutput'>log</a> for further details."
          ]
        }
      ],
      "source": [
        "pred_test_rndf_Y = rndf_clf_2.predict(default_X_test_prep)\n",
        "pred_test_rndf_Y"
      ]
    },
    {
      "cell_type": "code",
      "execution_count": null,
      "metadata": {
        "colab": {
          "background_save": true
        },
        "id": "CnLU_73-29n5",
        "outputId": "adbaaeb4-298e-4716-e93b-620e4e19aada"
      },
      "outputs": [
        {
          "ename": "",
          "evalue": "",
          "output_type": "error",
          "traceback": [
            "\u001b[1;31mFailed to start the Kernel. \n",
            "\u001b[1;31mJupyter server crashed. Unable to connect. \n",
            "\u001b[1;31mError code from Jupyter: 1\n",
            "\u001b[1;31mTraceback (most recent call last):\n",
            "\u001b[1;31m  File \"/home/andsilva/.local/bin/jupyter-notebook\", line 5, in <module>\n",
            "\u001b[1;31m    from notebook.notebookapp import main\n",
            "\u001b[1;31m  File \"/home/andsilva/.local/lib/python3.10/site-packages/notebook/notebookapp.py\", line 57, in <module>\n",
            "\u001b[1;31m    raise ImportError(_(\"The Jupyter Notebook requires tornado >= 5.0, but you have %s\") % tornado.version)\n",
            "\u001b[1;31mImportError: The Jupyter Notebook requires tornado >= 5.0, but you have 4.5.3. \n",
            "\u001b[1;31mView Jupyter <a href='command:jupyter.viewOutput'>log</a> for further details."
          ]
        }
      ],
      "source": [
        "score_completo(default_Y_test, pred_test_rndf_Y)"
      ]
    },
    {
      "cell_type": "code",
      "execution_count": null,
      "metadata": {
        "colab": {
          "background_save": true
        },
        "id": "oAeuAyZrDupH",
        "outputId": "4e4d107a-c3e0-420a-a6fe-d76618fa27d1"
      },
      "outputs": [
        {
          "ename": "",
          "evalue": "",
          "output_type": "error",
          "traceback": [
            "\u001b[1;31mFailed to start the Kernel. \n",
            "\u001b[1;31mJupyter server crashed. Unable to connect. \n",
            "\u001b[1;31mError code from Jupyter: 1\n",
            "\u001b[1;31mTraceback (most recent call last):\n",
            "\u001b[1;31m  File \"/home/andsilva/.local/bin/jupyter-notebook\", line 5, in <module>\n",
            "\u001b[1;31m    from notebook.notebookapp import main\n",
            "\u001b[1;31m  File \"/home/andsilva/.local/lib/python3.10/site-packages/notebook/notebookapp.py\", line 57, in <module>\n",
            "\u001b[1;31m    raise ImportError(_(\"The Jupyter Notebook requires tornado >= 5.0, but you have %s\") % tornado.version)\n",
            "\u001b[1;31mImportError: The Jupyter Notebook requires tornado >= 5.0, but you have 4.5.3. \n",
            "\u001b[1;31mView Jupyter <a href='command:jupyter.viewOutput'>log</a> for further details."
          ]
        }
      ],
      "source": [
        "cross_pred_test_rndf_clf_2 = cross_val_predict(rndf_clf_2, default_X_test_prep, default_Y_test, cv=5)\n",
        "cross_pred_test_rndf_clf_2"
      ]
    },
    {
      "cell_type": "code",
      "execution_count": null,
      "metadata": {
        "colab": {
          "background_save": true
        },
        "id": "wLL8rtv3DvAP",
        "outputId": "1e2c2a87-1501-4109-d68c-e5d1abc9f846"
      },
      "outputs": [
        {
          "ename": "",
          "evalue": "",
          "output_type": "error",
          "traceback": [
            "\u001b[1;31mFailed to start the Kernel. \n",
            "\u001b[1;31mJupyter server crashed. Unable to connect. \n",
            "\u001b[1;31mError code from Jupyter: 1\n",
            "\u001b[1;31mTraceback (most recent call last):\n",
            "\u001b[1;31m  File \"/home/andsilva/.local/bin/jupyter-notebook\", line 5, in <module>\n",
            "\u001b[1;31m    from notebook.notebookapp import main\n",
            "\u001b[1;31m  File \"/home/andsilva/.local/lib/python3.10/site-packages/notebook/notebookapp.py\", line 57, in <module>\n",
            "\u001b[1;31m    raise ImportError(_(\"The Jupyter Notebook requires tornado >= 5.0, but you have %s\") % tornado.version)\n",
            "\u001b[1;31mImportError: The Jupyter Notebook requires tornado >= 5.0, but you have 4.5.3. \n",
            "\u001b[1;31mView Jupyter <a href='command:jupyter.viewOutput'>log</a> for further details."
          ]
        }
      ],
      "source": [
        "score_completo(default_Y_test, cross_pred_test_rndf_clf_2)"
      ]
    },
    {
      "cell_type": "markdown",
      "metadata": {
        "id": "JOLcd8gzhQov"
      },
      "source": [
        "##Gradient Boosting"
      ]
    },
    {
      "cell_type": "code",
      "execution_count": null,
      "metadata": {
        "colab": {
          "background_save": true
        },
        "id": "Pqnqwdz5hWVm"
      },
      "outputs": [
        {
          "ename": "",
          "evalue": "",
          "output_type": "error",
          "traceback": [
            "\u001b[1;31mFailed to start the Kernel. \n",
            "\u001b[1;31mJupyter server crashed. Unable to connect. \n",
            "\u001b[1;31mError code from Jupyter: 1\n",
            "\u001b[1;31mTraceback (most recent call last):\n",
            "\u001b[1;31m  File \"/home/andsilva/.local/bin/jupyter-notebook\", line 5, in <module>\n",
            "\u001b[1;31m    from notebook.notebookapp import main\n",
            "\u001b[1;31m  File \"/home/andsilva/.local/lib/python3.10/site-packages/notebook/notebookapp.py\", line 57, in <module>\n",
            "\u001b[1;31m    raise ImportError(_(\"The Jupyter Notebook requires tornado >= 5.0, but you have %s\") % tornado.version)\n",
            "\u001b[1;31mImportError: The Jupyter Notebook requires tornado >= 5.0, but you have 4.5.3. \n",
            "\u001b[1;31mView Jupyter <a href='command:jupyter.viewOutput'>log</a> for further details."
          ]
        }
      ],
      "source": [
        "from sklearn.ensemble import GradientBoostingClassifier"
      ]
    },
    {
      "cell_type": "markdown",
      "metadata": {
        "id": "E2RpHItKKIPf"
      },
      "source": [
        "###Modelo antes do GridSearch"
      ]
    },
    {
      "cell_type": "markdown",
      "metadata": {
        "id": "cD_xyOAdoIO-"
      },
      "source": [
        "**Base de Treino**"
      ]
    },
    {
      "cell_type": "code",
      "execution_count": null,
      "metadata": {
        "colab": {
          "background_save": true
        },
        "id": "mzEnxz8Dh1ff",
        "outputId": "2af24423-1e5a-494b-cba5-fb0ff582dec1"
      },
      "outputs": [
        {
          "ename": "",
          "evalue": "",
          "output_type": "error",
          "traceback": [
            "\u001b[1;31mFailed to start the Kernel. \n",
            "\u001b[1;31mJupyter server crashed. Unable to connect. \n",
            "\u001b[1;31mError code from Jupyter: 1\n",
            "\u001b[1;31mTraceback (most recent call last):\n",
            "\u001b[1;31m  File \"/home/andsilva/.local/bin/jupyter-notebook\", line 5, in <module>\n",
            "\u001b[1;31m    from notebook.notebookapp import main\n",
            "\u001b[1;31m  File \"/home/andsilva/.local/lib/python3.10/site-packages/notebook/notebookapp.py\", line 57, in <module>\n",
            "\u001b[1;31m    raise ImportError(_(\"The Jupyter Notebook requires tornado >= 5.0, but you have %s\") % tornado.version)\n",
            "\u001b[1;31mImportError: The Jupyter Notebook requires tornado >= 5.0, but you have 4.5.3. \n",
            "\u001b[1;31mView Jupyter <a href='command:jupyter.viewOutput'>log</a> for further details."
          ]
        }
      ],
      "source": [
        "#parâmetros padrão - learning_rate: default=0.1; n_estimators: default=100; max_depth: default=3; \n",
        "#max_features{‘auto’, ‘sqrt’, ‘log2’}: default=None; max_leaf_nodes: default=None; tol: default=1e-4\n",
        "#parâmetros da primeira tentativa para referência n_estimators=500, max_leaf_nodes=16\n",
        "gb_clf = GradientBoostingClassifier()\n",
        "gb_clf.fit(default_X_prep, default_Y)"
      ]
    },
    {
      "cell_type": "code",
      "execution_count": null,
      "metadata": {
        "colab": {
          "background_save": true
        },
        "id": "m_WioIOCl6_Y"
      },
      "outputs": [
        {
          "ename": "",
          "evalue": "",
          "output_type": "error",
          "traceback": [
            "\u001b[1;31mFailed to start the Kernel. \n",
            "\u001b[1;31mJupyter server crashed. Unable to connect. \n",
            "\u001b[1;31mError code from Jupyter: 1\n",
            "\u001b[1;31mTraceback (most recent call last):\n",
            "\u001b[1;31m  File \"/home/andsilva/.local/bin/jupyter-notebook\", line 5, in <module>\n",
            "\u001b[1;31m    from notebook.notebookapp import main\n",
            "\u001b[1;31m  File \"/home/andsilva/.local/lib/python3.10/site-packages/notebook/notebookapp.py\", line 57, in <module>\n",
            "\u001b[1;31m    raise ImportError(_(\"The Jupyter Notebook requires tornado >= 5.0, but you have %s\") % tornado.version)\n",
            "\u001b[1;31mImportError: The Jupyter Notebook requires tornado >= 5.0, but you have 4.5.3. \n",
            "\u001b[1;31mView Jupyter <a href='command:jupyter.viewOutput'>log</a> for further details."
          ]
        }
      ],
      "source": [
        "#Predição sem validação cruzada\n",
        "pred_train_gb_clf = gb_clf.predict(default_X_prep)"
      ]
    },
    {
      "cell_type": "code",
      "execution_count": null,
      "metadata": {
        "colab": {
          "background_save": true
        },
        "id": "gxcdNj0TAVII",
        "outputId": "ca674492-499c-44fd-dc72-c49752621747"
      },
      "outputs": [
        {
          "ename": "",
          "evalue": "",
          "output_type": "error",
          "traceback": [
            "\u001b[1;31mFailed to start the Kernel. \n",
            "\u001b[1;31mJupyter server crashed. Unable to connect. \n",
            "\u001b[1;31mError code from Jupyter: 1\n",
            "\u001b[1;31mTraceback (most recent call last):\n",
            "\u001b[1;31m  File \"/home/andsilva/.local/bin/jupyter-notebook\", line 5, in <module>\n",
            "\u001b[1;31m    from notebook.notebookapp import main\n",
            "\u001b[1;31m  File \"/home/andsilva/.local/lib/python3.10/site-packages/notebook/notebookapp.py\", line 57, in <module>\n",
            "\u001b[1;31m    raise ImportError(_(\"The Jupyter Notebook requires tornado >= 5.0, but you have %s\") % tornado.version)\n",
            "\u001b[1;31mImportError: The Jupyter Notebook requires tornado >= 5.0, but you have 4.5.3. \n",
            "\u001b[1;31mView Jupyter <a href='command:jupyter.viewOutput'>log</a> for further details."
          ]
        }
      ],
      "source": [
        "#Score com predição sem validação cruzada\n",
        "score_completo(default_Y, pred_train_gb_clf)"
      ]
    },
    {
      "cell_type": "code",
      "execution_count": null,
      "metadata": {
        "colab": {
          "background_save": true
        },
        "id": "yIWk_Vr9VKBB"
      },
      "outputs": [
        {
          "ename": "",
          "evalue": "",
          "output_type": "error",
          "traceback": [
            "\u001b[1;31mFailed to start the Kernel. \n",
            "\u001b[1;31mJupyter server crashed. Unable to connect. \n",
            "\u001b[1;31mError code from Jupyter: 1\n",
            "\u001b[1;31mTraceback (most recent call last):\n",
            "\u001b[1;31m  File \"/home/andsilva/.local/bin/jupyter-notebook\", line 5, in <module>\n",
            "\u001b[1;31m    from notebook.notebookapp import main\n",
            "\u001b[1;31m  File \"/home/andsilva/.local/lib/python3.10/site-packages/notebook/notebookapp.py\", line 57, in <module>\n",
            "\u001b[1;31m    raise ImportError(_(\"The Jupyter Notebook requires tornado >= 5.0, but you have %s\") % tornado.version)\n",
            "\u001b[1;31mImportError: The Jupyter Notebook requires tornado >= 5.0, but you have 4.5.3. \n",
            "\u001b[1;31mView Jupyter <a href='command:jupyter.viewOutput'>log</a> for further details."
          ]
        }
      ],
      "source": [
        "#Predição com validação cruzada\n",
        "xpred_train_gb_clf = cross_val_predict(gb_clf, default_X_prep, default_Y, cv=5)"
      ]
    },
    {
      "cell_type": "code",
      "execution_count": null,
      "metadata": {
        "colab": {
          "background_save": true
        },
        "id": "lHMn_wenAhHN",
        "outputId": "945b36c1-136e-48d6-c0b4-c76c62ae52e8"
      },
      "outputs": [
        {
          "ename": "",
          "evalue": "",
          "output_type": "error",
          "traceback": [
            "\u001b[1;31mFailed to start the Kernel. \n",
            "\u001b[1;31mJupyter server crashed. Unable to connect. \n",
            "\u001b[1;31mError code from Jupyter: 1\n",
            "\u001b[1;31mTraceback (most recent call last):\n",
            "\u001b[1;31m  File \"/home/andsilva/.local/bin/jupyter-notebook\", line 5, in <module>\n",
            "\u001b[1;31m    from notebook.notebookapp import main\n",
            "\u001b[1;31m  File \"/home/andsilva/.local/lib/python3.10/site-packages/notebook/notebookapp.py\", line 57, in <module>\n",
            "\u001b[1;31m    raise ImportError(_(\"The Jupyter Notebook requires tornado >= 5.0, but you have %s\") % tornado.version)\n",
            "\u001b[1;31mImportError: The Jupyter Notebook requires tornado >= 5.0, but you have 4.5.3. \n",
            "\u001b[1;31mView Jupyter <a href='command:jupyter.viewOutput'>log</a> for further details."
          ]
        }
      ],
      "source": [
        "#Score com predição com validação cruzada\n",
        "score_completo(default_Y, xpred_train_gb_clf)"
      ]
    },
    {
      "cell_type": "markdown",
      "metadata": {
        "id": "LLsg3wCNoJSS"
      },
      "source": [
        "**Base de Teste**"
      ]
    },
    {
      "cell_type": "code",
      "execution_count": null,
      "metadata": {
        "colab": {
          "background_save": true
        },
        "id": "1H6ktftHAmOd"
      },
      "outputs": [
        {
          "ename": "",
          "evalue": "",
          "output_type": "error",
          "traceback": [
            "\u001b[1;31mFailed to start the Kernel. \n",
            "\u001b[1;31mJupyter server crashed. Unable to connect. \n",
            "\u001b[1;31mError code from Jupyter: 1\n",
            "\u001b[1;31mTraceback (most recent call last):\n",
            "\u001b[1;31m  File \"/home/andsilva/.local/bin/jupyter-notebook\", line 5, in <module>\n",
            "\u001b[1;31m    from notebook.notebookapp import main\n",
            "\u001b[1;31m  File \"/home/andsilva/.local/lib/python3.10/site-packages/notebook/notebookapp.py\", line 57, in <module>\n",
            "\u001b[1;31m    raise ImportError(_(\"The Jupyter Notebook requires tornado >= 5.0, but you have %s\") % tornado.version)\n",
            "\u001b[1;31mImportError: The Jupyter Notebook requires tornado >= 5.0, but you have 4.5.3. \n",
            "\u001b[1;31mView Jupyter <a href='command:jupyter.viewOutput'>log</a> for further details."
          ]
        }
      ],
      "source": [
        "#Predição sem validação cruzada\n",
        "pred_test_gb_clf = gb_clf.predict(default_X_test_prep)"
      ]
    },
    {
      "cell_type": "code",
      "execution_count": null,
      "metadata": {
        "colab": {
          "background_save": true
        },
        "id": "AXGnMakxoM_P",
        "outputId": "c75ab068-ff18-4b63-e927-7631f8a2cc11"
      },
      "outputs": [
        {
          "ename": "",
          "evalue": "",
          "output_type": "error",
          "traceback": [
            "\u001b[1;31mFailed to start the Kernel. \n",
            "\u001b[1;31mJupyter server crashed. Unable to connect. \n",
            "\u001b[1;31mError code from Jupyter: 1\n",
            "\u001b[1;31mTraceback (most recent call last):\n",
            "\u001b[1;31m  File \"/home/andsilva/.local/bin/jupyter-notebook\", line 5, in <module>\n",
            "\u001b[1;31m    from notebook.notebookapp import main\n",
            "\u001b[1;31m  File \"/home/andsilva/.local/lib/python3.10/site-packages/notebook/notebookapp.py\", line 57, in <module>\n",
            "\u001b[1;31m    raise ImportError(_(\"The Jupyter Notebook requires tornado >= 5.0, but you have %s\") % tornado.version)\n",
            "\u001b[1;31mImportError: The Jupyter Notebook requires tornado >= 5.0, but you have 4.5.3. \n",
            "\u001b[1;31mView Jupyter <a href='command:jupyter.viewOutput'>log</a> for further details."
          ]
        }
      ],
      "source": [
        "#Score com predição sem validação cruzada\n",
        "score_completo(default_Y_test, pred_test_gb_clf)"
      ]
    },
    {
      "cell_type": "code",
      "execution_count": null,
      "metadata": {
        "colab": {
          "background_save": true
        },
        "id": "K8eQ976eAmkP"
      },
      "outputs": [
        {
          "ename": "",
          "evalue": "",
          "output_type": "error",
          "traceback": [
            "\u001b[1;31mFailed to start the Kernel. \n",
            "\u001b[1;31mJupyter server crashed. Unable to connect. \n",
            "\u001b[1;31mError code from Jupyter: 1\n",
            "\u001b[1;31mTraceback (most recent call last):\n",
            "\u001b[1;31m  File \"/home/andsilva/.local/bin/jupyter-notebook\", line 5, in <module>\n",
            "\u001b[1;31m    from notebook.notebookapp import main\n",
            "\u001b[1;31m  File \"/home/andsilva/.local/lib/python3.10/site-packages/notebook/notebookapp.py\", line 57, in <module>\n",
            "\u001b[1;31m    raise ImportError(_(\"The Jupyter Notebook requires tornado >= 5.0, but you have %s\") % tornado.version)\n",
            "\u001b[1;31mImportError: The Jupyter Notebook requires tornado >= 5.0, but you have 4.5.3. \n",
            "\u001b[1;31mView Jupyter <a href='command:jupyter.viewOutput'>log</a> for further details."
          ]
        }
      ],
      "source": [
        "#Predição com validação cruzada\n",
        "xpred_test_gb_clf = cross_val_predict(gb_clf, default_X_prep, default_Y, cv=5)"
      ]
    },
    {
      "cell_type": "code",
      "execution_count": null,
      "metadata": {
        "colab": {
          "background_save": true
        },
        "id": "P3Tw-xT_YNyY",
        "outputId": "fbe2a35d-378c-4329-aa1b-87558ab683fa"
      },
      "outputs": [
        {
          "ename": "",
          "evalue": "",
          "output_type": "error",
          "traceback": [
            "\u001b[1;31mFailed to start the Kernel. \n",
            "\u001b[1;31mJupyter server crashed. Unable to connect. \n",
            "\u001b[1;31mError code from Jupyter: 1\n",
            "\u001b[1;31mTraceback (most recent call last):\n",
            "\u001b[1;31m  File \"/home/andsilva/.local/bin/jupyter-notebook\", line 5, in <module>\n",
            "\u001b[1;31m    from notebook.notebookapp import main\n",
            "\u001b[1;31m  File \"/home/andsilva/.local/lib/python3.10/site-packages/notebook/notebookapp.py\", line 57, in <module>\n",
            "\u001b[1;31m    raise ImportError(_(\"The Jupyter Notebook requires tornado >= 5.0, but you have %s\") % tornado.version)\n",
            "\u001b[1;31mImportError: The Jupyter Notebook requires tornado >= 5.0, but you have 4.5.3. \n",
            "\u001b[1;31mView Jupyter <a href='command:jupyter.viewOutput'>log</a> for further details."
          ]
        }
      ],
      "source": [
        "#Score com predição com validação cruzada\n",
        "score_completo(default_Y, xpred_test_gb_clf)"
      ]
    },
    {
      "cell_type": "markdown",
      "metadata": {
        "id": "khenGa8fKO5m"
      },
      "source": [
        "###Modelo após GridSearch"
      ]
    },
    {
      "cell_type": "code",
      "execution_count": null,
      "metadata": {
        "colab": {
          "background_save": true
        },
        "id": "L0ZMCrt4LKQB",
        "outputId": "5e9b9541-cd87-4ddf-acd4-46a8740c8c16"
      },
      "outputs": [
        {
          "ename": "",
          "evalue": "",
          "output_type": "error",
          "traceback": [
            "\u001b[1;31mFailed to start the Kernel. \n",
            "\u001b[1;31mJupyter server crashed. Unable to connect. \n",
            "\u001b[1;31mError code from Jupyter: 1\n",
            "\u001b[1;31mTraceback (most recent call last):\n",
            "\u001b[1;31m  File \"/home/andsilva/.local/bin/jupyter-notebook\", line 5, in <module>\n",
            "\u001b[1;31m    from notebook.notebookapp import main\n",
            "\u001b[1;31m  File \"/home/andsilva/.local/lib/python3.10/site-packages/notebook/notebookapp.py\", line 57, in <module>\n",
            "\u001b[1;31m    raise ImportError(_(\"The Jupyter Notebook requires tornado >= 5.0, but you have %s\") % tornado.version)\n",
            "\u001b[1;31mImportError: The Jupyter Notebook requires tornado >= 5.0, but you have 4.5.3. \n",
            "\u001b[1;31mView Jupyter <a href='command:jupyter.viewOutput'>log</a> for further details."
          ]
        }
      ],
      "source": [
        "from sklearn.model_selection import GridSearchCV\n",
        "\n",
        "param_grid = [\n",
        "              {'learning_rate': [0.1, 0.05], 'n_estimators': [50, 100], \n",
        "               'max_depth': [19, 29]}\n",
        "              ]\n",
        "gb_clf_gscv = GradientBoostingClassifier()\n",
        "\n",
        "grid_search_gb = GridSearchCV(gb_clf_gscv, param_grid, cv=5, return_train_score=True)\n",
        "\n",
        "grid_search_gb.fit(default_X_prep, default_Y)"
      ]
    },
    {
      "cell_type": "code",
      "execution_count": null,
      "metadata": {
        "colab": {
          "background_save": true
        },
        "id": "D_w1UHj1L8wS",
        "outputId": "21ef5959-ea10-4aec-8940-bc1b07430661"
      },
      "outputs": [
        {
          "ename": "",
          "evalue": "",
          "output_type": "error",
          "traceback": [
            "\u001b[1;31mFailed to start the Kernel. \n",
            "\u001b[1;31mJupyter server crashed. Unable to connect. \n",
            "\u001b[1;31mError code from Jupyter: 1\n",
            "\u001b[1;31mTraceback (most recent call last):\n",
            "\u001b[1;31m  File \"/home/andsilva/.local/bin/jupyter-notebook\", line 5, in <module>\n",
            "\u001b[1;31m    from notebook.notebookapp import main\n",
            "\u001b[1;31m  File \"/home/andsilva/.local/lib/python3.10/site-packages/notebook/notebookapp.py\", line 57, in <module>\n",
            "\u001b[1;31m    raise ImportError(_(\"The Jupyter Notebook requires tornado >= 5.0, but you have %s\") % tornado.version)\n",
            "\u001b[1;31mImportError: The Jupyter Notebook requires tornado >= 5.0, but you have 4.5.3. \n",
            "\u001b[1;31mView Jupyter <a href='command:jupyter.viewOutput'>log</a> for further details."
          ]
        }
      ],
      "source": [
        "grid_search_gb.best_estimator_"
      ]
    },
    {
      "cell_type": "markdown",
      "metadata": {
        "id": "72bFft9DcW99"
      },
      "source": [
        "**Base de Treino**"
      ]
    },
    {
      "cell_type": "code",
      "execution_count": null,
      "metadata": {
        "colab": {
          "background_save": true
        },
        "id": "gXLk4D31FCet",
        "outputId": "3045e830-6b1f-4ea7-de55-e18e4612f90c"
      },
      "outputs": [
        {
          "ename": "",
          "evalue": "",
          "output_type": "error",
          "traceback": [
            "\u001b[1;31mFailed to start the Kernel. \n",
            "\u001b[1;31mJupyter server crashed. Unable to connect. \n",
            "\u001b[1;31mError code from Jupyter: 1\n",
            "\u001b[1;31mTraceback (most recent call last):\n",
            "\u001b[1;31m  File \"/home/andsilva/.local/bin/jupyter-notebook\", line 5, in <module>\n",
            "\u001b[1;31m    from notebook.notebookapp import main\n",
            "\u001b[1;31m  File \"/home/andsilva/.local/lib/python3.10/site-packages/notebook/notebookapp.py\", line 57, in <module>\n",
            "\u001b[1;31m    raise ImportError(_(\"The Jupyter Notebook requires tornado >= 5.0, but you have %s\") % tornado.version)\n",
            "\u001b[1;31mImportError: The Jupyter Notebook requires tornado >= 5.0, but you have 4.5.3. \n",
            "\u001b[1;31mView Jupyter <a href='command:jupyter.viewOutput'>log</a> for further details."
          ]
        }
      ],
      "source": [
        "gb_clf_2 = GradientBoostingClassifier(learning_rate=0.05, max_depth=19)\n",
        "gb_clf_2.fit(default_X_prep, default_Y)"
      ]
    },
    {
      "cell_type": "code",
      "execution_count": null,
      "metadata": {
        "colab": {
          "background_save": true
        },
        "id": "oMPXk6fGyLgz"
      },
      "outputs": [
        {
          "ename": "",
          "evalue": "",
          "output_type": "error",
          "traceback": [
            "\u001b[1;31mFailed to start the Kernel. \n",
            "\u001b[1;31mJupyter server crashed. Unable to connect. \n",
            "\u001b[1;31mError code from Jupyter: 1\n",
            "\u001b[1;31mTraceback (most recent call last):\n",
            "\u001b[1;31m  File \"/home/andsilva/.local/bin/jupyter-notebook\", line 5, in <module>\n",
            "\u001b[1;31m    from notebook.notebookapp import main\n",
            "\u001b[1;31m  File \"/home/andsilva/.local/lib/python3.10/site-packages/notebook/notebookapp.py\", line 57, in <module>\n",
            "\u001b[1;31m    raise ImportError(_(\"The Jupyter Notebook requires tornado >= 5.0, but you have %s\") % tornado.version)\n",
            "\u001b[1;31mImportError: The Jupyter Notebook requires tornado >= 5.0, but you have 4.5.3. \n",
            "\u001b[1;31mView Jupyter <a href='command:jupyter.viewOutput'>log</a> for further details."
          ]
        }
      ],
      "source": [
        "#Predição sem validação cruzada\n",
        "pred_train_gb_clf_2 = gb_clf_2.predict(default_X_prep)"
      ]
    },
    {
      "cell_type": "code",
      "execution_count": null,
      "metadata": {
        "colab": {
          "background_save": true
        },
        "id": "EOnJ8Dp4yL0D",
        "outputId": "38659a46-69e6-410e-f815-0b42e147190d"
      },
      "outputs": [
        {
          "ename": "",
          "evalue": "",
          "output_type": "error",
          "traceback": [
            "\u001b[1;31mFailed to start the Kernel. \n",
            "\u001b[1;31mJupyter server crashed. Unable to connect. \n",
            "\u001b[1;31mError code from Jupyter: 1\n",
            "\u001b[1;31mTraceback (most recent call last):\n",
            "\u001b[1;31m  File \"/home/andsilva/.local/bin/jupyter-notebook\", line 5, in <module>\n",
            "\u001b[1;31m    from notebook.notebookapp import main\n",
            "\u001b[1;31m  File \"/home/andsilva/.local/lib/python3.10/site-packages/notebook/notebookapp.py\", line 57, in <module>\n",
            "\u001b[1;31m    raise ImportError(_(\"The Jupyter Notebook requires tornado >= 5.0, but you have %s\") % tornado.version)\n",
            "\u001b[1;31mImportError: The Jupyter Notebook requires tornado >= 5.0, but you have 4.5.3. \n",
            "\u001b[1;31mView Jupyter <a href='command:jupyter.viewOutput'>log</a> for further details."
          ]
        }
      ],
      "source": [
        "#Score sem validação cruzada\n",
        "score_completo(default_Y, pred_train_gb_clf_2)"
      ]
    },
    {
      "cell_type": "code",
      "execution_count": null,
      "metadata": {
        "colab": {
          "background_save": true
        },
        "id": "euAXGhMMEzav"
      },
      "outputs": [
        {
          "ename": "",
          "evalue": "",
          "output_type": "error",
          "traceback": [
            "\u001b[1;31mFailed to start the Kernel. \n",
            "\u001b[1;31mJupyter server crashed. Unable to connect. \n",
            "\u001b[1;31mError code from Jupyter: 1\n",
            "\u001b[1;31mTraceback (most recent call last):\n",
            "\u001b[1;31m  File \"/home/andsilva/.local/bin/jupyter-notebook\", line 5, in <module>\n",
            "\u001b[1;31m    from notebook.notebookapp import main\n",
            "\u001b[1;31m  File \"/home/andsilva/.local/lib/python3.10/site-packages/notebook/notebookapp.py\", line 57, in <module>\n",
            "\u001b[1;31m    raise ImportError(_(\"The Jupyter Notebook requires tornado >= 5.0, but you have %s\") % tornado.version)\n",
            "\u001b[1;31mImportError: The Jupyter Notebook requires tornado >= 5.0, but you have 4.5.3. \n",
            "\u001b[1;31mView Jupyter <a href='command:jupyter.viewOutput'>log</a> for further details."
          ]
        }
      ],
      "source": [
        "#Predição com validação cruzada\n",
        "xpred_train_gb_clf_2 = cross_val_predict(gb_clf_2, default_X_prep, default_Y, cv=5)"
      ]
    },
    {
      "cell_type": "code",
      "execution_count": null,
      "metadata": {
        "colab": {
          "background_save": true
        },
        "id": "0Fur_mwJFYs4",
        "outputId": "e4650dbc-473c-46cb-ac9c-e4ef891c55a8"
      },
      "outputs": [
        {
          "ename": "",
          "evalue": "",
          "output_type": "error",
          "traceback": [
            "\u001b[1;31mFailed to start the Kernel. \n",
            "\u001b[1;31mJupyter server crashed. Unable to connect. \n",
            "\u001b[1;31mError code from Jupyter: 1\n",
            "\u001b[1;31mTraceback (most recent call last):\n",
            "\u001b[1;31m  File \"/home/andsilva/.local/bin/jupyter-notebook\", line 5, in <module>\n",
            "\u001b[1;31m    from notebook.notebookapp import main\n",
            "\u001b[1;31m  File \"/home/andsilva/.local/lib/python3.10/site-packages/notebook/notebookapp.py\", line 57, in <module>\n",
            "\u001b[1;31m    raise ImportError(_(\"The Jupyter Notebook requires tornado >= 5.0, but you have %s\") % tornado.version)\n",
            "\u001b[1;31mImportError: The Jupyter Notebook requires tornado >= 5.0, but you have 4.5.3. \n",
            "\u001b[1;31mView Jupyter <a href='command:jupyter.viewOutput'>log</a> for further details."
          ]
        }
      ],
      "source": [
        "#Score com validação cruzada\n",
        "score_completo(default_Y, xpred_train_gb_clf_2)"
      ]
    },
    {
      "cell_type": "markdown",
      "metadata": {
        "id": "ywWeVx0zKyLJ"
      },
      "source": [
        "**Base de Teste**"
      ]
    },
    {
      "cell_type": "code",
      "execution_count": null,
      "metadata": {
        "colab": {
          "background_save": true
        },
        "id": "6Sg_euTKKWpf"
      },
      "outputs": [
        {
          "ename": "",
          "evalue": "",
          "output_type": "error",
          "traceback": [
            "\u001b[1;31mFailed to start the Kernel. \n",
            "\u001b[1;31mJupyter server crashed. Unable to connect. \n",
            "\u001b[1;31mError code from Jupyter: 1\n",
            "\u001b[1;31mTraceback (most recent call last):\n",
            "\u001b[1;31m  File \"/home/andsilva/.local/bin/jupyter-notebook\", line 5, in <module>\n",
            "\u001b[1;31m    from notebook.notebookapp import main\n",
            "\u001b[1;31m  File \"/home/andsilva/.local/lib/python3.10/site-packages/notebook/notebookapp.py\", line 57, in <module>\n",
            "\u001b[1;31m    raise ImportError(_(\"The Jupyter Notebook requires tornado >= 5.0, but you have %s\") % tornado.version)\n",
            "\u001b[1;31mImportError: The Jupyter Notebook requires tornado >= 5.0, but you have 4.5.3. \n",
            "\u001b[1;31mView Jupyter <a href='command:jupyter.viewOutput'>log</a> for further details."
          ]
        }
      ],
      "source": [
        "#Predição sem validação cruzada\n",
        "pred_test_gb_clf_2 = gb_clf_2.predict(default_X_test_prep)"
      ]
    },
    {
      "cell_type": "code",
      "execution_count": null,
      "metadata": {
        "colab": {
          "background_save": true
        },
        "id": "gNMdCWrQ0clR",
        "outputId": "ab950730-3b93-457e-eda4-9aae502b50df"
      },
      "outputs": [
        {
          "ename": "",
          "evalue": "",
          "output_type": "error",
          "traceback": [
            "\u001b[1;31mFailed to start the Kernel. \n",
            "\u001b[1;31mJupyter server crashed. Unable to connect. \n",
            "\u001b[1;31mError code from Jupyter: 1\n",
            "\u001b[1;31mTraceback (most recent call last):\n",
            "\u001b[1;31m  File \"/home/andsilva/.local/bin/jupyter-notebook\", line 5, in <module>\n",
            "\u001b[1;31m    from notebook.notebookapp import main\n",
            "\u001b[1;31m  File \"/home/andsilva/.local/lib/python3.10/site-packages/notebook/notebookapp.py\", line 57, in <module>\n",
            "\u001b[1;31m    raise ImportError(_(\"The Jupyter Notebook requires tornado >= 5.0, but you have %s\") % tornado.version)\n",
            "\u001b[1;31mImportError: The Jupyter Notebook requires tornado >= 5.0, but you have 4.5.3. \n",
            "\u001b[1;31mView Jupyter <a href='command:jupyter.viewOutput'>log</a> for further details."
          ]
        }
      ],
      "source": [
        "#Score com predição sem validação cruzada\n",
        "score_completo(default_Y_test, pred_test_gb_clf_2)"
      ]
    },
    {
      "cell_type": "code",
      "execution_count": null,
      "metadata": {
        "colab": {
          "background_save": true
        },
        "id": "iNVEo8qz0nav"
      },
      "outputs": [
        {
          "ename": "",
          "evalue": "",
          "output_type": "error",
          "traceback": [
            "\u001b[1;31mFailed to start the Kernel. \n",
            "\u001b[1;31mJupyter server crashed. Unable to connect. \n",
            "\u001b[1;31mError code from Jupyter: 1\n",
            "\u001b[1;31mTraceback (most recent call last):\n",
            "\u001b[1;31m  File \"/home/andsilva/.local/bin/jupyter-notebook\", line 5, in <module>\n",
            "\u001b[1;31m    from notebook.notebookapp import main\n",
            "\u001b[1;31m  File \"/home/andsilva/.local/lib/python3.10/site-packages/notebook/notebookapp.py\", line 57, in <module>\n",
            "\u001b[1;31m    raise ImportError(_(\"The Jupyter Notebook requires tornado >= 5.0, but you have %s\") % tornado.version)\n",
            "\u001b[1;31mImportError: The Jupyter Notebook requires tornado >= 5.0, but you have 4.5.3. \n",
            "\u001b[1;31mView Jupyter <a href='command:jupyter.viewOutput'>log</a> for further details."
          ]
        }
      ],
      "source": [
        "#Predição com validação cruzada\n",
        "xpred_test_gb_clf_2 = cross_val_predict(gb_clf_2, default_X_test_prep, default_Y_test, cv=5)"
      ]
    },
    {
      "cell_type": "code",
      "execution_count": null,
      "metadata": {
        "colab": {
          "background_save": true
        },
        "id": "l-gf2s9S0n0f",
        "outputId": "0e323388-2442-438a-d18b-50968235ad7b"
      },
      "outputs": [
        {
          "ename": "",
          "evalue": "",
          "output_type": "error",
          "traceback": [
            "\u001b[1;31mFailed to start the Kernel. \n",
            "\u001b[1;31mJupyter server crashed. Unable to connect. \n",
            "\u001b[1;31mError code from Jupyter: 1\n",
            "\u001b[1;31mTraceback (most recent call last):\n",
            "\u001b[1;31m  File \"/home/andsilva/.local/bin/jupyter-notebook\", line 5, in <module>\n",
            "\u001b[1;31m    from notebook.notebookapp import main\n",
            "\u001b[1;31m  File \"/home/andsilva/.local/lib/python3.10/site-packages/notebook/notebookapp.py\", line 57, in <module>\n",
            "\u001b[1;31m    raise ImportError(_(\"The Jupyter Notebook requires tornado >= 5.0, but you have %s\") % tornado.version)\n",
            "\u001b[1;31mImportError: The Jupyter Notebook requires tornado >= 5.0, but you have 4.5.3. \n",
            "\u001b[1;31mView Jupyter <a href='command:jupyter.viewOutput'>log</a> for further details."
          ]
        }
      ],
      "source": [
        "#Score com predição com validação cruzada\n",
        "score_completo(default_Y_test, xpred_test_gb_clf_2)"
      ]
    },
    {
      "cell_type": "markdown",
      "metadata": {
        "id": "KAjJx_ZZWAsS"
      },
      "source": [
        "#Comparando a performance dos modelos"
      ]
    },
    {
      "cell_type": "markdown",
      "metadata": {
        "id": "sRhnACWfFxeg"
      },
      "source": [
        "Para avaliação, usaremos Accuracy, Precision, Recall e F1.\n",
        "\n",
        "Entendemos, no entanto, que para a caso em estudo o Recall é a métrica mais relevante, pois é importante que identifiquemos o máximo possível de valores positivos na nossa variável alvo, já que os falsos negativos podem levar a impactos financeiros significativos.\n",
        "\n",
        "\n"
      ]
    },
    {
      "cell_type": "markdown",
      "metadata": {
        "id": "w5VcxUdpfdP4"
      },
      "source": [
        "**Definições**\n",
        "\n",
        "**TP:** Verdadeiros Positivos / **FP:** Falsos Positivos / **TN:** Verdadeiros Negativos / **FN:** Falsos Negativos\n",
        "\n",
        "**Accuracy:** Do total de instâncias, quantas classifiquei corretamente?\n",
        "\n",
        "$$ Accuracy = \\frac{TP + TN}{TP + FP + TN + FN} $$\n",
        "\n",
        "**Precision:** De todos que classifiquei como positivos, quantos são de fato positivos? \n",
        "\n",
        "$$ Precision = \\frac{TP}{TP + FP} $$\n",
        "\n",
        "**Recall:** De todos que são de fato positivos, quantos eu fui capaz de reconhecer? \n",
        "\n",
        "$$ Recall = \\frac{TP}{TP + FN}$$\n",
        "\n",
        "**F1:** Média harmônica da Precision e do Recall\n",
        "\n",
        "$$ F1 = \\frac{2}{\\frac{1}{Precision}+\\frac{1}{Recall}} $$"
      ]
    },
    {
      "cell_type": "markdown",
      "metadata": {
        "id": "ZXPgFxnNK95s"
      },
      "source": [
        "##Resumo dos resultados"
      ]
    },
    {
      "cell_type": "markdown",
      "metadata": {
        "id": "-xY2UlgGwPjo"
      },
      "source": [
        "**Resultado na Base de Treino após o GridSearch**"
      ]
    },
    {
      "cell_type": "code",
      "execution_count": null,
      "metadata": {
        "colab": {
          "background_save": true
        },
        "id": "R-xdbY41wVEx"
      },
      "outputs": [
        {
          "ename": "",
          "evalue": "",
          "output_type": "error",
          "traceback": [
            "\u001b[1;31mFailed to start the Kernel. \n",
            "\u001b[1;31mJupyter server crashed. Unable to connect. \n",
            "\u001b[1;31mError code from Jupyter: 1\n",
            "\u001b[1;31mTraceback (most recent call last):\n",
            "\u001b[1;31m  File \"/home/andsilva/.local/bin/jupyter-notebook\", line 5, in <module>\n",
            "\u001b[1;31m    from notebook.notebookapp import main\n",
            "\u001b[1;31m  File \"/home/andsilva/.local/lib/python3.10/site-packages/notebook/notebookapp.py\", line 57, in <module>\n",
            "\u001b[1;31m    raise ImportError(_(\"The Jupyter Notebook requires tornado >= 5.0, but you have %s\") % tornado.version)\n",
            "\u001b[1;31mImportError: The Jupyter Notebook requires tornado >= 5.0, but you have 4.5.3. \n",
            "\u001b[1;31mView Jupyter <a href='command:jupyter.viewOutput'>log</a> for further details."
          ]
        }
      ],
      "source": [
        "#Score com validação cruzada 5 fold na base de treino após o GridSearch\n",
        "score_gs_train_lr = resumo_xval_score(lr, default_X_prep, default_Y, 5)\n",
        "score_gs_train_bag_lr_2 = resumo_xval_score(bag_lr_2, default_X_prep, default_Y, 5)\n",
        "score_gs_train_tree_clf_3 = resumo_xval_score(tree_clf3, default_X_prep, default_Y, 5)\n",
        "score_gs_train_rndf_clf_2 = resumo_xval_score(rndf_clf_2, default_X_prep, default_Y, 5)\n",
        "score_gs_train_gd_clf_2 = resumo_xval_score(gb_clf_2, default_X_prep, default_Y, 5)"
      ]
    },
    {
      "cell_type": "code",
      "execution_count": null,
      "metadata": {
        "colab": {
          "background_save": true
        },
        "id": "QXz1rZhKwvx8",
        "outputId": "f54f5441-e5cd-41e8-9346-3298d550ae68"
      },
      "outputs": [
        {
          "ename": "",
          "evalue": "",
          "output_type": "error",
          "traceback": [
            "\u001b[1;31mFailed to start the Kernel. \n",
            "\u001b[1;31mJupyter server crashed. Unable to connect. \n",
            "\u001b[1;31mError code from Jupyter: 1\n",
            "\u001b[1;31mTraceback (most recent call last):\n",
            "\u001b[1;31m  File \"/home/andsilva/.local/bin/jupyter-notebook\", line 5, in <module>\n",
            "\u001b[1;31m    from notebook.notebookapp import main\n",
            "\u001b[1;31m  File \"/home/andsilva/.local/lib/python3.10/site-packages/notebook/notebookapp.py\", line 57, in <module>\n",
            "\u001b[1;31m    raise ImportError(_(\"The Jupyter Notebook requires tornado >= 5.0, but you have %s\") % tornado.version)\n",
            "\u001b[1;31mImportError: The Jupyter Notebook requires tornado >= 5.0, but you have 4.5.3. \n",
            "\u001b[1;31mView Jupyter <a href='command:jupyter.viewOutput'>log</a> for further details."
          ]
        }
      ],
      "source": [
        "#DataFrame com todos os resultados no conjunto de treino após o GridSearch\n",
        "score_gs_train_df = pd.DataFrame(\n",
        "    np.array([score_gs_train_lr, score_gs_train_bag_lr_2, score_gs_train_tree_clf_3, score_gs_train_rndf_clf_2, score_gs_train_gd_clf_2]),\n",
        "    index=['LR', 'LR BAG', 'Tree', 'RF', 'GB'],\n",
        "    columns=['Accuracy', 'Precision', 'Recall', 'F1']\n",
        "    )\n",
        "score_gs_train_df"
      ]
    },
    {
      "cell_type": "code",
      "execution_count": null,
      "metadata": {
        "colab": {
          "background_save": true
        },
        "id": "gbmT5Uv93JF8",
        "outputId": "3a3f3d28-6eb2-4cc0-f430-6f2ca2808c8f"
      },
      "outputs": [
        {
          "ename": "",
          "evalue": "",
          "output_type": "error",
          "traceback": [
            "\u001b[1;31mFailed to start the Kernel. \n",
            "\u001b[1;31mJupyter server crashed. Unable to connect. \n",
            "\u001b[1;31mError code from Jupyter: 1\n",
            "\u001b[1;31mTraceback (most recent call last):\n",
            "\u001b[1;31m  File \"/home/andsilva/.local/bin/jupyter-notebook\", line 5, in <module>\n",
            "\u001b[1;31m    from notebook.notebookapp import main\n",
            "\u001b[1;31m  File \"/home/andsilva/.local/lib/python3.10/site-packages/notebook/notebookapp.py\", line 57, in <module>\n",
            "\u001b[1;31m    raise ImportError(_(\"The Jupyter Notebook requires tornado >= 5.0, but you have %s\") % tornado.version)\n",
            "\u001b[1;31mImportError: The Jupyter Notebook requires tornado >= 5.0, but you have 4.5.3. \n",
            "\u001b[1;31mView Jupyter <a href='command:jupyter.viewOutput'>log</a> for further details."
          ]
        }
      ],
      "source": [
        "plt.figure(figsize=(15,15))\n",
        "plt.suptitle(\"Resultado na Base de Treino após GridSearch\", size='x-large', y=0.93, weight='bold')\n",
        "\n",
        "plt.subplot(4, 2, 1) # row 1, col 1 index 1\n",
        "plt.bar(x=score_gs_train_df.index, height=score_gs_train_df['Accuracy'])\n",
        "plt.title(\"Accuracy\")\n",
        "plt.ylim([0.7, 1])\n",
        "\n",
        "plt.subplot(4, 2, 4) # row 4, col 1 index 1\n",
        "plt.bar(x=score_gs_train_df.index, height=score_gs_train_df['F1'])\n",
        "plt.title(\"F1\")\n",
        "plt.ylim([0.7, 1])\n",
        "\n",
        "plt.subplot(4, 2, 2) # row 2, col 1 index 1\n",
        "plt.bar(x=score_gs_train_df.index, height=score_gs_train_df['Precision'])\n",
        "plt.title(\"Precision\")\n",
        "plt.ylim([0.7, 1])\n",
        "\n",
        "plt.subplot(4, 2, 3) # row 3, col 1 index 1\n",
        "plt.bar(x=score_gs_train_df.index, height=score_gs_train_df['Recall'])\n",
        "plt.title(\"Recall\")\n",
        "plt.ylim([0.7, 1])\n",
        "\n",
        "plt.show()"
      ]
    },
    {
      "cell_type": "markdown",
      "metadata": {
        "id": "2ib4_0AYwLam"
      },
      "source": [
        "**Resultado na Base de Teste após o GridSearch**"
      ]
    },
    {
      "cell_type": "code",
      "execution_count": null,
      "metadata": {
        "colab": {
          "background_save": true
        },
        "id": "3sRjwgite83a"
      },
      "outputs": [
        {
          "ename": "",
          "evalue": "",
          "output_type": "error",
          "traceback": [
            "\u001b[1;31mFailed to start the Kernel. \n",
            "\u001b[1;31mJupyter server crashed. Unable to connect. \n",
            "\u001b[1;31mError code from Jupyter: 1\n",
            "\u001b[1;31mTraceback (most recent call last):\n",
            "\u001b[1;31m  File \"/home/andsilva/.local/bin/jupyter-notebook\", line 5, in <module>\n",
            "\u001b[1;31m    from notebook.notebookapp import main\n",
            "\u001b[1;31m  File \"/home/andsilva/.local/lib/python3.10/site-packages/notebook/notebookapp.py\", line 57, in <module>\n",
            "\u001b[1;31m    raise ImportError(_(\"The Jupyter Notebook requires tornado >= 5.0, but you have %s\") % tornado.version)\n",
            "\u001b[1;31mImportError: The Jupyter Notebook requires tornado >= 5.0, but you have 4.5.3. \n",
            "\u001b[1;31mView Jupyter <a href='command:jupyter.viewOutput'>log</a> for further details."
          ]
        }
      ],
      "source": [
        "#Score com validação cruzada 5 fold na base de teste após o GridSearch\n",
        "score_gs_test_lr = resumo_xval_score(lr, default_X_test_prep, default_Y_test, 5)\n",
        "score_gs_test_bag_lr_2 = resumo_xval_score(bag_lr_2, default_X_test_prep, default_Y_test, 5)\n",
        "score_gs_test_tree_clf_3 = resumo_xval_score(tree_clf3, default_X_test_prep, default_Y_test, 5)\n",
        "score_gs_test_rndf_clf_2 = resumo_xval_score(rndf_clf_2, default_X_test_prep, default_Y_test, 5)\n",
        "score_gs_test_gd_clf_2 = resumo_xval_score(gb_clf_2, default_X_test_prep, default_Y_test, 5)"
      ]
    },
    {
      "cell_type": "code",
      "execution_count": null,
      "metadata": {
        "colab": {
          "background_save": true
        },
        "id": "5LJpe6WwxGEV",
        "outputId": "a530fa1b-6db1-48d2-8247-4a64dc4eece4"
      },
      "outputs": [
        {
          "ename": "",
          "evalue": "",
          "output_type": "error",
          "traceback": [
            "\u001b[1;31mFailed to start the Kernel. \n",
            "\u001b[1;31mJupyter server crashed. Unable to connect. \n",
            "\u001b[1;31mError code from Jupyter: 1\n",
            "\u001b[1;31mTraceback (most recent call last):\n",
            "\u001b[1;31m  File \"/home/andsilva/.local/bin/jupyter-notebook\", line 5, in <module>\n",
            "\u001b[1;31m    from notebook.notebookapp import main\n",
            "\u001b[1;31m  File \"/home/andsilva/.local/lib/python3.10/site-packages/notebook/notebookapp.py\", line 57, in <module>\n",
            "\u001b[1;31m    raise ImportError(_(\"The Jupyter Notebook requires tornado >= 5.0, but you have %s\") % tornado.version)\n",
            "\u001b[1;31mImportError: The Jupyter Notebook requires tornado >= 5.0, but you have 4.5.3. \n",
            "\u001b[1;31mView Jupyter <a href='command:jupyter.viewOutput'>log</a> for further details."
          ]
        }
      ],
      "source": [
        "#DataFrame com todos os resultados no conjunto de testes após o GridSearch\n",
        "score_gs_test_df = pd.DataFrame(\n",
        "    np.array([score_gs_test_lr, score_gs_test_bag_lr_2, score_gs_test_tree_clf_3, score_gs_test_rndf_clf_2, score_gs_test_gd_clf_2]),\n",
        "    index=['LR', 'LR BAG', 'Tree', 'RF', 'GB'],\n",
        "    columns=['Accuracy', 'Precision', 'Recall', 'F1']\n",
        "    )\n",
        "score_gs_test_df"
      ]
    },
    {
      "cell_type": "code",
      "execution_count": null,
      "metadata": {
        "colab": {
          "background_save": true
        },
        "id": "hOTjUrvyuOfG",
        "outputId": "4a102852-8cb0-4143-f1e9-4763c78410e6"
      },
      "outputs": [
        {
          "ename": "",
          "evalue": "",
          "output_type": "error",
          "traceback": [
            "\u001b[1;31mFailed to start the Kernel. \n",
            "\u001b[1;31mJupyter server crashed. Unable to connect. \n",
            "\u001b[1;31mError code from Jupyter: 1\n",
            "\u001b[1;31mTraceback (most recent call last):\n",
            "\u001b[1;31m  File \"/home/andsilva/.local/bin/jupyter-notebook\", line 5, in <module>\n",
            "\u001b[1;31m    from notebook.notebookapp import main\n",
            "\u001b[1;31m  File \"/home/andsilva/.local/lib/python3.10/site-packages/notebook/notebookapp.py\", line 57, in <module>\n",
            "\u001b[1;31m    raise ImportError(_(\"The Jupyter Notebook requires tornado >= 5.0, but you have %s\") % tornado.version)\n",
            "\u001b[1;31mImportError: The Jupyter Notebook requires tornado >= 5.0, but you have 4.5.3. \n",
            "\u001b[1;31mView Jupyter <a href='command:jupyter.viewOutput'>log</a> for further details."
          ]
        }
      ],
      "source": [
        "plt.figure(figsize=(15,15))\n",
        "plt.suptitle(\"Resultado na Base de Teste após GridSearch\", size='x-large', y=0.93, weight='bold')\n",
        "\n",
        "plt.subplot(4, 2, 1) # row 1, col 1 index 1\n",
        "plt.bar(x=score_gs_test_df.index, height=score_gs_test_df['Accuracy'])\n",
        "plt.title(\"Accuracy\")\n",
        "plt.ylim([0.7, 1])\n",
        "\n",
        "plt.subplot(4, 2, 4) # row 4, col 1 index 1\n",
        "plt.bar(x=score_gs_test_df.index, height=score_gs_test_df['F1'])\n",
        "plt.title(\"F1\")\n",
        "plt.ylim([0.7, 1])\n",
        "\n",
        "plt.subplot(4, 2, 2) # row 2, col 1 index 1\n",
        "plt.bar(x=score_gs_test_df.index, height=score_gs_test_df['Precision'])\n",
        "plt.title(\"Precision\")\n",
        "plt.ylim([0.7, 1])\n",
        "\n",
        "plt.subplot(4, 2, 3) # row 3, col 1 index 1\n",
        "plt.bar(x=score_gs_test_df.index, height=score_gs_test_df['Recall'])\n",
        "plt.title(\"Recall\")\n",
        "plt.ylim([0.7, 1])\n",
        "\n",
        "plt.show()"
      ]
    },
    {
      "cell_type": "markdown",
      "metadata": {
        "id": "XSfPvVuPOEvY"
      },
      "source": [
        "##Curva ROC"
      ]
    },
    {
      "cell_type": "code",
      "execution_count": null,
      "metadata": {
        "colab": {
          "background_save": true
        },
        "id": "oWZH_vAQWO7D"
      },
      "outputs": [
        {
          "ename": "",
          "evalue": "",
          "output_type": "error",
          "traceback": [
            "\u001b[1;31mFailed to start the Kernel. \n",
            "\u001b[1;31mJupyter server crashed. Unable to connect. \n",
            "\u001b[1;31mError code from Jupyter: 1\n",
            "\u001b[1;31mTraceback (most recent call last):\n",
            "\u001b[1;31m  File \"/home/andsilva/.local/bin/jupyter-notebook\", line 5, in <module>\n",
            "\u001b[1;31m    from notebook.notebookapp import main\n",
            "\u001b[1;31m  File \"/home/andsilva/.local/lib/python3.10/site-packages/notebook/notebookapp.py\", line 57, in <module>\n",
            "\u001b[1;31m    raise ImportError(_(\"The Jupyter Notebook requires tornado >= 5.0, but you have %s\") % tornado.version)\n",
            "\u001b[1;31mImportError: The Jupyter Notebook requires tornado >= 5.0, but you have 4.5.3. \n",
            "\u001b[1;31mView Jupyter <a href='command:jupyter.viewOutput'>log</a> for further details."
          ]
        }
      ],
      "source": [
        "from sklearn.metrics import precision_recall_curve\n",
        "from sklearn.metrics import roc_curve\n",
        "from sklearn.metrics import roc_auc_score"
      ]
    },
    {
      "cell_type": "code",
      "execution_count": null,
      "metadata": {
        "colab": {
          "background_save": true
        },
        "id": "YN8srZ7yYvFV"
      },
      "outputs": [
        {
          "ename": "",
          "evalue": "",
          "output_type": "error",
          "traceback": [
            "\u001b[1;31mFailed to start the Kernel. \n",
            "\u001b[1;31mJupyter server crashed. Unable to connect. \n",
            "\u001b[1;31mError code from Jupyter: 1\n",
            "\u001b[1;31mTraceback (most recent call last):\n",
            "\u001b[1;31m  File \"/home/andsilva/.local/bin/jupyter-notebook\", line 5, in <module>\n",
            "\u001b[1;31m    from notebook.notebookapp import main\n",
            "\u001b[1;31m  File \"/home/andsilva/.local/lib/python3.10/site-packages/notebook/notebookapp.py\", line 57, in <module>\n",
            "\u001b[1;31m    raise ImportError(_(\"The Jupyter Notebook requires tornado >= 5.0, but you have %s\") % tornado.version)\n",
            "\u001b[1;31mImportError: The Jupyter Notebook requires tornado >= 5.0, but you have 4.5.3. \n",
            "\u001b[1;31mView Jupyter <a href='command:jupyter.viewOutput'>log</a> for further details."
          ]
        }
      ],
      "source": [
        "def plot_roc_curve(fpr, tpr, label=None):\n",
        "    plt.plot(fpr, tpr, linewidth=2, label=label)\n",
        "    plt.plot([0, 1], [0, 1], 'k--') \n",
        "    plt.axis([0, 1, 0, 1])                                    \n",
        "    plt.xlabel('False Positive Rate (Fall-Out)', fontsize=16) \n",
        "    plt.ylabel('True Positive Rate (Recall)', fontsize=16)    \n",
        "    plt.grid(True)                                            "
      ]
    },
    {
      "cell_type": "code",
      "execution_count": null,
      "metadata": {
        "colab": {
          "background_save": true
        },
        "id": "MzMRciHLY8QN"
      },
      "outputs": [
        {
          "ename": "",
          "evalue": "",
          "output_type": "error",
          "traceback": [
            "\u001b[1;31mFailed to start the Kernel. \n",
            "\u001b[1;31mJupyter server crashed. Unable to connect. \n",
            "\u001b[1;31mError code from Jupyter: 1\n",
            "\u001b[1;31mTraceback (most recent call last):\n",
            "\u001b[1;31m  File \"/home/andsilva/.local/bin/jupyter-notebook\", line 5, in <module>\n",
            "\u001b[1;31m    from notebook.notebookapp import main\n",
            "\u001b[1;31m  File \"/home/andsilva/.local/lib/python3.10/site-packages/notebook/notebookapp.py\", line 57, in <module>\n",
            "\u001b[1;31m    raise ImportError(_(\"The Jupyter Notebook requires tornado >= 5.0, but you have %s\") % tornado.version)\n",
            "\u001b[1;31mImportError: The Jupyter Notebook requires tornado >= 5.0, but you have 4.5.3. \n",
            "\u001b[1;31mView Jupyter <a href='command:jupyter.viewOutput'>log</a> for further details."
          ]
        }
      ],
      "source": [
        "fpr_lr, tpr_lr, thresholds_lr = roc_curve(default_Y_test, xpred_test_lr)"
      ]
    },
    {
      "cell_type": "code",
      "execution_count": null,
      "metadata": {
        "colab": {
          "background_save": true
        },
        "id": "d7OmsI1k_YtF"
      },
      "outputs": [
        {
          "ename": "",
          "evalue": "",
          "output_type": "error",
          "traceback": [
            "\u001b[1;31mFailed to start the Kernel. \n",
            "\u001b[1;31mJupyter server crashed. Unable to connect. \n",
            "\u001b[1;31mError code from Jupyter: 1\n",
            "\u001b[1;31mTraceback (most recent call last):\n",
            "\u001b[1;31m  File \"/home/andsilva/.local/bin/jupyter-notebook\", line 5, in <module>\n",
            "\u001b[1;31m    from notebook.notebookapp import main\n",
            "\u001b[1;31m  File \"/home/andsilva/.local/lib/python3.10/site-packages/notebook/notebookapp.py\", line 57, in <module>\n",
            "\u001b[1;31m    raise ImportError(_(\"The Jupyter Notebook requires tornado >= 5.0, but you have %s\") % tornado.version)\n",
            "\u001b[1;31mImportError: The Jupyter Notebook requires tornado >= 5.0, but you have 4.5.3. \n",
            "\u001b[1;31mView Jupyter <a href='command:jupyter.viewOutput'>log</a> for further details."
          ]
        }
      ],
      "source": [
        "fpr_bag_lr, tpr_bag_lr, thresholds_bag_lr = roc_curve(default_Y_test, cross_pred_test_bag_lr_2)"
      ]
    },
    {
      "cell_type": "code",
      "execution_count": null,
      "metadata": {
        "colab": {
          "background_save": true
        },
        "id": "6z4LFrYsCeMH"
      },
      "outputs": [
        {
          "ename": "",
          "evalue": "",
          "output_type": "error",
          "traceback": [
            "\u001b[1;31mFailed to start the Kernel. \n",
            "\u001b[1;31mJupyter server crashed. Unable to connect. \n",
            "\u001b[1;31mError code from Jupyter: 1\n",
            "\u001b[1;31mTraceback (most recent call last):\n",
            "\u001b[1;31m  File \"/home/andsilva/.local/bin/jupyter-notebook\", line 5, in <module>\n",
            "\u001b[1;31m    from notebook.notebookapp import main\n",
            "\u001b[1;31m  File \"/home/andsilva/.local/lib/python3.10/site-packages/notebook/notebookapp.py\", line 57, in <module>\n",
            "\u001b[1;31m    raise ImportError(_(\"The Jupyter Notebook requires tornado >= 5.0, but you have %s\") % tornado.version)\n",
            "\u001b[1;31mImportError: The Jupyter Notebook requires tornado >= 5.0, but you have 4.5.3. \n",
            "\u001b[1;31mView Jupyter <a href='command:jupyter.viewOutput'>log</a> for further details."
          ]
        }
      ],
      "source": [
        "fpr_tree, tpr_tree, thresholds_tree = roc_curve(default_Y_test, xpred_test_tree_clf_3)"
      ]
    },
    {
      "cell_type": "code",
      "execution_count": null,
      "metadata": {
        "colab": {
          "background_save": true
        },
        "id": "l13kWQp5Cnh8"
      },
      "outputs": [
        {
          "ename": "",
          "evalue": "",
          "output_type": "error",
          "traceback": [
            "\u001b[1;31mFailed to start the Kernel. \n",
            "\u001b[1;31mJupyter server crashed. Unable to connect. \n",
            "\u001b[1;31mError code from Jupyter: 1\n",
            "\u001b[1;31mTraceback (most recent call last):\n",
            "\u001b[1;31m  File \"/home/andsilva/.local/bin/jupyter-notebook\", line 5, in <module>\n",
            "\u001b[1;31m    from notebook.notebookapp import main\n",
            "\u001b[1;31m  File \"/home/andsilva/.local/lib/python3.10/site-packages/notebook/notebookapp.py\", line 57, in <module>\n",
            "\u001b[1;31m    raise ImportError(_(\"The Jupyter Notebook requires tornado >= 5.0, but you have %s\") % tornado.version)\n",
            "\u001b[1;31mImportError: The Jupyter Notebook requires tornado >= 5.0, but you have 4.5.3. \n",
            "\u001b[1;31mView Jupyter <a href='command:jupyter.viewOutput'>log</a> for further details."
          ]
        }
      ],
      "source": [
        "fpr_rndf, tpr_rndf, thresholds_rndf = roc_curve(default_Y_test, cross_pred_test_rndf_clf_2)"
      ]
    },
    {
      "cell_type": "code",
      "execution_count": null,
      "metadata": {
        "id": "oHXDRJISvAG9"
      },
      "outputs": [
        {
          "ename": "",
          "evalue": "",
          "output_type": "error",
          "traceback": [
            "\u001b[1;31mFailed to start the Kernel. \n",
            "\u001b[1;31mJupyter server crashed. Unable to connect. \n",
            "\u001b[1;31mError code from Jupyter: 1\n",
            "\u001b[1;31mTraceback (most recent call last):\n",
            "\u001b[1;31m  File \"/home/andsilva/.local/bin/jupyter-notebook\", line 5, in <module>\n",
            "\u001b[1;31m    from notebook.notebookapp import main\n",
            "\u001b[1;31m  File \"/home/andsilva/.local/lib/python3.10/site-packages/notebook/notebookapp.py\", line 57, in <module>\n",
            "\u001b[1;31m    raise ImportError(_(\"The Jupyter Notebook requires tornado >= 5.0, but you have %s\") % tornado.version)\n",
            "\u001b[1;31mImportError: The Jupyter Notebook requires tornado >= 5.0, but you have 4.5.3. \n",
            "\u001b[1;31mView Jupyter <a href='command:jupyter.viewOutput'>log</a> for further details."
          ]
        }
      ],
      "source": [
        "fpr_gb, tpr_gb, thresholds_gb = roc_curve(default_Y_test, xpred_test_gb_clf_2)"
      ]
    },
    {
      "cell_type": "code",
      "execution_count": null,
      "metadata": {
        "colab": {
          "base_uri": "https://localhost:8080/",
          "height": 873
        },
        "id": "P8Ki3ZYxYyuU",
        "outputId": "2255f03e-710f-4b3d-eb33-4b09608bcc70"
      },
      "outputs": [
        {
          "ename": "",
          "evalue": "",
          "output_type": "error",
          "traceback": [
            "\u001b[1;31mFailed to start the Kernel. \n",
            "\u001b[1;31mJupyter server crashed. Unable to connect. \n",
            "\u001b[1;31mError code from Jupyter: 1\n",
            "\u001b[1;31mTraceback (most recent call last):\n",
            "\u001b[1;31m  File \"/home/andsilva/.local/bin/jupyter-notebook\", line 5, in <module>\n",
            "\u001b[1;31m    from notebook.notebookapp import main\n",
            "\u001b[1;31m  File \"/home/andsilva/.local/lib/python3.10/site-packages/notebook/notebookapp.py\", line 57, in <module>\n",
            "\u001b[1;31m    raise ImportError(_(\"The Jupyter Notebook requires tornado >= 5.0, but you have %s\") % tornado.version)\n",
            "\u001b[1;31mImportError: The Jupyter Notebook requires tornado >= 5.0, but you have 4.5.3. \n",
            "\u001b[1;31mView Jupyter <a href='command:jupyter.viewOutput'>log</a> for further details."
          ]
        }
      ],
      "source": [
        "plt.figure(figsize=(16, 12))                                    # Not shown\n",
        "plot_roc_curve(fpr_lr, tpr_lr, label='Regressão Logística')\n",
        "plot_roc_curve(fpr_bag_lr, tpr_bag_lr, label='Regressão Logística c/ Bagging')\n",
        "plot_roc_curve(fpr_tree, tpr_tree, label='Árvore de Decisão')\n",
        "plot_roc_curve(fpr_rndf, tpr_rndf, label='Random Forest')\n",
        "plot_roc_curve(fpr_gb, tpr_gb, label='Gradient Boosting')\n",
        "plt.legend(loc=\"lower right\")\n",
        "plt.title('Curva ROC', fontweight=\"bold\")\n",
        "plt.show()"
      ]
    },
    {
      "cell_type": "markdown",
      "metadata": {
        "id": "UV-_djBhWF4X"
      },
      "source": [
        "#Conclusões"
      ]
    },
    {
      "cell_type": "markdown",
      "metadata": {
        "id": "TuZkB6CEbu8x"
      },
      "source": [
        "Após os tratamentos dos dados e aplicações dos modelos, utilizamos algumas métricas para avaliar seu desempenho. Dentre elas destacamos Acurácia, Precisão, Recall e F1-Score.\n",
        "\n",
        "Cabe ressaltar que, para análise de default onde o modelo deverá classificar como 0 (não default) e 1 (como defaut) , destacamos a importância da métrica de Recall, pois a mesma, dentre as situações de Classe Positivo, mostra quantas estão corretas. \n",
        "\n",
        "Nessa caso entendemos que Falsos Negativos são mais prejudiciais que os Falsos Positivos, pois classificar como não default (0) quando na verdade seria default, pode gerar grande prejuízo para empresa.\n",
        "\n",
        "Dentre os modelos utilizados, o que apresentou maior Recall foi o Gradient Boosting (82%), ou seja ele detecta 82% dos default (1). Destacamos que este modelo apresentou a pior performance segundo Accuracy, Precision e F1.\n",
        "\n",
        "Quando olhamos para métrica F1, que é a média harmônica entre precisão e Recall, modelo que melhor desempenha é o de Random Florest, porém ele leva a uma perda do Recall\n",
        "\n",
        "Buscando um melhor Recall e com maior F1 possível, o modelo de Gradient Boosting alcança F1 considerável com Recall superior aos demais, mantendo um bom nível de precisão dentre os níveis dos demais modelos.\n",
        "\n",
        "É importante pontuar que os GridSearch foram executados sem a definição do scoring, portanto buscaram otimizar a Accuracy. Um ponto de melhoria seria rodá-los definindo o *scoring* para Recall ou F1.\n",
        "\n",
        "Além disso, devido ao tempo de processamento e quantidade de modelos, não foi possível explorar mais opções de parâmetros nos GridSearch, o que também pode ser um ponto de melhoria a ser abordado em um estudo subsequente."
      ]
    },
    {
      "cell_type": "code",
      "execution_count": null,
      "metadata": {
        "id": "hXg_cHzyU23A"
      },
      "outputs": [
        {
          "ename": "",
          "evalue": "",
          "output_type": "error",
          "traceback": [
            "\u001b[1;31mFailed to start the Kernel. \n",
            "\u001b[1;31mJupyter server crashed. Unable to connect. \n",
            "\u001b[1;31mError code from Jupyter: 1\n",
            "\u001b[1;31mTraceback (most recent call last):\n",
            "\u001b[1;31m  File \"/home/andsilva/.local/bin/jupyter-notebook\", line 5, in <module>\n",
            "\u001b[1;31m    from notebook.notebookapp import main\n",
            "\u001b[1;31m  File \"/home/andsilva/.local/lib/python3.10/site-packages/notebook/notebookapp.py\", line 57, in <module>\n",
            "\u001b[1;31m    raise ImportError(_(\"The Jupyter Notebook requires tornado >= 5.0, but you have %s\") % tornado.version)\n",
            "\u001b[1;31mImportError: The Jupyter Notebook requires tornado >= 5.0, but you have 4.5.3. \n",
            "\u001b[1;31mView Jupyter <a href='command:jupyter.viewOutput'>log</a> for further details."
          ]
        }
      ],
      "source": [
        "# Setup plotting\n",
        "import matplotlib.pyplot as plt\n",
        "import pandas as pd\n",
        "import numpy as np\n",
        "\n",
        "import tensorflow as tf\n",
        "from tensorflow import keras\n",
        "from tensorflow.keras import layers\n",
        "from tensorflow.keras.callbacks import EarlyStopping\n",
        "\n",
        "plt.style.use('seaborn-whitegrid')\n",
        "# Set Matplotlib defaults\n",
        "plt.rc('figure', autolayout=True)\n",
        "plt.rc('axes', labelweight='bold', labelsize='large',\n",
        "       titleweight='bold', titlesize=18, titlepad=10)"
      ]
    },
    {
      "cell_type": "code",
      "execution_count": null,
      "metadata": {
        "id": "RBIT--vMVs2z"
      },
      "outputs": [
        {
          "ename": "",
          "evalue": "",
          "output_type": "error",
          "traceback": [
            "\u001b[1;31mFailed to start the Kernel. \n",
            "\u001b[1;31mJupyter server crashed. Unable to connect. \n",
            "\u001b[1;31mError code from Jupyter: 1\n",
            "\u001b[1;31mTraceback (most recent call last):\n",
            "\u001b[1;31m  File \"/home/andsilva/.local/bin/jupyter-notebook\", line 5, in <module>\n",
            "\u001b[1;31m    from notebook.notebookapp import main\n",
            "\u001b[1;31m  File \"/home/andsilva/.local/lib/python3.10/site-packages/notebook/notebookapp.py\", line 57, in <module>\n",
            "\u001b[1;31m    raise ImportError(_(\"The Jupyter Notebook requires tornado >= 5.0, but you have %s\") % tornado.version)\n",
            "\u001b[1;31mImportError: The Jupyter Notebook requires tornado >= 5.0, but you have 4.5.3. \n",
            "\u001b[1;31mView Jupyter <a href='command:jupyter.viewOutput'>log</a> for further details."
          ]
        }
      ],
      "source": [
        "model = keras.Sequential([layers.Dense(1024, activation='relu'),\n",
        "                          layers.Dropout(0.3),\n",
        "                          layers.BatchNormalization(),\n",
        "                          layers.Dense(1024, activation='relu'),\n",
        "                          layers.Dropout(0.3),\n",
        "                          layers.BatchNormalization(),\n",
        "                          layers.Dense(1024, activation='relu'),\n",
        "                          layers.Dropout(0.3),\n",
        "                          layers.BatchNormalization(),\n",
        "                          layers.Dense(1),\n",
        "                         ])\n",
        "\n",
        "model.compile(optimizer='adam', loss='mae',)\n",
        "\n",
        "history = model.fit(default_X_prep, default_Y,\n",
        "                    validation_data=(default_X_test_prep, default_Y_test),\n",
        "                    batch_size=256,\n",
        "                    epochs=100,\n",
        "                    verbose=0,\n",
        "                   )"
      ]
    },
    {
      "cell_type": "code",
      "execution_count": null,
      "metadata": {
        "colab": {
          "base_uri": "https://localhost:8080/",
          "height": 297
        },
        "id": "oeA7JMiWW6fE",
        "outputId": "094d720c-4694-4a71-894d-f5044fb2906e"
      },
      "outputs": [
        {
          "ename": "",
          "evalue": "",
          "output_type": "error",
          "traceback": [
            "\u001b[1;31mFailed to start the Kernel. \n",
            "\u001b[1;31mJupyter server crashed. Unable to connect. \n",
            "\u001b[1;31mError code from Jupyter: 1\n",
            "\u001b[1;31mTraceback (most recent call last):\n",
            "\u001b[1;31m  File \"/home/andsilva/.local/bin/jupyter-notebook\", line 5, in <module>\n",
            "\u001b[1;31m    from notebook.notebookapp import main\n",
            "\u001b[1;31m  File \"/home/andsilva/.local/lib/python3.10/site-packages/notebook/notebookapp.py\", line 57, in <module>\n",
            "\u001b[1;31m    raise ImportError(_(\"The Jupyter Notebook requires tornado >= 5.0, but you have %s\") % tornado.version)\n",
            "\u001b[1;31mImportError: The Jupyter Notebook requires tornado >= 5.0, but you have 4.5.3. \n",
            "\u001b[1;31mView Jupyter <a href='command:jupyter.viewOutput'>log</a> for further details."
          ]
        }
      ],
      "source": [
        "# Show the learning curves\n",
        "history_df = pd.DataFrame(history.history)\n",
        "history_df.loc[:, ['loss', 'val_loss']].plot();"
      ]
    },
    {
      "cell_type": "code",
      "execution_count": null,
      "metadata": {
        "colab": {
          "background_save": true
        },
        "id": "2m6eGls9XM8B",
        "outputId": "4e4b7674-3f3b-468e-d69f-34bf5e5004ea"
      },
      "outputs": [
        {
          "ename": "",
          "evalue": "",
          "output_type": "error",
          "traceback": [
            "\u001b[1;31mFailed to start the Kernel. \n",
            "\u001b[1;31mJupyter server crashed. Unable to connect. \n",
            "\u001b[1;31mError code from Jupyter: 1\n",
            "\u001b[1;31mTraceback (most recent call last):\n",
            "\u001b[1;31m  File \"/home/andsilva/.local/bin/jupyter-notebook\", line 5, in <module>\n",
            "\u001b[1;31m    from notebook.notebookapp import main\n",
            "\u001b[1;31m  File \"/home/andsilva/.local/lib/python3.10/site-packages/notebook/notebookapp.py\", line 57, in <module>\n",
            "\u001b[1;31m    raise ImportError(_(\"The Jupyter Notebook requires tornado >= 5.0, but you have %s\") % tornado.version)\n",
            "\u001b[1;31mImportError: The Jupyter Notebook requires tornado >= 5.0, but you have 4.5.3. \n",
            "\u001b[1;31mView Jupyter <a href='command:jupyter.viewOutput'>log</a> for further details."
          ]
        }
      ],
      "source": [
        "early_stopping = EarlyStopping(min_delta=0.001, # minimium amount of change to count as an improvement\n",
        "                               patience=20, # how many epochs to wait before stopping\n",
        "                               restore_best_weights=True,\n",
        "                              )\n",
        "\n",
        "model_stop = keras.Sequential([layers.Dense(512, activation='relu'),\n",
        "                          layers.Dense(512, activation='relu'),\n",
        "                          layers.Dense(512, activation='relu'),\n",
        "                          layers.Dense(1),\n",
        "                         ])\n",
        "\n",
        "model_stop.compile(optimizer='adam',loss='mae',)\n",
        "\n",
        "history2 = model_stop.fit(default_X_prep, default_Y,\n",
        "                    validation_data=(default_X_test_prep, default_Y_test),\n",
        "                    batch_size=256,\n",
        "                    epochs=100,\n",
        "                    callbacks=[early_stopping],\n",
        "                    verbose=0,  # turn off training log\n",
        "                   )\n",
        "\n",
        "history_df2 = pd.DataFrame(history2.history)\n",
        "history_df2.loc[:, ['loss', 'val_loss']].plot();\n",
        "print(\"Minimum validation loss: {}\".format(history_df2['val_loss'].min()))"
      ]
    }
  ],
  "metadata": {
    "colab": {
      "provenance": []
    },
    "kernelspec": {
      "display_name": "Python 3",
      "language": "python",
      "name": "python3"
    },
    "language_info": {
      "codemirror_mode": {
        "name": "ipython",
        "version": 3
      },
      "file_extension": ".py",
      "mimetype": "text/x-python",
      "name": "python",
      "nbconvert_exporter": "python",
      "pygments_lexer": "ipython3",
      "version": "3.10.10"
    },
    "vscode": {
      "interpreter": {
        "hash": "aee8b7b246df8f9039afb4144a1f6fd8d2ca17a180786b69acc140d282b71a49"
      }
    }
  },
  "nbformat": 4,
  "nbformat_minor": 0
}
